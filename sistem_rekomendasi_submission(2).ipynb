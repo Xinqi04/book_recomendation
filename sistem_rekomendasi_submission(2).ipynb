{
  "metadata": {
    "kernelspec": {
      "name": "python3",
      "display_name": "Python 3",
      "language": "python"
    },
    "language_info": {
      "name": "python",
      "version": "3.11.11",
      "mimetype": "text/x-python",
      "codemirror_mode": {
        "name": "ipython",
        "version": 3
      },
      "pygments_lexer": "ipython3",
      "nbconvert_exporter": "python",
      "file_extension": ".py"
    },
    "accelerator": "GPU",
    "colab": {
      "collapsed_sections": [
        "MGcoaj_NIp5D",
        "2UZUEJNJJSvO",
        "qvWybglRJw7z",
        "sMxOoXsvKApS",
        "IWajMv4iPIHC",
        "gohEIZ2VcAWG",
        "HGX8aTDpcn4C"
      ],
      "gpuType": "T4",
      "provenance": []
    },
    "kaggle": {
      "accelerator": "nvidiaTeslaT4",
      "dataSources": [
        {
          "sourceId": 11519638,
          "sourceType": "datasetVersion",
          "datasetId": 7224694
        }
      ],
      "dockerImageVersionId": 31041,
      "isInternetEnabled": true,
      "language": "python",
      "sourceType": "notebook",
      "isGpuEnabled": true
    }
  },
  "nbformat_minor": 0,
  "nbformat": 4,
  "cells": [
    {
      "cell_type": "markdown",
      "source": [
        "# Load dataset"
      ],
      "metadata": {
        "id": "MGcoaj_NIp5D"
      }
    },
    {
      "cell_type": "markdown",
      "source": [
        "### Lihat isi folder dataset"
      ],
      "metadata": {
        "id": "VKnykJljImSu"
      }
    },
    {
      "cell_type": "code",
      "source": [
        "import kagglehub\n",
        "path = kagglehub.dataset_download(\"onsrajhi/book-recommendation-system\")\n",
        "\n",
        "print(\"Path to dataset files:\", path)"
      ],
      "metadata": {
        "trusted": true,
        "execution": {
          "iopub.status.busy": "2025-05-29T02:36:16.982737Z",
          "iopub.execute_input": "2025-05-29T02:36:16.982978Z",
          "iopub.status.idle": "2025-05-29T02:36:17.011919Z",
          "shell.execute_reply.started": "2025-05-29T02:36:16.982958Z",
          "shell.execute_reply": "2025-05-29T02:36:17.011393Z"
        },
        "colab": {
          "base_uri": "https://localhost:8080/"
        },
        "id": "orQYoQfBsFq9",
        "outputId": "1c0f7ec9-b699-4017-9de1-a6c380666f33"
      },
      "outputs": [
        {
          "output_type": "stream",
          "name": "stdout",
          "text": [
            "Downloading from https://www.kaggle.com/api/v1/datasets/download/onsrajhi/book-recommendation-system?dataset_version_number=1...\n"
          ]
        },
        {
          "output_type": "stream",
          "name": "stderr",
          "text": [
            "100%|██████████| 23.8M/23.8M [00:01<00:00, 21.1MB/s]"
          ]
        },
        {
          "output_type": "stream",
          "name": "stdout",
          "text": [
            "Extracting files...\n"
          ]
        },
        {
          "output_type": "stream",
          "name": "stderr",
          "text": [
            "\n"
          ]
        },
        {
          "output_type": "stream",
          "name": "stdout",
          "text": [
            "Path to dataset files: /root/.cache/kagglehub/datasets/onsrajhi/book-recommendation-system/versions/1\n"
          ]
        }
      ],
      "execution_count": 1
    },
    {
      "cell_type": "code",
      "source": [
        "import os\n",
        "\n",
        "print(\"Files in dataset path:\")\n",
        "print(os.listdir(path))"
      ],
      "metadata": {
        "colab": {
          "base_uri": "https://localhost:8080/"
        },
        "id": "xsgN69JCsNsN",
        "outputId": "eee986cc-a702-4811-bafa-ed5f9132adfa"
      },
      "execution_count": 2,
      "outputs": [
        {
          "output_type": "stream",
          "name": "stdout",
          "text": [
            "Files in dataset path:\n",
            "['Users.csv', 'Ratings.csv', 'Books.csv']\n"
          ]
        }
      ]
    },
    {
      "cell_type": "code",
      "source": [
        "import pandas as pd\n",
        "\n",
        "books = pd.read_csv(os.path.join(path, \"Books.csv\"))\n",
        "users = pd.read_csv(os.path.join(path, \"Users.csv\"))\n",
        "ratings = pd.read_csv(os.path.join(path, \"Ratings.csv\"))\n"
      ],
      "metadata": {
        "colab": {
          "base_uri": "https://localhost:8080/"
        },
        "id": "zltj1fbKISlb",
        "outputId": "7bd9bf4e-6541-498b-941a-cda9d17248f9",
        "trusted": true,
        "execution": {
          "iopub.status.busy": "2025-05-29T02:36:17.012604Z",
          "iopub.execute_input": "2025-05-29T02:36:17.012859Z",
          "iopub.status.idle": "2025-05-29T02:36:18.981252Z",
          "shell.execute_reply.started": "2025-05-29T02:36:17.012834Z",
          "shell.execute_reply": "2025-05-29T02:36:18.980745Z"
        }
      },
      "outputs": [
        {
          "output_type": "stream",
          "name": "stderr",
          "text": [
            "<ipython-input-3-750e612e119a>:3: DtypeWarning: Columns (3) have mixed types. Specify dtype option on import or set low_memory=False.\n",
            "  books = pd.read_csv(os.path.join(path, \"Books.csv\"))\n"
          ]
        }
      ],
      "execution_count": 3
    },
    {
      "cell_type": "markdown",
      "source": [
        "Jika diunduh dataset nya"
      ],
      "metadata": {
        "id": "Sx8m7fO5sFq_"
      }
    },
    {
      "cell_type": "code",
      "source": [
        "# import pandas as pd\n",
        "\n",
        "# books = pd.read_csv(\"Books.csv\")\n",
        "# users = pd.read_csv(\"Users.csv\")\n",
        "# ratings = pd.read_csv(\"Ratings.csv\")"
      ],
      "metadata": {
        "trusted": true,
        "id": "HM9qvCT0sFq_"
      },
      "outputs": [],
      "execution_count": 4
    },
    {
      "cell_type": "markdown",
      "source": [
        "Ukuran masing-masing dataset"
      ],
      "metadata": {
        "id": "HVlBl39vsFrA"
      }
    },
    {
      "cell_type": "code",
      "source": [
        "print(\"Books:\", books.shape)\n",
        "print(\"Users:\", users.shape)\n",
        "print(\"Ratings:\", ratings.shape)\n"
      ],
      "metadata": {
        "colab": {
          "base_uri": "https://localhost:8080/"
        },
        "id": "OiJyWUlLIdIB",
        "outputId": "da2e4588-c917-4ea6-f690-bd7a0f1a542a",
        "trusted": true,
        "execution": {
          "iopub.status.busy": "2025-05-29T02:36:18.983059Z",
          "iopub.execute_input": "2025-05-29T02:36:18.983289Z",
          "iopub.status.idle": "2025-05-29T02:36:18.987448Z",
          "shell.execute_reply.started": "2025-05-29T02:36:18.983272Z",
          "shell.execute_reply": "2025-05-29T02:36:18.986916Z"
        }
      },
      "outputs": [
        {
          "output_type": "stream",
          "name": "stdout",
          "text": [
            "Books: (271360, 8)\n",
            "Users: (278858, 3)\n",
            "Ratings: (1149780, 3)\n"
          ]
        }
      ],
      "execution_count": 5
    },
    {
      "cell_type": "markdown",
      "source": [
        "# Data Understanding"
      ],
      "metadata": {
        "id": "2UZUEJNJJSvO"
      }
    },
    {
      "cell_type": "markdown",
      "source": [
        "## Book"
      ],
      "metadata": {
        "id": "Trv2RXCoJam7"
      }
    },
    {
      "cell_type": "code",
      "source": [
        "print(\"Kolom pada Books.csv:\")\n",
        "books.columns.tolist()"
      ],
      "metadata": {
        "colab": {
          "base_uri": "https://localhost:8080/"
        },
        "id": "IhWhytYPJSow",
        "outputId": "4219b8b4-19c7-4225-c216-7ccf2308362b",
        "trusted": true,
        "execution": {
          "iopub.status.busy": "2025-05-29T02:36:18.988043Z",
          "iopub.execute_input": "2025-05-29T02:36:18.988277Z",
          "iopub.status.idle": "2025-05-29T02:36:19.007629Z",
          "shell.execute_reply.started": "2025-05-29T02:36:18.988257Z",
          "shell.execute_reply": "2025-05-29T02:36:19.007027Z"
        }
      },
      "outputs": [
        {
          "output_type": "stream",
          "name": "stdout",
          "text": [
            "Kolom pada Books.csv:\n"
          ]
        },
        {
          "output_type": "execute_result",
          "data": {
            "text/plain": [
              "['ISBN',\n",
              " 'Book-Title',\n",
              " 'Book-Author',\n",
              " 'Year-Of-Publication',\n",
              " 'Publisher',\n",
              " 'Image-URL-S',\n",
              " 'Image-URL-M',\n",
              " 'Image-URL-L']"
            ]
          },
          "metadata": {},
          "execution_count": 6
        }
      ],
      "execution_count": 6
    },
    {
      "cell_type": "markdown",
      "source": [
        "- ISBN: Singkatan dari International Standard Book Number. Ini adalah nomor identifikasi unik untuk setiap edisi buku yang diterbitkan secara komersial. Mirip dengan sidik jari untuk buku.\n",
        "- Book-Title: Judul lengkap dari buku tersebut.\n",
        "- Book-Author: Nama penulis atau para penulis dari buku tersebut.\n",
        "- Year-Of-Publication: Tahun di mana buku tersebut pertama kali diterbitkan.\n",
        "- Publisher: Nama penerbit buku tersebut.\n",
        "- Image-URL-S: URL (alamat web) dari gambar sampul buku dalam ukuran kecil (Small).\n",
        "- Image-URL-M: URL (alamat web) dari gambar sampul buku dalam ukuran sedang (Medium).\n",
        "- Image-URL-L: URL (alamat web) dari gambar sampul buku dalam ukuran besar (Large)."
      ],
      "metadata": {
        "id": "zWKBuSY-JoRH"
      }
    },
    {
      "cell_type": "code",
      "source": [
        "books.head()"
      ],
      "metadata": {
        "colab": {
          "base_uri": "https://localhost:8080/",
          "height": 293
        },
        "id": "94l1rD1FKlMj",
        "outputId": "1a89bae4-93fb-443a-9d8a-668309fb31de",
        "trusted": true,
        "execution": {
          "iopub.status.busy": "2025-05-29T02:36:19.008309Z",
          "iopub.execute_input": "2025-05-29T02:36:19.008535Z",
          "iopub.status.idle": "2025-05-29T02:36:19.029246Z",
          "shell.execute_reply.started": "2025-05-29T02:36:19.008517Z",
          "shell.execute_reply": "2025-05-29T02:36:19.028638Z"
        }
      },
      "outputs": [
        {
          "output_type": "execute_result",
          "data": {
            "text/plain": [
              "         ISBN                                         Book-Title  \\\n",
              "0  0195153448                                Classical Mythology   \n",
              "1  0002005018                                       Clara Callan   \n",
              "2  0060973129                               Decision in Normandy   \n",
              "3  0374157065  Flu: The Story of the Great Influenza Pandemic...   \n",
              "4  0393045218                             The Mummies of Urumchi   \n",
              "\n",
              "            Book-Author Year-Of-Publication                   Publisher  \\\n",
              "0    Mark P. O. Morford                2002     Oxford University Press   \n",
              "1  Richard Bruce Wright                2001       HarperFlamingo Canada   \n",
              "2          Carlo D'Este                1991             HarperPerennial   \n",
              "3      Gina Bari Kolata                1999        Farrar Straus Giroux   \n",
              "4       E. J. W. Barber                1999  W. W. Norton &amp; Company   \n",
              "\n",
              "                                         Image-URL-S  \\\n",
              "0  http://images.amazon.com/images/P/0195153448.0...   \n",
              "1  http://images.amazon.com/images/P/0002005018.0...   \n",
              "2  http://images.amazon.com/images/P/0060973129.0...   \n",
              "3  http://images.amazon.com/images/P/0374157065.0...   \n",
              "4  http://images.amazon.com/images/P/0393045218.0...   \n",
              "\n",
              "                                         Image-URL-M  \\\n",
              "0  http://images.amazon.com/images/P/0195153448.0...   \n",
              "1  http://images.amazon.com/images/P/0002005018.0...   \n",
              "2  http://images.amazon.com/images/P/0060973129.0...   \n",
              "3  http://images.amazon.com/images/P/0374157065.0...   \n",
              "4  http://images.amazon.com/images/P/0393045218.0...   \n",
              "\n",
              "                                         Image-URL-L  \n",
              "0  http://images.amazon.com/images/P/0195153448.0...  \n",
              "1  http://images.amazon.com/images/P/0002005018.0...  \n",
              "2  http://images.amazon.com/images/P/0060973129.0...  \n",
              "3  http://images.amazon.com/images/P/0374157065.0...  \n",
              "4  http://images.amazon.com/images/P/0393045218.0...  "
            ],
            "text/html": [
              "\n",
              "  <div id=\"df-41c85294-5b40-4006-b627-d406e701df2a\" class=\"colab-df-container\">\n",
              "    <div>\n",
              "<style scoped>\n",
              "    .dataframe tbody tr th:only-of-type {\n",
              "        vertical-align: middle;\n",
              "    }\n",
              "\n",
              "    .dataframe tbody tr th {\n",
              "        vertical-align: top;\n",
              "    }\n",
              "\n",
              "    .dataframe thead th {\n",
              "        text-align: right;\n",
              "    }\n",
              "</style>\n",
              "<table border=\"1\" class=\"dataframe\">\n",
              "  <thead>\n",
              "    <tr style=\"text-align: right;\">\n",
              "      <th></th>\n",
              "      <th>ISBN</th>\n",
              "      <th>Book-Title</th>\n",
              "      <th>Book-Author</th>\n",
              "      <th>Year-Of-Publication</th>\n",
              "      <th>Publisher</th>\n",
              "      <th>Image-URL-S</th>\n",
              "      <th>Image-URL-M</th>\n",
              "      <th>Image-URL-L</th>\n",
              "    </tr>\n",
              "  </thead>\n",
              "  <tbody>\n",
              "    <tr>\n",
              "      <th>0</th>\n",
              "      <td>0195153448</td>\n",
              "      <td>Classical Mythology</td>\n",
              "      <td>Mark P. O. Morford</td>\n",
              "      <td>2002</td>\n",
              "      <td>Oxford University Press</td>\n",
              "      <td>http://images.amazon.com/images/P/0195153448.0...</td>\n",
              "      <td>http://images.amazon.com/images/P/0195153448.0...</td>\n",
              "      <td>http://images.amazon.com/images/P/0195153448.0...</td>\n",
              "    </tr>\n",
              "    <tr>\n",
              "      <th>1</th>\n",
              "      <td>0002005018</td>\n",
              "      <td>Clara Callan</td>\n",
              "      <td>Richard Bruce Wright</td>\n",
              "      <td>2001</td>\n",
              "      <td>HarperFlamingo Canada</td>\n",
              "      <td>http://images.amazon.com/images/P/0002005018.0...</td>\n",
              "      <td>http://images.amazon.com/images/P/0002005018.0...</td>\n",
              "      <td>http://images.amazon.com/images/P/0002005018.0...</td>\n",
              "    </tr>\n",
              "    <tr>\n",
              "      <th>2</th>\n",
              "      <td>0060973129</td>\n",
              "      <td>Decision in Normandy</td>\n",
              "      <td>Carlo D'Este</td>\n",
              "      <td>1991</td>\n",
              "      <td>HarperPerennial</td>\n",
              "      <td>http://images.amazon.com/images/P/0060973129.0...</td>\n",
              "      <td>http://images.amazon.com/images/P/0060973129.0...</td>\n",
              "      <td>http://images.amazon.com/images/P/0060973129.0...</td>\n",
              "    </tr>\n",
              "    <tr>\n",
              "      <th>3</th>\n",
              "      <td>0374157065</td>\n",
              "      <td>Flu: The Story of the Great Influenza Pandemic...</td>\n",
              "      <td>Gina Bari Kolata</td>\n",
              "      <td>1999</td>\n",
              "      <td>Farrar Straus Giroux</td>\n",
              "      <td>http://images.amazon.com/images/P/0374157065.0...</td>\n",
              "      <td>http://images.amazon.com/images/P/0374157065.0...</td>\n",
              "      <td>http://images.amazon.com/images/P/0374157065.0...</td>\n",
              "    </tr>\n",
              "    <tr>\n",
              "      <th>4</th>\n",
              "      <td>0393045218</td>\n",
              "      <td>The Mummies of Urumchi</td>\n",
              "      <td>E. J. W. Barber</td>\n",
              "      <td>1999</td>\n",
              "      <td>W. W. Norton &amp;amp; Company</td>\n",
              "      <td>http://images.amazon.com/images/P/0393045218.0...</td>\n",
              "      <td>http://images.amazon.com/images/P/0393045218.0...</td>\n",
              "      <td>http://images.amazon.com/images/P/0393045218.0...</td>\n",
              "    </tr>\n",
              "  </tbody>\n",
              "</table>\n",
              "</div>\n",
              "    <div class=\"colab-df-buttons\">\n",
              "\n",
              "  <div class=\"colab-df-container\">\n",
              "    <button class=\"colab-df-convert\" onclick=\"convertToInteractive('df-41c85294-5b40-4006-b627-d406e701df2a')\"\n",
              "            title=\"Convert this dataframe to an interactive table.\"\n",
              "            style=\"display:none;\">\n",
              "\n",
              "  <svg xmlns=\"http://www.w3.org/2000/svg\" height=\"24px\" viewBox=\"0 -960 960 960\">\n",
              "    <path d=\"M120-120v-720h720v720H120Zm60-500h600v-160H180v160Zm220 220h160v-160H400v160Zm0 220h160v-160H400v160ZM180-400h160v-160H180v160Zm440 0h160v-160H620v160ZM180-180h160v-160H180v160Zm440 0h160v-160H620v160Z\"/>\n",
              "  </svg>\n",
              "    </button>\n",
              "\n",
              "  <style>\n",
              "    .colab-df-container {\n",
              "      display:flex;\n",
              "      gap: 12px;\n",
              "    }\n",
              "\n",
              "    .colab-df-convert {\n",
              "      background-color: #E8F0FE;\n",
              "      border: none;\n",
              "      border-radius: 50%;\n",
              "      cursor: pointer;\n",
              "      display: none;\n",
              "      fill: #1967D2;\n",
              "      height: 32px;\n",
              "      padding: 0 0 0 0;\n",
              "      width: 32px;\n",
              "    }\n",
              "\n",
              "    .colab-df-convert:hover {\n",
              "      background-color: #E2EBFA;\n",
              "      box-shadow: 0px 1px 2px rgba(60, 64, 67, 0.3), 0px 1px 3px 1px rgba(60, 64, 67, 0.15);\n",
              "      fill: #174EA6;\n",
              "    }\n",
              "\n",
              "    .colab-df-buttons div {\n",
              "      margin-bottom: 4px;\n",
              "    }\n",
              "\n",
              "    [theme=dark] .colab-df-convert {\n",
              "      background-color: #3B4455;\n",
              "      fill: #D2E3FC;\n",
              "    }\n",
              "\n",
              "    [theme=dark] .colab-df-convert:hover {\n",
              "      background-color: #434B5C;\n",
              "      box-shadow: 0px 1px 3px 1px rgba(0, 0, 0, 0.15);\n",
              "      filter: drop-shadow(0px 1px 2px rgba(0, 0, 0, 0.3));\n",
              "      fill: #FFFFFF;\n",
              "    }\n",
              "  </style>\n",
              "\n",
              "    <script>\n",
              "      const buttonEl =\n",
              "        document.querySelector('#df-41c85294-5b40-4006-b627-d406e701df2a button.colab-df-convert');\n",
              "      buttonEl.style.display =\n",
              "        google.colab.kernel.accessAllowed ? 'block' : 'none';\n",
              "\n",
              "      async function convertToInteractive(key) {\n",
              "        const element = document.querySelector('#df-41c85294-5b40-4006-b627-d406e701df2a');\n",
              "        const dataTable =\n",
              "          await google.colab.kernel.invokeFunction('convertToInteractive',\n",
              "                                                    [key], {});\n",
              "        if (!dataTable) return;\n",
              "\n",
              "        const docLinkHtml = 'Like what you see? Visit the ' +\n",
              "          '<a target=\"_blank\" href=https://colab.research.google.com/notebooks/data_table.ipynb>data table notebook</a>'\n",
              "          + ' to learn more about interactive tables.';\n",
              "        element.innerHTML = '';\n",
              "        dataTable['output_type'] = 'display_data';\n",
              "        await google.colab.output.renderOutput(dataTable, element);\n",
              "        const docLink = document.createElement('div');\n",
              "        docLink.innerHTML = docLinkHtml;\n",
              "        element.appendChild(docLink);\n",
              "      }\n",
              "    </script>\n",
              "  </div>\n",
              "\n",
              "\n",
              "    <div id=\"df-012744ae-518b-45b7-859a-d18051451a82\">\n",
              "      <button class=\"colab-df-quickchart\" onclick=\"quickchart('df-012744ae-518b-45b7-859a-d18051451a82')\"\n",
              "                title=\"Suggest charts\"\n",
              "                style=\"display:none;\">\n",
              "\n",
              "<svg xmlns=\"http://www.w3.org/2000/svg\" height=\"24px\"viewBox=\"0 0 24 24\"\n",
              "     width=\"24px\">\n",
              "    <g>\n",
              "        <path d=\"M19 3H5c-1.1 0-2 .9-2 2v14c0 1.1.9 2 2 2h14c1.1 0 2-.9 2-2V5c0-1.1-.9-2-2-2zM9 17H7v-7h2v7zm4 0h-2V7h2v10zm4 0h-2v-4h2v4z\"/>\n",
              "    </g>\n",
              "</svg>\n",
              "      </button>\n",
              "\n",
              "<style>\n",
              "  .colab-df-quickchart {\n",
              "      --bg-color: #E8F0FE;\n",
              "      --fill-color: #1967D2;\n",
              "      --hover-bg-color: #E2EBFA;\n",
              "      --hover-fill-color: #174EA6;\n",
              "      --disabled-fill-color: #AAA;\n",
              "      --disabled-bg-color: #DDD;\n",
              "  }\n",
              "\n",
              "  [theme=dark] .colab-df-quickchart {\n",
              "      --bg-color: #3B4455;\n",
              "      --fill-color: #D2E3FC;\n",
              "      --hover-bg-color: #434B5C;\n",
              "      --hover-fill-color: #FFFFFF;\n",
              "      --disabled-bg-color: #3B4455;\n",
              "      --disabled-fill-color: #666;\n",
              "  }\n",
              "\n",
              "  .colab-df-quickchart {\n",
              "    background-color: var(--bg-color);\n",
              "    border: none;\n",
              "    border-radius: 50%;\n",
              "    cursor: pointer;\n",
              "    display: none;\n",
              "    fill: var(--fill-color);\n",
              "    height: 32px;\n",
              "    padding: 0;\n",
              "    width: 32px;\n",
              "  }\n",
              "\n",
              "  .colab-df-quickchart:hover {\n",
              "    background-color: var(--hover-bg-color);\n",
              "    box-shadow: 0 1px 2px rgba(60, 64, 67, 0.3), 0 1px 3px 1px rgba(60, 64, 67, 0.15);\n",
              "    fill: var(--button-hover-fill-color);\n",
              "  }\n",
              "\n",
              "  .colab-df-quickchart-complete:disabled,\n",
              "  .colab-df-quickchart-complete:disabled:hover {\n",
              "    background-color: var(--disabled-bg-color);\n",
              "    fill: var(--disabled-fill-color);\n",
              "    box-shadow: none;\n",
              "  }\n",
              "\n",
              "  .colab-df-spinner {\n",
              "    border: 2px solid var(--fill-color);\n",
              "    border-color: transparent;\n",
              "    border-bottom-color: var(--fill-color);\n",
              "    animation:\n",
              "      spin 1s steps(1) infinite;\n",
              "  }\n",
              "\n",
              "  @keyframes spin {\n",
              "    0% {\n",
              "      border-color: transparent;\n",
              "      border-bottom-color: var(--fill-color);\n",
              "      border-left-color: var(--fill-color);\n",
              "    }\n",
              "    20% {\n",
              "      border-color: transparent;\n",
              "      border-left-color: var(--fill-color);\n",
              "      border-top-color: var(--fill-color);\n",
              "    }\n",
              "    30% {\n",
              "      border-color: transparent;\n",
              "      border-left-color: var(--fill-color);\n",
              "      border-top-color: var(--fill-color);\n",
              "      border-right-color: var(--fill-color);\n",
              "    }\n",
              "    40% {\n",
              "      border-color: transparent;\n",
              "      border-right-color: var(--fill-color);\n",
              "      border-top-color: var(--fill-color);\n",
              "    }\n",
              "    60% {\n",
              "      border-color: transparent;\n",
              "      border-right-color: var(--fill-color);\n",
              "    }\n",
              "    80% {\n",
              "      border-color: transparent;\n",
              "      border-right-color: var(--fill-color);\n",
              "      border-bottom-color: var(--fill-color);\n",
              "    }\n",
              "    90% {\n",
              "      border-color: transparent;\n",
              "      border-bottom-color: var(--fill-color);\n",
              "    }\n",
              "  }\n",
              "</style>\n",
              "\n",
              "      <script>\n",
              "        async function quickchart(key) {\n",
              "          const quickchartButtonEl =\n",
              "            document.querySelector('#' + key + ' button');\n",
              "          quickchartButtonEl.disabled = true;  // To prevent multiple clicks.\n",
              "          quickchartButtonEl.classList.add('colab-df-spinner');\n",
              "          try {\n",
              "            const charts = await google.colab.kernel.invokeFunction(\n",
              "                'suggestCharts', [key], {});\n",
              "          } catch (error) {\n",
              "            console.error('Error during call to suggestCharts:', error);\n",
              "          }\n",
              "          quickchartButtonEl.classList.remove('colab-df-spinner');\n",
              "          quickchartButtonEl.classList.add('colab-df-quickchart-complete');\n",
              "        }\n",
              "        (() => {\n",
              "          let quickchartButtonEl =\n",
              "            document.querySelector('#df-012744ae-518b-45b7-859a-d18051451a82 button');\n",
              "          quickchartButtonEl.style.display =\n",
              "            google.colab.kernel.accessAllowed ? 'block' : 'none';\n",
              "        })();\n",
              "      </script>\n",
              "    </div>\n",
              "\n",
              "    </div>\n",
              "  </div>\n"
            ],
            "application/vnd.google.colaboratory.intrinsic+json": {
              "type": "dataframe",
              "variable_name": "books"
            }
          },
          "metadata": {},
          "execution_count": 7
        }
      ],
      "execution_count": 7
    },
    {
      "cell_type": "code",
      "source": [
        "books.info()"
      ],
      "metadata": {
        "colab": {
          "base_uri": "https://localhost:8080/"
        },
        "id": "3NwqDSJoKqbs",
        "outputId": "32e3fd6e-9aa9-42df-b1b1-e7b01fa784e0",
        "trusted": true,
        "execution": {
          "iopub.status.busy": "2025-05-29T02:36:19.030007Z",
          "iopub.execute_input": "2025-05-29T02:36:19.030213Z",
          "iopub.status.idle": "2025-05-29T02:36:19.153778Z",
          "shell.execute_reply.started": "2025-05-29T02:36:19.030191Z",
          "shell.execute_reply": "2025-05-29T02:36:19.153082Z"
        }
      },
      "outputs": [
        {
          "output_type": "stream",
          "name": "stdout",
          "text": [
            "<class 'pandas.core.frame.DataFrame'>\n",
            "RangeIndex: 271360 entries, 0 to 271359\n",
            "Data columns (total 8 columns):\n",
            " #   Column               Non-Null Count   Dtype \n",
            "---  ------               --------------   ----- \n",
            " 0   ISBN                 271360 non-null  object\n",
            " 1   Book-Title           271360 non-null  object\n",
            " 2   Book-Author          271358 non-null  object\n",
            " 3   Year-Of-Publication  271360 non-null  object\n",
            " 4   Publisher            271358 non-null  object\n",
            " 5   Image-URL-S          271360 non-null  object\n",
            " 6   Image-URL-M          271360 non-null  object\n",
            " 7   Image-URL-L          271357 non-null  object\n",
            "dtypes: object(8)\n",
            "memory usage: 16.6+ MB\n"
          ]
        }
      ],
      "execution_count": 8
    },
    {
      "cell_type": "code",
      "source": [
        "books.describe()"
      ],
      "metadata": {
        "colab": {
          "base_uri": "https://localhost:8080/",
          "height": 175
        },
        "id": "tqfeboxnKt_2",
        "outputId": "b0399eff-c48e-4d5b-eefb-cc91876afa75",
        "trusted": true,
        "execution": {
          "iopub.status.busy": "2025-05-29T02:36:19.154629Z",
          "iopub.execute_input": "2025-05-29T02:36:19.154874Z",
          "iopub.status.idle": "2025-05-29T02:36:20.212120Z",
          "shell.execute_reply.started": "2025-05-29T02:36:19.154848Z",
          "shell.execute_reply": "2025-05-29T02:36:20.211278Z"
        }
      },
      "outputs": [
        {
          "output_type": "execute_result",
          "data": {
            "text/plain": [
              "              ISBN      Book-Title      Book-Author  Year-Of-Publication  \\\n",
              "count       271360          271360           271358               271360   \n",
              "unique      271360          242135           102022                  202   \n",
              "top     3462017942  Selected Poems  Agatha Christie                 2002   \n",
              "freq             1              27              632                13903   \n",
              "\n",
              "        Publisher                                        Image-URL-S  \\\n",
              "count      271358                                             271360   \n",
              "unique      16807                                             271044   \n",
              "top     Harlequin  http://images.amazon.com/images/P/042509474X.0...   \n",
              "freq         7535                                                  2   \n",
              "\n",
              "                                              Image-URL-M  \\\n",
              "count                                              271360   \n",
              "unique                                             271044   \n",
              "top     http://images.amazon.com/images/P/042509474X.0...   \n",
              "freq                                                    2   \n",
              "\n",
              "                                              Image-URL-L  \n",
              "count                                              271357  \n",
              "unique                                             271041  \n",
              "top     http://images.amazon.com/images/P/006091985X.0...  \n",
              "freq                                                    2  "
            ],
            "text/html": [
              "\n",
              "  <div id=\"df-ee9bb3d3-8722-44bc-98fd-4d7dc73f3691\" class=\"colab-df-container\">\n",
              "    <div>\n",
              "<style scoped>\n",
              "    .dataframe tbody tr th:only-of-type {\n",
              "        vertical-align: middle;\n",
              "    }\n",
              "\n",
              "    .dataframe tbody tr th {\n",
              "        vertical-align: top;\n",
              "    }\n",
              "\n",
              "    .dataframe thead th {\n",
              "        text-align: right;\n",
              "    }\n",
              "</style>\n",
              "<table border=\"1\" class=\"dataframe\">\n",
              "  <thead>\n",
              "    <tr style=\"text-align: right;\">\n",
              "      <th></th>\n",
              "      <th>ISBN</th>\n",
              "      <th>Book-Title</th>\n",
              "      <th>Book-Author</th>\n",
              "      <th>Year-Of-Publication</th>\n",
              "      <th>Publisher</th>\n",
              "      <th>Image-URL-S</th>\n",
              "      <th>Image-URL-M</th>\n",
              "      <th>Image-URL-L</th>\n",
              "    </tr>\n",
              "  </thead>\n",
              "  <tbody>\n",
              "    <tr>\n",
              "      <th>count</th>\n",
              "      <td>271360</td>\n",
              "      <td>271360</td>\n",
              "      <td>271358</td>\n",
              "      <td>271360</td>\n",
              "      <td>271358</td>\n",
              "      <td>271360</td>\n",
              "      <td>271360</td>\n",
              "      <td>271357</td>\n",
              "    </tr>\n",
              "    <tr>\n",
              "      <th>unique</th>\n",
              "      <td>271360</td>\n",
              "      <td>242135</td>\n",
              "      <td>102022</td>\n",
              "      <td>202</td>\n",
              "      <td>16807</td>\n",
              "      <td>271044</td>\n",
              "      <td>271044</td>\n",
              "      <td>271041</td>\n",
              "    </tr>\n",
              "    <tr>\n",
              "      <th>top</th>\n",
              "      <td>3462017942</td>\n",
              "      <td>Selected Poems</td>\n",
              "      <td>Agatha Christie</td>\n",
              "      <td>2002</td>\n",
              "      <td>Harlequin</td>\n",
              "      <td>http://images.amazon.com/images/P/042509474X.0...</td>\n",
              "      <td>http://images.amazon.com/images/P/042509474X.0...</td>\n",
              "      <td>http://images.amazon.com/images/P/006091985X.0...</td>\n",
              "    </tr>\n",
              "    <tr>\n",
              "      <th>freq</th>\n",
              "      <td>1</td>\n",
              "      <td>27</td>\n",
              "      <td>632</td>\n",
              "      <td>13903</td>\n",
              "      <td>7535</td>\n",
              "      <td>2</td>\n",
              "      <td>2</td>\n",
              "      <td>2</td>\n",
              "    </tr>\n",
              "  </tbody>\n",
              "</table>\n",
              "</div>\n",
              "    <div class=\"colab-df-buttons\">\n",
              "\n",
              "  <div class=\"colab-df-container\">\n",
              "    <button class=\"colab-df-convert\" onclick=\"convertToInteractive('df-ee9bb3d3-8722-44bc-98fd-4d7dc73f3691')\"\n",
              "            title=\"Convert this dataframe to an interactive table.\"\n",
              "            style=\"display:none;\">\n",
              "\n",
              "  <svg xmlns=\"http://www.w3.org/2000/svg\" height=\"24px\" viewBox=\"0 -960 960 960\">\n",
              "    <path d=\"M120-120v-720h720v720H120Zm60-500h600v-160H180v160Zm220 220h160v-160H400v160Zm0 220h160v-160H400v160ZM180-400h160v-160H180v160Zm440 0h160v-160H620v160ZM180-180h160v-160H180v160Zm440 0h160v-160H620v160Z\"/>\n",
              "  </svg>\n",
              "    </button>\n",
              "\n",
              "  <style>\n",
              "    .colab-df-container {\n",
              "      display:flex;\n",
              "      gap: 12px;\n",
              "    }\n",
              "\n",
              "    .colab-df-convert {\n",
              "      background-color: #E8F0FE;\n",
              "      border: none;\n",
              "      border-radius: 50%;\n",
              "      cursor: pointer;\n",
              "      display: none;\n",
              "      fill: #1967D2;\n",
              "      height: 32px;\n",
              "      padding: 0 0 0 0;\n",
              "      width: 32px;\n",
              "    }\n",
              "\n",
              "    .colab-df-convert:hover {\n",
              "      background-color: #E2EBFA;\n",
              "      box-shadow: 0px 1px 2px rgba(60, 64, 67, 0.3), 0px 1px 3px 1px rgba(60, 64, 67, 0.15);\n",
              "      fill: #174EA6;\n",
              "    }\n",
              "\n",
              "    .colab-df-buttons div {\n",
              "      margin-bottom: 4px;\n",
              "    }\n",
              "\n",
              "    [theme=dark] .colab-df-convert {\n",
              "      background-color: #3B4455;\n",
              "      fill: #D2E3FC;\n",
              "    }\n",
              "\n",
              "    [theme=dark] .colab-df-convert:hover {\n",
              "      background-color: #434B5C;\n",
              "      box-shadow: 0px 1px 3px 1px rgba(0, 0, 0, 0.15);\n",
              "      filter: drop-shadow(0px 1px 2px rgba(0, 0, 0, 0.3));\n",
              "      fill: #FFFFFF;\n",
              "    }\n",
              "  </style>\n",
              "\n",
              "    <script>\n",
              "      const buttonEl =\n",
              "        document.querySelector('#df-ee9bb3d3-8722-44bc-98fd-4d7dc73f3691 button.colab-df-convert');\n",
              "      buttonEl.style.display =\n",
              "        google.colab.kernel.accessAllowed ? 'block' : 'none';\n",
              "\n",
              "      async function convertToInteractive(key) {\n",
              "        const element = document.querySelector('#df-ee9bb3d3-8722-44bc-98fd-4d7dc73f3691');\n",
              "        const dataTable =\n",
              "          await google.colab.kernel.invokeFunction('convertToInteractive',\n",
              "                                                    [key], {});\n",
              "        if (!dataTable) return;\n",
              "\n",
              "        const docLinkHtml = 'Like what you see? Visit the ' +\n",
              "          '<a target=\"_blank\" href=https://colab.research.google.com/notebooks/data_table.ipynb>data table notebook</a>'\n",
              "          + ' to learn more about interactive tables.';\n",
              "        element.innerHTML = '';\n",
              "        dataTable['output_type'] = 'display_data';\n",
              "        await google.colab.output.renderOutput(dataTable, element);\n",
              "        const docLink = document.createElement('div');\n",
              "        docLink.innerHTML = docLinkHtml;\n",
              "        element.appendChild(docLink);\n",
              "      }\n",
              "    </script>\n",
              "  </div>\n",
              "\n",
              "\n",
              "    <div id=\"df-6c1aeb3f-737b-43a6-a8da-f669f90519c1\">\n",
              "      <button class=\"colab-df-quickchart\" onclick=\"quickchart('df-6c1aeb3f-737b-43a6-a8da-f669f90519c1')\"\n",
              "                title=\"Suggest charts\"\n",
              "                style=\"display:none;\">\n",
              "\n",
              "<svg xmlns=\"http://www.w3.org/2000/svg\" height=\"24px\"viewBox=\"0 0 24 24\"\n",
              "     width=\"24px\">\n",
              "    <g>\n",
              "        <path d=\"M19 3H5c-1.1 0-2 .9-2 2v14c0 1.1.9 2 2 2h14c1.1 0 2-.9 2-2V5c0-1.1-.9-2-2-2zM9 17H7v-7h2v7zm4 0h-2V7h2v10zm4 0h-2v-4h2v4z\"/>\n",
              "    </g>\n",
              "</svg>\n",
              "      </button>\n",
              "\n",
              "<style>\n",
              "  .colab-df-quickchart {\n",
              "      --bg-color: #E8F0FE;\n",
              "      --fill-color: #1967D2;\n",
              "      --hover-bg-color: #E2EBFA;\n",
              "      --hover-fill-color: #174EA6;\n",
              "      --disabled-fill-color: #AAA;\n",
              "      --disabled-bg-color: #DDD;\n",
              "  }\n",
              "\n",
              "  [theme=dark] .colab-df-quickchart {\n",
              "      --bg-color: #3B4455;\n",
              "      --fill-color: #D2E3FC;\n",
              "      --hover-bg-color: #434B5C;\n",
              "      --hover-fill-color: #FFFFFF;\n",
              "      --disabled-bg-color: #3B4455;\n",
              "      --disabled-fill-color: #666;\n",
              "  }\n",
              "\n",
              "  .colab-df-quickchart {\n",
              "    background-color: var(--bg-color);\n",
              "    border: none;\n",
              "    border-radius: 50%;\n",
              "    cursor: pointer;\n",
              "    display: none;\n",
              "    fill: var(--fill-color);\n",
              "    height: 32px;\n",
              "    padding: 0;\n",
              "    width: 32px;\n",
              "  }\n",
              "\n",
              "  .colab-df-quickchart:hover {\n",
              "    background-color: var(--hover-bg-color);\n",
              "    box-shadow: 0 1px 2px rgba(60, 64, 67, 0.3), 0 1px 3px 1px rgba(60, 64, 67, 0.15);\n",
              "    fill: var(--button-hover-fill-color);\n",
              "  }\n",
              "\n",
              "  .colab-df-quickchart-complete:disabled,\n",
              "  .colab-df-quickchart-complete:disabled:hover {\n",
              "    background-color: var(--disabled-bg-color);\n",
              "    fill: var(--disabled-fill-color);\n",
              "    box-shadow: none;\n",
              "  }\n",
              "\n",
              "  .colab-df-spinner {\n",
              "    border: 2px solid var(--fill-color);\n",
              "    border-color: transparent;\n",
              "    border-bottom-color: var(--fill-color);\n",
              "    animation:\n",
              "      spin 1s steps(1) infinite;\n",
              "  }\n",
              "\n",
              "  @keyframes spin {\n",
              "    0% {\n",
              "      border-color: transparent;\n",
              "      border-bottom-color: var(--fill-color);\n",
              "      border-left-color: var(--fill-color);\n",
              "    }\n",
              "    20% {\n",
              "      border-color: transparent;\n",
              "      border-left-color: var(--fill-color);\n",
              "      border-top-color: var(--fill-color);\n",
              "    }\n",
              "    30% {\n",
              "      border-color: transparent;\n",
              "      border-left-color: var(--fill-color);\n",
              "      border-top-color: var(--fill-color);\n",
              "      border-right-color: var(--fill-color);\n",
              "    }\n",
              "    40% {\n",
              "      border-color: transparent;\n",
              "      border-right-color: var(--fill-color);\n",
              "      border-top-color: var(--fill-color);\n",
              "    }\n",
              "    60% {\n",
              "      border-color: transparent;\n",
              "      border-right-color: var(--fill-color);\n",
              "    }\n",
              "    80% {\n",
              "      border-color: transparent;\n",
              "      border-right-color: var(--fill-color);\n",
              "      border-bottom-color: var(--fill-color);\n",
              "    }\n",
              "    90% {\n",
              "      border-color: transparent;\n",
              "      border-bottom-color: var(--fill-color);\n",
              "    }\n",
              "  }\n",
              "</style>\n",
              "\n",
              "      <script>\n",
              "        async function quickchart(key) {\n",
              "          const quickchartButtonEl =\n",
              "            document.querySelector('#' + key + ' button');\n",
              "          quickchartButtonEl.disabled = true;  // To prevent multiple clicks.\n",
              "          quickchartButtonEl.classList.add('colab-df-spinner');\n",
              "          try {\n",
              "            const charts = await google.colab.kernel.invokeFunction(\n",
              "                'suggestCharts', [key], {});\n",
              "          } catch (error) {\n",
              "            console.error('Error during call to suggestCharts:', error);\n",
              "          }\n",
              "          quickchartButtonEl.classList.remove('colab-df-spinner');\n",
              "          quickchartButtonEl.classList.add('colab-df-quickchart-complete');\n",
              "        }\n",
              "        (() => {\n",
              "          let quickchartButtonEl =\n",
              "            document.querySelector('#df-6c1aeb3f-737b-43a6-a8da-f669f90519c1 button');\n",
              "          quickchartButtonEl.style.display =\n",
              "            google.colab.kernel.accessAllowed ? 'block' : 'none';\n",
              "        })();\n",
              "      </script>\n",
              "    </div>\n",
              "\n",
              "    </div>\n",
              "  </div>\n"
            ],
            "application/vnd.google.colaboratory.intrinsic+json": {
              "type": "dataframe",
              "summary": "{\n  \"name\": \"books\",\n  \"rows\": 4,\n  \"fields\": [\n    {\n      \"column\": \"ISBN\",\n      \"properties\": {\n        \"dtype\": \"string\",\n        \"num_unique_values\": 3,\n        \"samples\": [\n          \"271360\",\n          \"3462017942\",\n          \"1\"\n        ],\n        \"semantic_type\": \"\",\n        \"description\": \"\"\n      }\n    },\n    {\n      \"column\": \"Book-Title\",\n      \"properties\": {\n        \"dtype\": \"string\",\n        \"num_unique_values\": 4,\n        \"samples\": [\n          242135,\n          \"27\",\n          \"271360\"\n        ],\n        \"semantic_type\": \"\",\n        \"description\": \"\"\n      }\n    },\n    {\n      \"column\": \"Book-Author\",\n      \"properties\": {\n        \"dtype\": \"string\",\n        \"num_unique_values\": 4,\n        \"samples\": [\n          102022,\n          \"632\",\n          \"271358\"\n        ],\n        \"semantic_type\": \"\",\n        \"description\": \"\"\n      }\n    },\n    {\n      \"column\": \"Year-Of-Publication\",\n      \"properties\": {\n        \"dtype\": \"number\",\n        \"std\": 133134,\n        \"min\": 202,\n        \"max\": 271360,\n        \"num_unique_values\": 4,\n        \"samples\": [\n          202,\n          13903,\n          271360\n        ],\n        \"semantic_type\": \"\",\n        \"description\": \"\"\n      }\n    },\n    {\n      \"column\": \"Publisher\",\n      \"properties\": {\n        \"dtype\": \"string\",\n        \"num_unique_values\": 4,\n        \"samples\": [\n          16807,\n          \"7535\",\n          \"271358\"\n        ],\n        \"semantic_type\": \"\",\n        \"description\": \"\"\n      }\n    },\n    {\n      \"column\": \"Image-URL-S\",\n      \"properties\": {\n        \"dtype\": \"string\",\n        \"num_unique_values\": 4,\n        \"samples\": [\n          271044,\n          \"2\",\n          \"271360\"\n        ],\n        \"semantic_type\": \"\",\n        \"description\": \"\"\n      }\n    },\n    {\n      \"column\": \"Image-URL-M\",\n      \"properties\": {\n        \"dtype\": \"string\",\n        \"num_unique_values\": 4,\n        \"samples\": [\n          271044,\n          \"2\",\n          \"271360\"\n        ],\n        \"semantic_type\": \"\",\n        \"description\": \"\"\n      }\n    },\n    {\n      \"column\": \"Image-URL-L\",\n      \"properties\": {\n        \"dtype\": \"string\",\n        \"num_unique_values\": 4,\n        \"samples\": [\n          271041,\n          \"2\",\n          \"271357\"\n        ],\n        \"semantic_type\": \"\",\n        \"description\": \"\"\n      }\n    }\n  ]\n}"
            }
          },
          "metadata": {},
          "execution_count": 9
        }
      ],
      "execution_count": 9
    },
    {
      "cell_type": "code",
      "source": [
        "books.isnull().sum()"
      ],
      "metadata": {
        "colab": {
          "base_uri": "https://localhost:8080/",
          "height": 335
        },
        "id": "sz124eaXK5iB",
        "outputId": "e0a6d51e-a3b6-4989-a9d8-748192317c33",
        "trusted": true,
        "execution": {
          "iopub.status.busy": "2025-05-29T02:36:20.213096Z",
          "iopub.execute_input": "2025-05-29T02:36:20.213454Z",
          "iopub.status.idle": "2025-05-29T02:36:20.319661Z",
          "shell.execute_reply.started": "2025-05-29T02:36:20.213438Z",
          "shell.execute_reply": "2025-05-29T02:36:20.319007Z"
        }
      },
      "outputs": [
        {
          "output_type": "execute_result",
          "data": {
            "text/plain": [
              "ISBN                   0\n",
              "Book-Title             0\n",
              "Book-Author            2\n",
              "Year-Of-Publication    0\n",
              "Publisher              2\n",
              "Image-URL-S            0\n",
              "Image-URL-M            0\n",
              "Image-URL-L            3\n",
              "dtype: int64"
            ],
            "text/html": [
              "<div>\n",
              "<style scoped>\n",
              "    .dataframe tbody tr th:only-of-type {\n",
              "        vertical-align: middle;\n",
              "    }\n",
              "\n",
              "    .dataframe tbody tr th {\n",
              "        vertical-align: top;\n",
              "    }\n",
              "\n",
              "    .dataframe thead th {\n",
              "        text-align: right;\n",
              "    }\n",
              "</style>\n",
              "<table border=\"1\" class=\"dataframe\">\n",
              "  <thead>\n",
              "    <tr style=\"text-align: right;\">\n",
              "      <th></th>\n",
              "      <th>0</th>\n",
              "    </tr>\n",
              "  </thead>\n",
              "  <tbody>\n",
              "    <tr>\n",
              "      <th>ISBN</th>\n",
              "      <td>0</td>\n",
              "    </tr>\n",
              "    <tr>\n",
              "      <th>Book-Title</th>\n",
              "      <td>0</td>\n",
              "    </tr>\n",
              "    <tr>\n",
              "      <th>Book-Author</th>\n",
              "      <td>2</td>\n",
              "    </tr>\n",
              "    <tr>\n",
              "      <th>Year-Of-Publication</th>\n",
              "      <td>0</td>\n",
              "    </tr>\n",
              "    <tr>\n",
              "      <th>Publisher</th>\n",
              "      <td>2</td>\n",
              "    </tr>\n",
              "    <tr>\n",
              "      <th>Image-URL-S</th>\n",
              "      <td>0</td>\n",
              "    </tr>\n",
              "    <tr>\n",
              "      <th>Image-URL-M</th>\n",
              "      <td>0</td>\n",
              "    </tr>\n",
              "    <tr>\n",
              "      <th>Image-URL-L</th>\n",
              "      <td>3</td>\n",
              "    </tr>\n",
              "  </tbody>\n",
              "</table>\n",
              "</div><br><label><b>dtype:</b> int64</label>"
            ]
          },
          "metadata": {},
          "execution_count": 10
        }
      ],
      "execution_count": 10
    },
    {
      "cell_type": "code",
      "source": [
        "books[books['Year-Of-Publication'] == 0]"
      ],
      "metadata": {
        "colab": {
          "base_uri": "https://localhost:8080/",
          "height": 597
        },
        "id": "jq0Cj38RM4v3",
        "outputId": "c34fcd5c-2dbb-4896-c115-2c6cd2742216",
        "trusted": true,
        "execution": {
          "iopub.status.busy": "2025-05-29T02:36:20.353452Z",
          "iopub.execute_input": "2025-05-29T02:36:20.353654Z",
          "iopub.status.idle": "2025-05-29T02:36:20.401695Z",
          "shell.execute_reply.started": "2025-05-29T02:36:20.353639Z",
          "shell.execute_reply": "2025-05-29T02:36:20.401149Z"
        }
      },
      "outputs": [
        {
          "output_type": "execute_result",
          "data": {
            "text/plain": [
              "              ISBN                                         Book-Title  \\\n",
              "176     3150000335                                   Kabale Und Liebe   \n",
              "188     342311360X                            Die Liebe in Den Zelten   \n",
              "288     0571197639                        Poisonwood Bible Edition Uk   \n",
              "351     3596214629       Herr Der Fliegen (Fiction, Poetry and Drama)   \n",
              "542     8845229041  Biblioteca Universale Rizzoli: Sulla Sponda De...   \n",
              "...            ...                                                ...   \n",
              "270794  014029953X                         Foe (Essential.penguin S.)   \n",
              "270913  0340571187                                     Postmens House   \n",
              "271094  8427201079                           El Misterio De Sittaford   \n",
              "271182  0887781721                                          Tom Penny   \n",
              "271196  3150013763                                     Der Hofmeister   \n",
              "\n",
              "                   Book-Author Year-Of-Publication  \\\n",
              "176                   Schiller                   0   \n",
              "188     Gabriel Garcia Marquez                   0   \n",
              "288         Barbara Kingsolver                   0   \n",
              "351                    Golding                   0   \n",
              "542                   P Coelho                   0   \n",
              "...                        ...                 ...   \n",
              "270794            J.M. Coetzee                   0   \n",
              "270913        Maggie Hemingway                   0   \n",
              "271094         Agatha Christie                   0   \n",
              "271182             Tony German                   0   \n",
              "271196              Jakob Lenz                   0   \n",
              "\n",
              "                                 Publisher  \\\n",
              "176        Philipp Reclam, Jun Verlag GmbH   \n",
              "188     Deutscher Taschenbuch Verlag (DTV)   \n",
              "288                        Faber Faber Inc   \n",
              "351        Fischer Taschenbuch Verlag GmbH   \n",
              "542                     Fabbri - RCS Libri   \n",
              "...                                    ...   \n",
              "270794                   Penguin Books Ltd   \n",
              "270913                    Trafalgar Square   \n",
              "271094                    Editorial Molino   \n",
              "271182                P. Martin Associates   \n",
              "271196     Philipp Reclam, Jun Verlag GmbH   \n",
              "\n",
              "                                              Image-URL-S  \\\n",
              "176     http://images.amazon.com/images/P/3150000335.0...   \n",
              "188     http://images.amazon.com/images/P/342311360X.0...   \n",
              "288     http://images.amazon.com/images/P/0571197639.0...   \n",
              "351     http://images.amazon.com/images/P/3596214629.0...   \n",
              "542     http://images.amazon.com/images/P/8845229041.0...   \n",
              "...                                                   ...   \n",
              "270794  http://images.amazon.com/images/P/014029953X.0...   \n",
              "270913  http://images.amazon.com/images/P/0340571187.0...   \n",
              "271094  http://images.amazon.com/images/P/8427201079.0...   \n",
              "271182  http://images.amazon.com/images/P/0887781721.0...   \n",
              "271196  http://images.amazon.com/images/P/3150013763.0...   \n",
              "\n",
              "                                              Image-URL-M  \\\n",
              "176     http://images.amazon.com/images/P/3150000335.0...   \n",
              "188     http://images.amazon.com/images/P/342311360X.0...   \n",
              "288     http://images.amazon.com/images/P/0571197639.0...   \n",
              "351     http://images.amazon.com/images/P/3596214629.0...   \n",
              "542     http://images.amazon.com/images/P/8845229041.0...   \n",
              "...                                                   ...   \n",
              "270794  http://images.amazon.com/images/P/014029953X.0...   \n",
              "270913  http://images.amazon.com/images/P/0340571187.0...   \n",
              "271094  http://images.amazon.com/images/P/8427201079.0...   \n",
              "271182  http://images.amazon.com/images/P/0887781721.0...   \n",
              "271196  http://images.amazon.com/images/P/3150013763.0...   \n",
              "\n",
              "                                              Image-URL-L  \n",
              "176     http://images.amazon.com/images/P/3150000335.0...  \n",
              "188     http://images.amazon.com/images/P/342311360X.0...  \n",
              "288     http://images.amazon.com/images/P/0571197639.0...  \n",
              "351     http://images.amazon.com/images/P/3596214629.0...  \n",
              "542     http://images.amazon.com/images/P/8845229041.0...  \n",
              "...                                                   ...  \n",
              "270794  http://images.amazon.com/images/P/014029953X.0...  \n",
              "270913  http://images.amazon.com/images/P/0340571187.0...  \n",
              "271094  http://images.amazon.com/images/P/8427201079.0...  \n",
              "271182  http://images.amazon.com/images/P/0887781721.0...  \n",
              "271196  http://images.amazon.com/images/P/3150013763.0...  \n",
              "\n",
              "[3570 rows x 8 columns]"
            ],
            "text/html": [
              "\n",
              "  <div id=\"df-4fe28e2d-783b-43b7-910d-34eff3c6c686\" class=\"colab-df-container\">\n",
              "    <div>\n",
              "<style scoped>\n",
              "    .dataframe tbody tr th:only-of-type {\n",
              "        vertical-align: middle;\n",
              "    }\n",
              "\n",
              "    .dataframe tbody tr th {\n",
              "        vertical-align: top;\n",
              "    }\n",
              "\n",
              "    .dataframe thead th {\n",
              "        text-align: right;\n",
              "    }\n",
              "</style>\n",
              "<table border=\"1\" class=\"dataframe\">\n",
              "  <thead>\n",
              "    <tr style=\"text-align: right;\">\n",
              "      <th></th>\n",
              "      <th>ISBN</th>\n",
              "      <th>Book-Title</th>\n",
              "      <th>Book-Author</th>\n",
              "      <th>Year-Of-Publication</th>\n",
              "      <th>Publisher</th>\n",
              "      <th>Image-URL-S</th>\n",
              "      <th>Image-URL-M</th>\n",
              "      <th>Image-URL-L</th>\n",
              "    </tr>\n",
              "  </thead>\n",
              "  <tbody>\n",
              "    <tr>\n",
              "      <th>176</th>\n",
              "      <td>3150000335</td>\n",
              "      <td>Kabale Und Liebe</td>\n",
              "      <td>Schiller</td>\n",
              "      <td>0</td>\n",
              "      <td>Philipp Reclam, Jun Verlag GmbH</td>\n",
              "      <td>http://images.amazon.com/images/P/3150000335.0...</td>\n",
              "      <td>http://images.amazon.com/images/P/3150000335.0...</td>\n",
              "      <td>http://images.amazon.com/images/P/3150000335.0...</td>\n",
              "    </tr>\n",
              "    <tr>\n",
              "      <th>188</th>\n",
              "      <td>342311360X</td>\n",
              "      <td>Die Liebe in Den Zelten</td>\n",
              "      <td>Gabriel Garcia Marquez</td>\n",
              "      <td>0</td>\n",
              "      <td>Deutscher Taschenbuch Verlag (DTV)</td>\n",
              "      <td>http://images.amazon.com/images/P/342311360X.0...</td>\n",
              "      <td>http://images.amazon.com/images/P/342311360X.0...</td>\n",
              "      <td>http://images.amazon.com/images/P/342311360X.0...</td>\n",
              "    </tr>\n",
              "    <tr>\n",
              "      <th>288</th>\n",
              "      <td>0571197639</td>\n",
              "      <td>Poisonwood Bible Edition Uk</td>\n",
              "      <td>Barbara Kingsolver</td>\n",
              "      <td>0</td>\n",
              "      <td>Faber Faber Inc</td>\n",
              "      <td>http://images.amazon.com/images/P/0571197639.0...</td>\n",
              "      <td>http://images.amazon.com/images/P/0571197639.0...</td>\n",
              "      <td>http://images.amazon.com/images/P/0571197639.0...</td>\n",
              "    </tr>\n",
              "    <tr>\n",
              "      <th>351</th>\n",
              "      <td>3596214629</td>\n",
              "      <td>Herr Der Fliegen (Fiction, Poetry and Drama)</td>\n",
              "      <td>Golding</td>\n",
              "      <td>0</td>\n",
              "      <td>Fischer Taschenbuch Verlag GmbH</td>\n",
              "      <td>http://images.amazon.com/images/P/3596214629.0...</td>\n",
              "      <td>http://images.amazon.com/images/P/3596214629.0...</td>\n",
              "      <td>http://images.amazon.com/images/P/3596214629.0...</td>\n",
              "    </tr>\n",
              "    <tr>\n",
              "      <th>542</th>\n",
              "      <td>8845229041</td>\n",
              "      <td>Biblioteca Universale Rizzoli: Sulla Sponda De...</td>\n",
              "      <td>P Coelho</td>\n",
              "      <td>0</td>\n",
              "      <td>Fabbri - RCS Libri</td>\n",
              "      <td>http://images.amazon.com/images/P/8845229041.0...</td>\n",
              "      <td>http://images.amazon.com/images/P/8845229041.0...</td>\n",
              "      <td>http://images.amazon.com/images/P/8845229041.0...</td>\n",
              "    </tr>\n",
              "    <tr>\n",
              "      <th>...</th>\n",
              "      <td>...</td>\n",
              "      <td>...</td>\n",
              "      <td>...</td>\n",
              "      <td>...</td>\n",
              "      <td>...</td>\n",
              "      <td>...</td>\n",
              "      <td>...</td>\n",
              "      <td>...</td>\n",
              "    </tr>\n",
              "    <tr>\n",
              "      <th>270794</th>\n",
              "      <td>014029953X</td>\n",
              "      <td>Foe (Essential.penguin S.)</td>\n",
              "      <td>J.M. Coetzee</td>\n",
              "      <td>0</td>\n",
              "      <td>Penguin Books Ltd</td>\n",
              "      <td>http://images.amazon.com/images/P/014029953X.0...</td>\n",
              "      <td>http://images.amazon.com/images/P/014029953X.0...</td>\n",
              "      <td>http://images.amazon.com/images/P/014029953X.0...</td>\n",
              "    </tr>\n",
              "    <tr>\n",
              "      <th>270913</th>\n",
              "      <td>0340571187</td>\n",
              "      <td>Postmens House</td>\n",
              "      <td>Maggie Hemingway</td>\n",
              "      <td>0</td>\n",
              "      <td>Trafalgar Square</td>\n",
              "      <td>http://images.amazon.com/images/P/0340571187.0...</td>\n",
              "      <td>http://images.amazon.com/images/P/0340571187.0...</td>\n",
              "      <td>http://images.amazon.com/images/P/0340571187.0...</td>\n",
              "    </tr>\n",
              "    <tr>\n",
              "      <th>271094</th>\n",
              "      <td>8427201079</td>\n",
              "      <td>El Misterio De Sittaford</td>\n",
              "      <td>Agatha Christie</td>\n",
              "      <td>0</td>\n",
              "      <td>Editorial Molino</td>\n",
              "      <td>http://images.amazon.com/images/P/8427201079.0...</td>\n",
              "      <td>http://images.amazon.com/images/P/8427201079.0...</td>\n",
              "      <td>http://images.amazon.com/images/P/8427201079.0...</td>\n",
              "    </tr>\n",
              "    <tr>\n",
              "      <th>271182</th>\n",
              "      <td>0887781721</td>\n",
              "      <td>Tom Penny</td>\n",
              "      <td>Tony German</td>\n",
              "      <td>0</td>\n",
              "      <td>P. Martin Associates</td>\n",
              "      <td>http://images.amazon.com/images/P/0887781721.0...</td>\n",
              "      <td>http://images.amazon.com/images/P/0887781721.0...</td>\n",
              "      <td>http://images.amazon.com/images/P/0887781721.0...</td>\n",
              "    </tr>\n",
              "    <tr>\n",
              "      <th>271196</th>\n",
              "      <td>3150013763</td>\n",
              "      <td>Der Hofmeister</td>\n",
              "      <td>Jakob Lenz</td>\n",
              "      <td>0</td>\n",
              "      <td>Philipp Reclam, Jun Verlag GmbH</td>\n",
              "      <td>http://images.amazon.com/images/P/3150013763.0...</td>\n",
              "      <td>http://images.amazon.com/images/P/3150013763.0...</td>\n",
              "      <td>http://images.amazon.com/images/P/3150013763.0...</td>\n",
              "    </tr>\n",
              "  </tbody>\n",
              "</table>\n",
              "<p>3570 rows × 8 columns</p>\n",
              "</div>\n",
              "    <div class=\"colab-df-buttons\">\n",
              "\n",
              "  <div class=\"colab-df-container\">\n",
              "    <button class=\"colab-df-convert\" onclick=\"convertToInteractive('df-4fe28e2d-783b-43b7-910d-34eff3c6c686')\"\n",
              "            title=\"Convert this dataframe to an interactive table.\"\n",
              "            style=\"display:none;\">\n",
              "\n",
              "  <svg xmlns=\"http://www.w3.org/2000/svg\" height=\"24px\" viewBox=\"0 -960 960 960\">\n",
              "    <path d=\"M120-120v-720h720v720H120Zm60-500h600v-160H180v160Zm220 220h160v-160H400v160Zm0 220h160v-160H400v160ZM180-400h160v-160H180v160Zm440 0h160v-160H620v160ZM180-180h160v-160H180v160Zm440 0h160v-160H620v160Z\"/>\n",
              "  </svg>\n",
              "    </button>\n",
              "\n",
              "  <style>\n",
              "    .colab-df-container {\n",
              "      display:flex;\n",
              "      gap: 12px;\n",
              "    }\n",
              "\n",
              "    .colab-df-convert {\n",
              "      background-color: #E8F0FE;\n",
              "      border: none;\n",
              "      border-radius: 50%;\n",
              "      cursor: pointer;\n",
              "      display: none;\n",
              "      fill: #1967D2;\n",
              "      height: 32px;\n",
              "      padding: 0 0 0 0;\n",
              "      width: 32px;\n",
              "    }\n",
              "\n",
              "    .colab-df-convert:hover {\n",
              "      background-color: #E2EBFA;\n",
              "      box-shadow: 0px 1px 2px rgba(60, 64, 67, 0.3), 0px 1px 3px 1px rgba(60, 64, 67, 0.15);\n",
              "      fill: #174EA6;\n",
              "    }\n",
              "\n",
              "    .colab-df-buttons div {\n",
              "      margin-bottom: 4px;\n",
              "    }\n",
              "\n",
              "    [theme=dark] .colab-df-convert {\n",
              "      background-color: #3B4455;\n",
              "      fill: #D2E3FC;\n",
              "    }\n",
              "\n",
              "    [theme=dark] .colab-df-convert:hover {\n",
              "      background-color: #434B5C;\n",
              "      box-shadow: 0px 1px 3px 1px rgba(0, 0, 0, 0.15);\n",
              "      filter: drop-shadow(0px 1px 2px rgba(0, 0, 0, 0.3));\n",
              "      fill: #FFFFFF;\n",
              "    }\n",
              "  </style>\n",
              "\n",
              "    <script>\n",
              "      const buttonEl =\n",
              "        document.querySelector('#df-4fe28e2d-783b-43b7-910d-34eff3c6c686 button.colab-df-convert');\n",
              "      buttonEl.style.display =\n",
              "        google.colab.kernel.accessAllowed ? 'block' : 'none';\n",
              "\n",
              "      async function convertToInteractive(key) {\n",
              "        const element = document.querySelector('#df-4fe28e2d-783b-43b7-910d-34eff3c6c686');\n",
              "        const dataTable =\n",
              "          await google.colab.kernel.invokeFunction('convertToInteractive',\n",
              "                                                    [key], {});\n",
              "        if (!dataTable) return;\n",
              "\n",
              "        const docLinkHtml = 'Like what you see? Visit the ' +\n",
              "          '<a target=\"_blank\" href=https://colab.research.google.com/notebooks/data_table.ipynb>data table notebook</a>'\n",
              "          + ' to learn more about interactive tables.';\n",
              "        element.innerHTML = '';\n",
              "        dataTable['output_type'] = 'display_data';\n",
              "        await google.colab.output.renderOutput(dataTable, element);\n",
              "        const docLink = document.createElement('div');\n",
              "        docLink.innerHTML = docLinkHtml;\n",
              "        element.appendChild(docLink);\n",
              "      }\n",
              "    </script>\n",
              "  </div>\n",
              "\n",
              "\n",
              "    <div id=\"df-d2bb4947-3a5c-4e04-b662-a1100f160c13\">\n",
              "      <button class=\"colab-df-quickchart\" onclick=\"quickchart('df-d2bb4947-3a5c-4e04-b662-a1100f160c13')\"\n",
              "                title=\"Suggest charts\"\n",
              "                style=\"display:none;\">\n",
              "\n",
              "<svg xmlns=\"http://www.w3.org/2000/svg\" height=\"24px\"viewBox=\"0 0 24 24\"\n",
              "     width=\"24px\">\n",
              "    <g>\n",
              "        <path d=\"M19 3H5c-1.1 0-2 .9-2 2v14c0 1.1.9 2 2 2h14c1.1 0 2-.9 2-2V5c0-1.1-.9-2-2-2zM9 17H7v-7h2v7zm4 0h-2V7h2v10zm4 0h-2v-4h2v4z\"/>\n",
              "    </g>\n",
              "</svg>\n",
              "      </button>\n",
              "\n",
              "<style>\n",
              "  .colab-df-quickchart {\n",
              "      --bg-color: #E8F0FE;\n",
              "      --fill-color: #1967D2;\n",
              "      --hover-bg-color: #E2EBFA;\n",
              "      --hover-fill-color: #174EA6;\n",
              "      --disabled-fill-color: #AAA;\n",
              "      --disabled-bg-color: #DDD;\n",
              "  }\n",
              "\n",
              "  [theme=dark] .colab-df-quickchart {\n",
              "      --bg-color: #3B4455;\n",
              "      --fill-color: #D2E3FC;\n",
              "      --hover-bg-color: #434B5C;\n",
              "      --hover-fill-color: #FFFFFF;\n",
              "      --disabled-bg-color: #3B4455;\n",
              "      --disabled-fill-color: #666;\n",
              "  }\n",
              "\n",
              "  .colab-df-quickchart {\n",
              "    background-color: var(--bg-color);\n",
              "    border: none;\n",
              "    border-radius: 50%;\n",
              "    cursor: pointer;\n",
              "    display: none;\n",
              "    fill: var(--fill-color);\n",
              "    height: 32px;\n",
              "    padding: 0;\n",
              "    width: 32px;\n",
              "  }\n",
              "\n",
              "  .colab-df-quickchart:hover {\n",
              "    background-color: var(--hover-bg-color);\n",
              "    box-shadow: 0 1px 2px rgba(60, 64, 67, 0.3), 0 1px 3px 1px rgba(60, 64, 67, 0.15);\n",
              "    fill: var(--button-hover-fill-color);\n",
              "  }\n",
              "\n",
              "  .colab-df-quickchart-complete:disabled,\n",
              "  .colab-df-quickchart-complete:disabled:hover {\n",
              "    background-color: var(--disabled-bg-color);\n",
              "    fill: var(--disabled-fill-color);\n",
              "    box-shadow: none;\n",
              "  }\n",
              "\n",
              "  .colab-df-spinner {\n",
              "    border: 2px solid var(--fill-color);\n",
              "    border-color: transparent;\n",
              "    border-bottom-color: var(--fill-color);\n",
              "    animation:\n",
              "      spin 1s steps(1) infinite;\n",
              "  }\n",
              "\n",
              "  @keyframes spin {\n",
              "    0% {\n",
              "      border-color: transparent;\n",
              "      border-bottom-color: var(--fill-color);\n",
              "      border-left-color: var(--fill-color);\n",
              "    }\n",
              "    20% {\n",
              "      border-color: transparent;\n",
              "      border-left-color: var(--fill-color);\n",
              "      border-top-color: var(--fill-color);\n",
              "    }\n",
              "    30% {\n",
              "      border-color: transparent;\n",
              "      border-left-color: var(--fill-color);\n",
              "      border-top-color: var(--fill-color);\n",
              "      border-right-color: var(--fill-color);\n",
              "    }\n",
              "    40% {\n",
              "      border-color: transparent;\n",
              "      border-right-color: var(--fill-color);\n",
              "      border-top-color: var(--fill-color);\n",
              "    }\n",
              "    60% {\n",
              "      border-color: transparent;\n",
              "      border-right-color: var(--fill-color);\n",
              "    }\n",
              "    80% {\n",
              "      border-color: transparent;\n",
              "      border-right-color: var(--fill-color);\n",
              "      border-bottom-color: var(--fill-color);\n",
              "    }\n",
              "    90% {\n",
              "      border-color: transparent;\n",
              "      border-bottom-color: var(--fill-color);\n",
              "    }\n",
              "  }\n",
              "</style>\n",
              "\n",
              "      <script>\n",
              "        async function quickchart(key) {\n",
              "          const quickchartButtonEl =\n",
              "            document.querySelector('#' + key + ' button');\n",
              "          quickchartButtonEl.disabled = true;  // To prevent multiple clicks.\n",
              "          quickchartButtonEl.classList.add('colab-df-spinner');\n",
              "          try {\n",
              "            const charts = await google.colab.kernel.invokeFunction(\n",
              "                'suggestCharts', [key], {});\n",
              "          } catch (error) {\n",
              "            console.error('Error during call to suggestCharts:', error);\n",
              "          }\n",
              "          quickchartButtonEl.classList.remove('colab-df-spinner');\n",
              "          quickchartButtonEl.classList.add('colab-df-quickchart-complete');\n",
              "        }\n",
              "        (() => {\n",
              "          let quickchartButtonEl =\n",
              "            document.querySelector('#df-d2bb4947-3a5c-4e04-b662-a1100f160c13 button');\n",
              "          quickchartButtonEl.style.display =\n",
              "            google.colab.kernel.accessAllowed ? 'block' : 'none';\n",
              "        })();\n",
              "      </script>\n",
              "    </div>\n",
              "\n",
              "    </div>\n",
              "  </div>\n"
            ],
            "application/vnd.google.colaboratory.intrinsic+json": {
              "type": "dataframe",
              "repr_error": "0"
            }
          },
          "metadata": {},
          "execution_count": 11
        }
      ],
      "execution_count": 11
    },
    {
      "cell_type": "markdown",
      "source": [
        "### Melihat distribusi tahun publikasi"
      ],
      "metadata": {
        "id": "JGJy11hoN6IJ"
      }
    },
    {
      "cell_type": "code",
      "source": [
        "import matplotlib.pyplot as plt\n",
        "import seaborn as sns\n",
        "import pandas as pd\n",
        "\n",
        "year_data = pd.to_numeric(books['Year-Of-Publication'], errors='coerce')\n",
        "\n",
        "books_temp = books.copy()\n",
        "books_temp['Year-Of-Publication'] = year_data\n",
        "\n",
        "books_cleaned = books_temp.dropna(subset=['Year-Of-Publication']).copy()\n",
        "books_cleaned['Year-Of-Publication'] = books_cleaned['Year-Of-Publication'].astype(int)\n",
        "books_filtered = books_cleaned[(books_cleaned['Year-Of-Publication'] >= 1900) &\n",
        "                               (books_cleaned['Year-Of-Publication'] <= 2025)]\n",
        "\n",
        "plt.figure(figsize=(12,5))\n",
        "sns.histplot(books_filtered['Year-Of-Publication'], bins=40, kde=False, color='lightgreen')\n",
        "plt.title(\"Distribusi Tahun Publikasi Buku (1950 - 2025)\")\n",
        "plt.xlabel(\"Tahun Publikasi\")\n",
        "plt.ylabel(\"Jumlah Buku\")\n",
        "plt.xticks(rotation=45)\n",
        "plt.tight_layout()\n",
        "plt.show()"
      ],
      "metadata": {
        "colab": {
          "base_uri": "https://localhost:8080/",
          "height": 507
        },
        "id": "Mo64lrqVLorS",
        "outputId": "39815ecc-5419-43d8-9672-673f9c9f5bfd",
        "trusted": true,
        "execution": {
          "iopub.status.busy": "2025-05-29T02:36:20.413713Z",
          "iopub.execute_input": "2025-05-29T02:36:20.413959Z",
          "iopub.status.idle": "2025-05-29T02:36:21.208506Z",
          "shell.execute_reply.started": "2025-05-29T02:36:20.413938Z",
          "shell.execute_reply": "2025-05-29T02:36:21.207807Z"
        }
      },
      "outputs": [
        {
          "output_type": "display_data",
          "data": {
            "text/plain": [
              "<Figure size 1200x500 with 1 Axes>"
            ],
            "image/png": "[encoded data removed]"
          },
          "metadata": {}
        }
      ],
      "execution_count": 12
    },
    {
      "cell_type": "markdown",
      "source": [
        "Puncak publikasi buku terlihat jelas di sekitar tahun 2000-an. Batang-batang tertinggi berada di sekitar tahun 1990-an akhir hingga awal 2000-an, menunjukkan bahwa sebagian besar buku dalam dataset ini diterbitkan pada periode tersebut.\n"
      ],
      "metadata": {
        "id": "OVKV_U0N9R7m"
      }
    },
    {
      "cell_type": "markdown",
      "source": [
        "### 10 Penulis Terbanyak"
      ],
      "metadata": {
        "id": "qKIYYZ4lN-Rn"
      }
    },
    {
      "cell_type": "code",
      "source": [
        "top_authors = books['Book-Author'].value_counts().head(10)\n",
        "plt.figure(figsize=(10,5))\n",
        "sns.barplot(x=top_authors.values, y=top_authors.index)\n",
        "plt.title(\"10 Penulis dengan Jumlah Buku Terbanyak\")\n",
        "plt.xlabel(\"Jumlah Buku\")\n",
        "plt.ylabel(\"Penulis\")\n",
        "plt.show()"
      ],
      "metadata": {
        "colab": {
          "base_uri": "https://localhost:8080/",
          "height": 487
        },
        "id": "_MP8S2V8Nr35",
        "outputId": "c42e902a-b045-463e-d320-a6476a55cc7e",
        "trusted": true,
        "execution": {
          "iopub.status.busy": "2025-05-29T02:36:21.209202Z",
          "iopub.execute_input": "2025-05-29T02:36:21.209463Z",
          "iopub.status.idle": "2025-05-29T02:36:21.456693Z",
          "shell.execute_reply.started": "2025-05-29T02:36:21.209445Z",
          "shell.execute_reply": "2025-05-29T02:36:21.456031Z"
        }
      },
      "outputs": [
        {
          "output_type": "display_data",
          "data": {
            "text/plain": [
              "<Figure size 1000x500 with 1 Axes>"
            ],
            "image/png": "[encoded data removed]"
          },
          "metadata": {}
        }
      ],
      "execution_count": 13
    },
    {
      "cell_type": "markdown",
      "source": [
        "Diagram menunjukkan bahwa Agatha Christie adalah penulis dengan jumlah buku terbanyak di antara 10 penulis teratas yang disajikan. diikuti oleh Wilian Shakespeare dan Stephen King."
      ],
      "metadata": {
        "id": "z5HWvDbh9VIT"
      }
    },
    {
      "cell_type": "markdown",
      "source": [
        "### 10 Publisher Terbanyak"
      ],
      "metadata": {
        "id": "epXvOP5eN_7V"
      }
    },
    {
      "cell_type": "code",
      "source": [
        "top_publishers = books['Publisher'].value_counts().head(10)\n",
        "plt.figure(figsize=(10,5))\n",
        "sns.barplot(x=top_publishers.values, y=top_publishers.index)\n",
        "plt.title(\"10 Publisher Terbanyak\")\n",
        "plt.xlabel(\"Jumlah Buku\")\n",
        "plt.ylabel(\"Publisher\")\n",
        "plt.show()"
      ],
      "metadata": {
        "colab": {
          "base_uri": "https://localhost:8080/",
          "height": 487
        },
        "id": "2SKbuujUNuJ5",
        "outputId": "f22c9d8c-6148-40f1-a6fa-27e00e793df0",
        "trusted": true,
        "execution": {
          "iopub.status.busy": "2025-05-29T02:36:21.457370Z",
          "iopub.execute_input": "2025-05-29T02:36:21.457594Z",
          "iopub.status.idle": "2025-05-29T02:36:21.658324Z",
          "shell.execute_reply.started": "2025-05-29T02:36:21.457563Z",
          "shell.execute_reply": "2025-05-29T02:36:21.657636Z"
        }
      },
      "outputs": [
        {
          "output_type": "display_data",
          "data": {
            "text/plain": [
              "<Figure size 1000x500 with 1 Axes>"
            ],
            "image/png": "[encoded data removed]"
          },
          "metadata": {}
        }
      ],
      "execution_count": 14
    },
    {
      "cell_type": "markdown",
      "source": [
        "Diagram menunjukkan bahwa Harlequin adalah penerbit dengan jumlah buku terbanyak di antara 10 penerbit teratas yang disajikan. Hal ini mengindikasikan dominansi Harlequin dalam jumlah publikasi dibandingkan penerbit lain dalam dataset ini."
      ],
      "metadata": {
        "id": "W8a2cnsF9W8N"
      }
    },
    {
      "cell_type": "markdown",
      "source": [
        "## User"
      ],
      "metadata": {
        "id": "qvWybglRJw7z"
      }
    },
    {
      "cell_type": "code",
      "source": [
        "print(\"Kolom pada Users.csv:\")\n",
        "users.columns.tolist()\n"
      ],
      "metadata": {
        "colab": {
          "base_uri": "https://localhost:8080/"
        },
        "id": "k5u4Q9SUJ05o",
        "outputId": "aec67048-3cb4-42a3-c97a-4f4b3fe1b139",
        "trusted": true,
        "execution": {
          "iopub.status.busy": "2025-05-29T02:36:21.659086Z",
          "iopub.execute_input": "2025-05-29T02:36:21.659350Z",
          "iopub.status.idle": "2025-05-29T02:36:21.664760Z",
          "shell.execute_reply.started": "2025-05-29T02:36:21.659326Z",
          "shell.execute_reply": "2025-05-29T02:36:21.663919Z"
        }
      },
      "outputs": [
        {
          "output_type": "stream",
          "name": "stdout",
          "text": [
            "Kolom pada Users.csv:\n"
          ]
        },
        {
          "output_type": "execute_result",
          "data": {
            "text/plain": [
              "['User-ID', 'Location', 'Age']"
            ]
          },
          "metadata": {},
          "execution_count": 15
        }
      ],
      "execution_count": 15
    },
    {
      "cell_type": "markdown",
      "source": [
        "- User-ID: Ini adalah nomor identifikasi unik untuk setiap pengguna dalam dataset.\n",
        "- Location: Informasi lokasi geografis dari pengguna. Ini bisa berupa kota, negara, atau kombinasi keduanya.\n",
        "- Age: Usia pengguna. Kolom ini bisa digunakan untuk memahami demografi pengguna atau dalam beberapa algoritma rekomendasi."
      ],
      "metadata": {
        "id": "7yWxic3nJ9Zp"
      }
    },
    {
      "cell_type": "code",
      "source": [
        "users.head()"
      ],
      "metadata": {
        "colab": {
          "base_uri": "https://localhost:8080/",
          "height": 0
        },
        "id": "zAmbCf8cK_kR",
        "outputId": "ac8f2d04-8680-4aff-fcd8-08c767a4faea",
        "trusted": true,
        "execution": {
          "iopub.status.busy": "2025-05-29T02:36:21.665713Z",
          "iopub.execute_input": "2025-05-29T02:36:21.666017Z",
          "iopub.status.idle": "2025-05-29T02:36:21.686813Z",
          "shell.execute_reply.started": "2025-05-29T02:36:21.665994Z",
          "shell.execute_reply": "2025-05-29T02:36:21.686128Z"
        }
      },
      "outputs": [
        {
          "output_type": "execute_result",
          "data": {
            "text/plain": [
              "   User-ID                            Location   Age\n",
              "0        1                  nyc, new york, usa   NaN\n",
              "1        2           stockton, california, usa  18.0\n",
              "2        3     moscow, yukon territory, russia   NaN\n",
              "3        4           porto, v.n.gaia, portugal  17.0\n",
              "4        5  farnborough, hants, united kingdom   NaN"
            ],
            "text/html": [
              "\n",
              "  <div id=\"df-7aea4a98-9e29-4335-bd66-14919fec696e\" class=\"colab-df-container\">\n",
              "    <div>\n",
              "<style scoped>\n",
              "    .dataframe tbody tr th:only-of-type {\n",
              "        vertical-align: middle;\n",
              "    }\n",
              "\n",
              "    .dataframe tbody tr th {\n",
              "        vertical-align: top;\n",
              "    }\n",
              "\n",
              "    .dataframe thead th {\n",
              "        text-align: right;\n",
              "    }\n",
              "</style>\n",
              "<table border=\"1\" class=\"dataframe\">\n",
              "  <thead>\n",
              "    <tr style=\"text-align: right;\">\n",
              "      <th></th>\n",
              "      <th>User-ID</th>\n",
              "      <th>Location</th>\n",
              "      <th>Age</th>\n",
              "    </tr>\n",
              "  </thead>\n",
              "  <tbody>\n",
              "    <tr>\n",
              "      <th>0</th>\n",
              "      <td>1</td>\n",
              "      <td>nyc, new york, usa</td>\n",
              "      <td>NaN</td>\n",
              "    </tr>\n",
              "    <tr>\n",
              "      <th>1</th>\n",
              "      <td>2</td>\n",
              "      <td>stockton, california, usa</td>\n",
              "      <td>18.0</td>\n",
              "    </tr>\n",
              "    <tr>\n",
              "      <th>2</th>\n",
              "      <td>3</td>\n",
              "      <td>moscow, yukon territory, russia</td>\n",
              "      <td>NaN</td>\n",
              "    </tr>\n",
              "    <tr>\n",
              "      <th>3</th>\n",
              "      <td>4</td>\n",
              "      <td>porto, v.n.gaia, portugal</td>\n",
              "      <td>17.0</td>\n",
              "    </tr>\n",
              "    <tr>\n",
              "      <th>4</th>\n",
              "      <td>5</td>\n",
              "      <td>farnborough, hants, united kingdom</td>\n",
              "      <td>NaN</td>\n",
              "    </tr>\n",
              "  </tbody>\n",
              "</table>\n",
              "</div>\n",
              "    <div class=\"colab-df-buttons\">\n",
              "\n",
              "  <div class=\"colab-df-container\">\n",
              "    <button class=\"colab-df-convert\" onclick=\"convertToInteractive('df-7aea4a98-9e29-4335-bd66-14919fec696e')\"\n",
              "            title=\"Convert this dataframe to an interactive table.\"\n",
              "            style=\"display:none;\">\n",
              "\n",
              "  <svg xmlns=\"http://www.w3.org/2000/svg\" height=\"24px\" viewBox=\"0 -960 960 960\">\n",
              "    <path d=\"M120-120v-720h720v720H120Zm60-500h600v-160H180v160Zm220 220h160v-160H400v160Zm0 220h160v-160H400v160ZM180-400h160v-160H180v160Zm440 0h160v-160H620v160ZM180-180h160v-160H180v160Zm440 0h160v-160H620v160Z\"/>\n",
              "  </svg>\n",
              "    </button>\n",
              "\n",
              "  <style>\n",
              "    .colab-df-container {\n",
              "      display:flex;\n",
              "      gap: 12px;\n",
              "    }\n",
              "\n",
              "    .colab-df-convert {\n",
              "      background-color: #E8F0FE;\n",
              "      border: none;\n",
              "      border-radius: 50%;\n",
              "      cursor: pointer;\n",
              "      display: none;\n",
              "      fill: #1967D2;\n",
              "      height: 32px;\n",
              "      padding: 0 0 0 0;\n",
              "      width: 32px;\n",
              "    }\n",
              "\n",
              "    .colab-df-convert:hover {\n",
              "      background-color: #E2EBFA;\n",
              "      box-shadow: 0px 1px 2px rgba(60, 64, 67, 0.3), 0px 1px 3px 1px rgba(60, 64, 67, 0.15);\n",
              "      fill: #174EA6;\n",
              "    }\n",
              "\n",
              "    .colab-df-buttons div {\n",
              "      margin-bottom: 4px;\n",
              "    }\n",
              "\n",
              "    [theme=dark] .colab-df-convert {\n",
              "      background-color: #3B4455;\n",
              "      fill: #D2E3FC;\n",
              "    }\n",
              "\n",
              "    [theme=dark] .colab-df-convert:hover {\n",
              "      background-color: #434B5C;\n",
              "      box-shadow: 0px 1px 3px 1px rgba(0, 0, 0, 0.15);\n",
              "      filter: drop-shadow(0px 1px 2px rgba(0, 0, 0, 0.3));\n",
              "      fill: #FFFFFF;\n",
              "    }\n",
              "  </style>\n",
              "\n",
              "    <script>\n",
              "      const buttonEl =\n",
              "        document.querySelector('#df-7aea4a98-9e29-4335-bd66-14919fec696e button.colab-df-convert');\n",
              "      buttonEl.style.display =\n",
              "        google.colab.kernel.accessAllowed ? 'block' : 'none';\n",
              "\n",
              "      async function convertToInteractive(key) {\n",
              "        const element = document.querySelector('#df-7aea4a98-9e29-4335-bd66-14919fec696e');\n",
              "        const dataTable =\n",
              "          await google.colab.kernel.invokeFunction('convertToInteractive',\n",
              "                                                    [key], {});\n",
              "        if (!dataTable) return;\n",
              "\n",
              "        const docLinkHtml = 'Like what you see? Visit the ' +\n",
              "          '<a target=\"_blank\" href=https://colab.research.google.com/notebooks/data_table.ipynb>data table notebook</a>'\n",
              "          + ' to learn more about interactive tables.';\n",
              "        element.innerHTML = '';\n",
              "        dataTable['output_type'] = 'display_data';\n",
              "        await google.colab.output.renderOutput(dataTable, element);\n",
              "        const docLink = document.createElement('div');\n",
              "        docLink.innerHTML = docLinkHtml;\n",
              "        element.appendChild(docLink);\n",
              "      }\n",
              "    </script>\n",
              "  </div>\n",
              "\n",
              "\n",
              "    <div id=\"df-2738eea9-e458-473f-8f10-ef184221dc47\">\n",
              "      <button class=\"colab-df-quickchart\" onclick=\"quickchart('df-2738eea9-e458-473f-8f10-ef184221dc47')\"\n",
              "                title=\"Suggest charts\"\n",
              "                style=\"display:none;\">\n",
              "\n",
              "<svg xmlns=\"http://www.w3.org/2000/svg\" height=\"24px\"viewBox=\"0 0 24 24\"\n",
              "     width=\"24px\">\n",
              "    <g>\n",
              "        <path d=\"M19 3H5c-1.1 0-2 .9-2 2v14c0 1.1.9 2 2 2h14c1.1 0 2-.9 2-2V5c0-1.1-.9-2-2-2zM9 17H7v-7h2v7zm4 0h-2V7h2v10zm4 0h-2v-4h2v4z\"/>\n",
              "    </g>\n",
              "</svg>\n",
              "      </button>\n",
              "\n",
              "<style>\n",
              "  .colab-df-quickchart {\n",
              "      --bg-color: #E8F0FE;\n",
              "      --fill-color: #1967D2;\n",
              "      --hover-bg-color: #E2EBFA;\n",
              "      --hover-fill-color: #174EA6;\n",
              "      --disabled-fill-color: #AAA;\n",
              "      --disabled-bg-color: #DDD;\n",
              "  }\n",
              "\n",
              "  [theme=dark] .colab-df-quickchart {\n",
              "      --bg-color: #3B4455;\n",
              "      --fill-color: #D2E3FC;\n",
              "      --hover-bg-color: #434B5C;\n",
              "      --hover-fill-color: #FFFFFF;\n",
              "      --disabled-bg-color: #3B4455;\n",
              "      --disabled-fill-color: #666;\n",
              "  }\n",
              "\n",
              "  .colab-df-quickchart {\n",
              "    background-color: var(--bg-color);\n",
              "    border: none;\n",
              "    border-radius: 50%;\n",
              "    cursor: pointer;\n",
              "    display: none;\n",
              "    fill: var(--fill-color);\n",
              "    height: 32px;\n",
              "    padding: 0;\n",
              "    width: 32px;\n",
              "  }\n",
              "\n",
              "  .colab-df-quickchart:hover {\n",
              "    background-color: var(--hover-bg-color);\n",
              "    box-shadow: 0 1px 2px rgba(60, 64, 67, 0.3), 0 1px 3px 1px rgba(60, 64, 67, 0.15);\n",
              "    fill: var(--button-hover-fill-color);\n",
              "  }\n",
              "\n",
              "  .colab-df-quickchart-complete:disabled,\n",
              "  .colab-df-quickchart-complete:disabled:hover {\n",
              "    background-color: var(--disabled-bg-color);\n",
              "    fill: var(--disabled-fill-color);\n",
              "    box-shadow: none;\n",
              "  }\n",
              "\n",
              "  .colab-df-spinner {\n",
              "    border: 2px solid var(--fill-color);\n",
              "    border-color: transparent;\n",
              "    border-bottom-color: var(--fill-color);\n",
              "    animation:\n",
              "      spin 1s steps(1) infinite;\n",
              "  }\n",
              "\n",
              "  @keyframes spin {\n",
              "    0% {\n",
              "      border-color: transparent;\n",
              "      border-bottom-color: var(--fill-color);\n",
              "      border-left-color: var(--fill-color);\n",
              "    }\n",
              "    20% {\n",
              "      border-color: transparent;\n",
              "      border-left-color: var(--fill-color);\n",
              "      border-top-color: var(--fill-color);\n",
              "    }\n",
              "    30% {\n",
              "      border-color: transparent;\n",
              "      border-left-color: var(--fill-color);\n",
              "      border-top-color: var(--fill-color);\n",
              "      border-right-color: var(--fill-color);\n",
              "    }\n",
              "    40% {\n",
              "      border-color: transparent;\n",
              "      border-right-color: var(--fill-color);\n",
              "      border-top-color: var(--fill-color);\n",
              "    }\n",
              "    60% {\n",
              "      border-color: transparent;\n",
              "      border-right-color: var(--fill-color);\n",
              "    }\n",
              "    80% {\n",
              "      border-color: transparent;\n",
              "      border-right-color: var(--fill-color);\n",
              "      border-bottom-color: var(--fill-color);\n",
              "    }\n",
              "    90% {\n",
              "      border-color: transparent;\n",
              "      border-bottom-color: var(--fill-color);\n",
              "    }\n",
              "  }\n",
              "</style>\n",
              "\n",
              "      <script>\n",
              "        async function quickchart(key) {\n",
              "          const quickchartButtonEl =\n",
              "            document.querySelector('#' + key + ' button');\n",
              "          quickchartButtonEl.disabled = true;  // To prevent multiple clicks.\n",
              "          quickchartButtonEl.classList.add('colab-df-spinner');\n",
              "          try {\n",
              "            const charts = await google.colab.kernel.invokeFunction(\n",
              "                'suggestCharts', [key], {});\n",
              "          } catch (error) {\n",
              "            console.error('Error during call to suggestCharts:', error);\n",
              "          }\n",
              "          quickchartButtonEl.classList.remove('colab-df-spinner');\n",
              "          quickchartButtonEl.classList.add('colab-df-quickchart-complete');\n",
              "        }\n",
              "        (() => {\n",
              "          let quickchartButtonEl =\n",
              "            document.querySelector('#df-2738eea9-e458-473f-8f10-ef184221dc47 button');\n",
              "          quickchartButtonEl.style.display =\n",
              "            google.colab.kernel.accessAllowed ? 'block' : 'none';\n",
              "        })();\n",
              "      </script>\n",
              "    </div>\n",
              "\n",
              "    </div>\n",
              "  </div>\n"
            ],
            "application/vnd.google.colaboratory.intrinsic+json": {
              "type": "dataframe",
              "variable_name": "users"
            }
          },
          "metadata": {},
          "execution_count": 16
        }
      ],
      "execution_count": 16
    },
    {
      "cell_type": "code",
      "source": [
        "users.info()"
      ],
      "metadata": {
        "colab": {
          "base_uri": "https://localhost:8080/"
        },
        "id": "6VYgsQ8HLCZA",
        "outputId": "897733b7-250c-4981-b5c3-bf18efa8cbc8",
        "trusted": true,
        "execution": {
          "iopub.status.busy": "2025-05-29T02:36:21.687527Z",
          "iopub.execute_input": "2025-05-29T02:36:21.687726Z",
          "iopub.status.idle": "2025-05-29T02:36:21.721640Z",
          "shell.execute_reply.started": "2025-05-29T02:36:21.687713Z",
          "shell.execute_reply": "2025-05-29T02:36:21.720865Z"
        }
      },
      "outputs": [
        {
          "output_type": "stream",
          "name": "stdout",
          "text": [
            "<class 'pandas.core.frame.DataFrame'>\n",
            "RangeIndex: 278858 entries, 0 to 278857\n",
            "Data columns (total 3 columns):\n",
            " #   Column    Non-Null Count   Dtype  \n",
            "---  ------    --------------   -----  \n",
            " 0   User-ID   278858 non-null  int64  \n",
            " 1   Location  278858 non-null  object \n",
            " 2   Age       168096 non-null  float64\n",
            "dtypes: float64(1), int64(1), object(1)\n",
            "memory usage: 6.4+ MB\n"
          ]
        }
      ],
      "execution_count": 17
    },
    {
      "cell_type": "markdown",
      "source": [
        "type data setiap kolom sudah benar dan sesuai."
      ],
      "metadata": {
        "id": "mHytMrHG9gk3"
      }
    },
    {
      "cell_type": "code",
      "source": [
        "users.describe()"
      ],
      "metadata": {
        "colab": {
          "base_uri": "https://localhost:8080/",
          "height": 0
        },
        "id": "jeLznBxWLFJR",
        "outputId": "613a5497-f831-4319-c855-917446617437",
        "trusted": true,
        "execution": {
          "iopub.status.busy": "2025-05-29T02:36:21.722276Z",
          "iopub.execute_input": "2025-05-29T02:36:21.722537Z",
          "iopub.status.idle": "2025-05-29T02:36:21.755070Z",
          "shell.execute_reply.started": "2025-05-29T02:36:21.722519Z",
          "shell.execute_reply": "2025-05-29T02:36:21.754502Z"
        }
      },
      "outputs": [
        {
          "output_type": "execute_result",
          "data": {
            "text/plain": [
              "            User-ID            Age\n",
              "count  278858.00000  168096.000000\n",
              "mean   139429.50000      34.751434\n",
              "std     80499.51502      14.428097\n",
              "min         1.00000       0.000000\n",
              "25%     69715.25000      24.000000\n",
              "50%    139429.50000      32.000000\n",
              "75%    209143.75000      44.000000\n",
              "max    278858.00000     244.000000"
            ],
            "text/html": [
              "\n",
              "  <div id=\"df-25aa6422-e458-40c0-8906-70578801b375\" class=\"colab-df-container\">\n",
              "    <div>\n",
              "<style scoped>\n",
              "    .dataframe tbody tr th:only-of-type {\n",
              "        vertical-align: middle;\n",
              "    }\n",
              "\n",
              "    .dataframe tbody tr th {\n",
              "        vertical-align: top;\n",
              "    }\n",
              "\n",
              "    .dataframe thead th {\n",
              "        text-align: right;\n",
              "    }\n",
              "</style>\n",
              "<table border=\"1\" class=\"dataframe\">\n",
              "  <thead>\n",
              "    <tr style=\"text-align: right;\">\n",
              "      <th></th>\n",
              "      <th>User-ID</th>\n",
              "      <th>Age</th>\n",
              "    </tr>\n",
              "  </thead>\n",
              "  <tbody>\n",
              "    <tr>\n",
              "      <th>count</th>\n",
              "      <td>278858.00000</td>\n",
              "      <td>168096.000000</td>\n",
              "    </tr>\n",
              "    <tr>\n",
              "      <th>mean</th>\n",
              "      <td>139429.50000</td>\n",
              "      <td>34.751434</td>\n",
              "    </tr>\n",
              "    <tr>\n",
              "      <th>std</th>\n",
              "      <td>80499.51502</td>\n",
              "      <td>14.428097</td>\n",
              "    </tr>\n",
              "    <tr>\n",
              "      <th>min</th>\n",
              "      <td>1.00000</td>\n",
              "      <td>0.000000</td>\n",
              "    </tr>\n",
              "    <tr>\n",
              "      <th>25%</th>\n",
              "      <td>69715.25000</td>\n",
              "      <td>24.000000</td>\n",
              "    </tr>\n",
              "    <tr>\n",
              "      <th>50%</th>\n",
              "      <td>139429.50000</td>\n",
              "      <td>32.000000</td>\n",
              "    </tr>\n",
              "    <tr>\n",
              "      <th>75%</th>\n",
              "      <td>209143.75000</td>\n",
              "      <td>44.000000</td>\n",
              "    </tr>\n",
              "    <tr>\n",
              "      <th>max</th>\n",
              "      <td>278858.00000</td>\n",
              "      <td>244.000000</td>\n",
              "    </tr>\n",
              "  </tbody>\n",
              "</table>\n",
              "</div>\n",
              "    <div class=\"colab-df-buttons\">\n",
              "\n",
              "  <div class=\"colab-df-container\">\n",
              "    <button class=\"colab-df-convert\" onclick=\"convertToInteractive('df-25aa6422-e458-40c0-8906-70578801b375')\"\n",
              "            title=\"Convert this dataframe to an interactive table.\"\n",
              "            style=\"display:none;\">\n",
              "\n",
              "  <svg xmlns=\"http://www.w3.org/2000/svg\" height=\"24px\" viewBox=\"0 -960 960 960\">\n",
              "    <path d=\"M120-120v-720h720v720H120Zm60-500h600v-160H180v160Zm220 220h160v-160H400v160Zm0 220h160v-160H400v160ZM180-400h160v-160H180v160Zm440 0h160v-160H620v160ZM180-180h160v-160H180v160Zm440 0h160v-160H620v160Z\"/>\n",
              "  </svg>\n",
              "    </button>\n",
              "\n",
              "  <style>\n",
              "    .colab-df-container {\n",
              "      display:flex;\n",
              "      gap: 12px;\n",
              "    }\n",
              "\n",
              "    .colab-df-convert {\n",
              "      background-color: #E8F0FE;\n",
              "      border: none;\n",
              "      border-radius: 50%;\n",
              "      cursor: pointer;\n",
              "      display: none;\n",
              "      fill: #1967D2;\n",
              "      height: 32px;\n",
              "      padding: 0 0 0 0;\n",
              "      width: 32px;\n",
              "    }\n",
              "\n",
              "    .colab-df-convert:hover {\n",
              "      background-color: #E2EBFA;\n",
              "      box-shadow: 0px 1px 2px rgba(60, 64, 67, 0.3), 0px 1px 3px 1px rgba(60, 64, 67, 0.15);\n",
              "      fill: #174EA6;\n",
              "    }\n",
              "\n",
              "    .colab-df-buttons div {\n",
              "      margin-bottom: 4px;\n",
              "    }\n",
              "\n",
              "    [theme=dark] .colab-df-convert {\n",
              "      background-color: #3B4455;\n",
              "      fill: #D2E3FC;\n",
              "    }\n",
              "\n",
              "    [theme=dark] .colab-df-convert:hover {\n",
              "      background-color: #434B5C;\n",
              "      box-shadow: 0px 1px 3px 1px rgba(0, 0, 0, 0.15);\n",
              "      filter: drop-shadow(0px 1px 2px rgba(0, 0, 0, 0.3));\n",
              "      fill: #FFFFFF;\n",
              "    }\n",
              "  </style>\n",
              "\n",
              "    <script>\n",
              "      const buttonEl =\n",
              "        document.querySelector('#df-25aa6422-e458-40c0-8906-70578801b375 button.colab-df-convert');\n",
              "      buttonEl.style.display =\n",
              "        google.colab.kernel.accessAllowed ? 'block' : 'none';\n",
              "\n",
              "      async function convertToInteractive(key) {\n",
              "        const element = document.querySelector('#df-25aa6422-e458-40c0-8906-70578801b375');\n",
              "        const dataTable =\n",
              "          await google.colab.kernel.invokeFunction('convertToInteractive',\n",
              "                                                    [key], {});\n",
              "        if (!dataTable) return;\n",
              "\n",
              "        const docLinkHtml = 'Like what you see? Visit the ' +\n",
              "          '<a target=\"_blank\" href=https://colab.research.google.com/notebooks/data_table.ipynb>data table notebook</a>'\n",
              "          + ' to learn more about interactive tables.';\n",
              "        element.innerHTML = '';\n",
              "        dataTable['output_type'] = 'display_data';\n",
              "        await google.colab.output.renderOutput(dataTable, element);\n",
              "        const docLink = document.createElement('div');\n",
              "        docLink.innerHTML = docLinkHtml;\n",
              "        element.appendChild(docLink);\n",
              "      }\n",
              "    </script>\n",
              "  </div>\n",
              "\n",
              "\n",
              "    <div id=\"df-34aad76c-3595-46d4-bc4e-7f413d70d135\">\n",
              "      <button class=\"colab-df-quickchart\" onclick=\"quickchart('df-34aad76c-3595-46d4-bc4e-7f413d70d135')\"\n",
              "                title=\"Suggest charts\"\n",
              "                style=\"display:none;\">\n",
              "\n",
              "<svg xmlns=\"http://www.w3.org/2000/svg\" height=\"24px\"viewBox=\"0 0 24 24\"\n",
              "     width=\"24px\">\n",
              "    <g>\n",
              "        <path d=\"M19 3H5c-1.1 0-2 .9-2 2v14c0 1.1.9 2 2 2h14c1.1 0 2-.9 2-2V5c0-1.1-.9-2-2-2zM9 17H7v-7h2v7zm4 0h-2V7h2v10zm4 0h-2v-4h2v4z\"/>\n",
              "    </g>\n",
              "</svg>\n",
              "      </button>\n",
              "\n",
              "<style>\n",
              "  .colab-df-quickchart {\n",
              "      --bg-color: #E8F0FE;\n",
              "      --fill-color: #1967D2;\n",
              "      --hover-bg-color: #E2EBFA;\n",
              "      --hover-fill-color: #174EA6;\n",
              "      --disabled-fill-color: #AAA;\n",
              "      --disabled-bg-color: #DDD;\n",
              "  }\n",
              "\n",
              "  [theme=dark] .colab-df-quickchart {\n",
              "      --bg-color: #3B4455;\n",
              "      --fill-color: #D2E3FC;\n",
              "      --hover-bg-color: #434B5C;\n",
              "      --hover-fill-color: #FFFFFF;\n",
              "      --disabled-bg-color: #3B4455;\n",
              "      --disabled-fill-color: #666;\n",
              "  }\n",
              "\n",
              "  .colab-df-quickchart {\n",
              "    background-color: var(--bg-color);\n",
              "    border: none;\n",
              "    border-radius: 50%;\n",
              "    cursor: pointer;\n",
              "    display: none;\n",
              "    fill: var(--fill-color);\n",
              "    height: 32px;\n",
              "    padding: 0;\n",
              "    width: 32px;\n",
              "  }\n",
              "\n",
              "  .colab-df-quickchart:hover {\n",
              "    background-color: var(--hover-bg-color);\n",
              "    box-shadow: 0 1px 2px rgba(60, 64, 67, 0.3), 0 1px 3px 1px rgba(60, 64, 67, 0.15);\n",
              "    fill: var(--button-hover-fill-color);\n",
              "  }\n",
              "\n",
              "  .colab-df-quickchart-complete:disabled,\n",
              "  .colab-df-quickchart-complete:disabled:hover {\n",
              "    background-color: var(--disabled-bg-color);\n",
              "    fill: var(--disabled-fill-color);\n",
              "    box-shadow: none;\n",
              "  }\n",
              "\n",
              "  .colab-df-spinner {\n",
              "    border: 2px solid var(--fill-color);\n",
              "    border-color: transparent;\n",
              "    border-bottom-color: var(--fill-color);\n",
              "    animation:\n",
              "      spin 1s steps(1) infinite;\n",
              "  }\n",
              "\n",
              "  @keyframes spin {\n",
              "    0% {\n",
              "      border-color: transparent;\n",
              "      border-bottom-color: var(--fill-color);\n",
              "      border-left-color: var(--fill-color);\n",
              "    }\n",
              "    20% {\n",
              "      border-color: transparent;\n",
              "      border-left-color: var(--fill-color);\n",
              "      border-top-color: var(--fill-color);\n",
              "    }\n",
              "    30% {\n",
              "      border-color: transparent;\n",
              "      border-left-color: var(--fill-color);\n",
              "      border-top-color: var(--fill-color);\n",
              "      border-right-color: var(--fill-color);\n",
              "    }\n",
              "    40% {\n",
              "      border-color: transparent;\n",
              "      border-right-color: var(--fill-color);\n",
              "      border-top-color: var(--fill-color);\n",
              "    }\n",
              "    60% {\n",
              "      border-color: transparent;\n",
              "      border-right-color: var(--fill-color);\n",
              "    }\n",
              "    80% {\n",
              "      border-color: transparent;\n",
              "      border-right-color: var(--fill-color);\n",
              "      border-bottom-color: var(--fill-color);\n",
              "    }\n",
              "    90% {\n",
              "      border-color: transparent;\n",
              "      border-bottom-color: var(--fill-color);\n",
              "    }\n",
              "  }\n",
              "</style>\n",
              "\n",
              "      <script>\n",
              "        async function quickchart(key) {\n",
              "          const quickchartButtonEl =\n",
              "            document.querySelector('#' + key + ' button');\n",
              "          quickchartButtonEl.disabled = true;  // To prevent multiple clicks.\n",
              "          quickchartButtonEl.classList.add('colab-df-spinner');\n",
              "          try {\n",
              "            const charts = await google.colab.kernel.invokeFunction(\n",
              "                'suggestCharts', [key], {});\n",
              "          } catch (error) {\n",
              "            console.error('Error during call to suggestCharts:', error);\n",
              "          }\n",
              "          quickchartButtonEl.classList.remove('colab-df-spinner');\n",
              "          quickchartButtonEl.classList.add('colab-df-quickchart-complete');\n",
              "        }\n",
              "        (() => {\n",
              "          let quickchartButtonEl =\n",
              "            document.querySelector('#df-34aad76c-3595-46d4-bc4e-7f413d70d135 button');\n",
              "          quickchartButtonEl.style.display =\n",
              "            google.colab.kernel.accessAllowed ? 'block' : 'none';\n",
              "        })();\n",
              "      </script>\n",
              "    </div>\n",
              "\n",
              "    </div>\n",
              "  </div>\n"
            ],
            "application/vnd.google.colaboratory.intrinsic+json": {
              "type": "dataframe",
              "summary": "{\n  \"name\": \"users\",\n  \"rows\": 8,\n  \"fields\": [\n    {\n      \"column\": \"User-ID\",\n      \"properties\": {\n        \"dtype\": \"number\",\n        \"std\": 100501.4675852522,\n        \"min\": 1.0,\n        \"max\": 278858.0,\n        \"num_unique_values\": 6,\n        \"samples\": [\n          278858.0,\n          139429.5,\n          209143.75\n        ],\n        \"semantic_type\": \"\",\n        \"description\": \"\"\n      }\n    },\n    {\n      \"column\": \"Age\",\n      \"properties\": {\n        \"dtype\": \"number\",\n        \"std\": 59411.10316076062,\n        \"min\": 0.0,\n        \"max\": 168096.0,\n        \"num_unique_values\": 8,\n        \"samples\": [\n          34.75143370454978,\n          32.0,\n          168096.0\n        ],\n        \"semantic_type\": \"\",\n        \"description\": \"\"\n      }\n    }\n  ]\n}"
            }
          },
          "metadata": {},
          "execution_count": 18
        }
      ],
      "execution_count": 18
    },
    {
      "cell_type": "code",
      "source": [
        "users.isnull().sum()"
      ],
      "metadata": {
        "colab": {
          "base_uri": "https://localhost:8080/",
          "height": 0
        },
        "id": "xq-LzulCLLRZ",
        "outputId": "05a2650f-ed14-407c-9d31-1c8e9fb18b45",
        "trusted": true,
        "execution": {
          "iopub.status.busy": "2025-05-29T02:36:21.755736Z",
          "iopub.execute_input": "2025-05-29T02:36:21.755956Z",
          "iopub.status.idle": "2025-05-29T02:36:21.777324Z",
          "shell.execute_reply.started": "2025-05-29T02:36:21.755932Z",
          "shell.execute_reply": "2025-05-29T02:36:21.776602Z"
        }
      },
      "outputs": [
        {
          "output_type": "execute_result",
          "data": {
            "text/plain": [
              "User-ID          0\n",
              "Location         0\n",
              "Age         110762\n",
              "dtype: int64"
            ],
            "text/html": [
              "<div>\n",
              "<style scoped>\n",
              "    .dataframe tbody tr th:only-of-type {\n",
              "        vertical-align: middle;\n",
              "    }\n",
              "\n",
              "    .dataframe tbody tr th {\n",
              "        vertical-align: top;\n",
              "    }\n",
              "\n",
              "    .dataframe thead th {\n",
              "        text-align: right;\n",
              "    }\n",
              "</style>\n",
              "<table border=\"1\" class=\"dataframe\">\n",
              "  <thead>\n",
              "    <tr style=\"text-align: right;\">\n",
              "      <th></th>\n",
              "      <th>0</th>\n",
              "    </tr>\n",
              "  </thead>\n",
              "  <tbody>\n",
              "    <tr>\n",
              "      <th>User-ID</th>\n",
              "      <td>0</td>\n",
              "    </tr>\n",
              "    <tr>\n",
              "      <th>Location</th>\n",
              "      <td>0</td>\n",
              "    </tr>\n",
              "    <tr>\n",
              "      <th>Age</th>\n",
              "      <td>110762</td>\n",
              "    </tr>\n",
              "  </tbody>\n",
              "</table>\n",
              "</div><br><label><b>dtype:</b> int64</label>"
            ]
          },
          "metadata": {},
          "execution_count": 19
        }
      ],
      "execution_count": 19
    },
    {
      "cell_type": "markdown",
      "source": [
        "terdapat banyak missing value pada kolom age."
      ],
      "metadata": {
        "id": "LizAZ8zT9ax8"
      }
    },
    {
      "cell_type": "markdown",
      "source": [
        "### Distribusi umur pengguna"
      ],
      "metadata": {
        "id": "ACnfunezOL0i"
      }
    },
    {
      "cell_type": "code",
      "source": [
        "plt.figure(figsize=(10,5))\n",
        "sns.histplot(users['Age'], bins=30, kde=False)\n",
        "plt.title(\"Distribusi Umur Pengguna\")\n",
        "plt.xlabel(\"Umur\")\n",
        "plt.ylabel(\"Jumlah\")\n",
        "plt.show()"
      ],
      "metadata": {
        "colab": {
          "base_uri": "https://localhost:8080/",
          "height": 0
        },
        "id": "nTZ9781yOOYG",
        "outputId": "1cd25701-c340-4c81-c658-09cf0c6692d7",
        "trusted": true,
        "execution": {
          "iopub.status.busy": "2025-05-29T02:36:21.778417Z",
          "iopub.execute_input": "2025-05-29T02:36:21.778708Z",
          "iopub.status.idle": "2025-05-29T02:36:22.131065Z",
          "shell.execute_reply.started": "2025-05-29T02:36:21.778682Z",
          "shell.execute_reply": "2025-05-29T02:36:22.130251Z"
        }
      },
      "outputs": [
        {
          "output_type": "display_data",
          "data": {
            "text/plain": [
              "<Figure size 1000x500 with 1 Axes>"
            ],
            "image/png": "[encoded data removed]"
          },
          "metadata": {}
        }
      ],
      "execution_count": 20
    },
    {
      "cell_type": "markdown",
      "source": [
        "Diagram menunjukkan bahwa sebagian besar pengguna berada dalam rentang usia muda hingga dewasa (sekitar 20-40 tahun). Distribusi usia pengguna tampak right-skewed, dengan jumlah pengguna menurun signifikan seiring bertambahnya usia."
      ],
      "metadata": {
        "id": "DhJt461L9kFc"
      }
    },
    {
      "cell_type": "markdown",
      "source": [
        "### Lokasi teratas"
      ],
      "metadata": {
        "id": "8l0GTrcmOaB4"
      }
    },
    {
      "cell_type": "code",
      "source": [
        "top_locations = users['Location'].value_counts().head(10)\n",
        "plt.figure(figsize=(10,5))\n",
        "sns.barplot(x=top_locations.values, y=top_locations.index)\n",
        "plt.title(\"10 Lokasi Terbanyak Pengguna\")\n",
        "plt.xlabel(\"Jumlah Pengguna\")\n",
        "plt.ylabel(\"Lokasi\")\n",
        "plt.show()"
      ],
      "metadata": {
        "colab": {
          "base_uri": "https://localhost:8080/",
          "height": 0
        },
        "id": "RtLy0AoaOXfX",
        "outputId": "085e75ca-469c-45a3-bfa6-952f67ccc4e8",
        "trusted": true,
        "execution": {
          "iopub.status.busy": "2025-05-29T02:36:22.131977Z",
          "iopub.execute_input": "2025-05-29T02:36:22.132817Z",
          "iopub.status.idle": "2025-05-29T02:36:22.358659Z",
          "shell.execute_reply.started": "2025-05-29T02:36:22.132796Z",
          "shell.execute_reply": "2025-05-29T02:36:22.357829Z"
        }
      },
      "outputs": [
        {
          "output_type": "display_data",
          "data": {
            "text/plain": [
              "<Figure size 1000x500 with 1 Axes>"
            ],
            "image/png": "[encoded data removed]"
          },
          "metadata": {}
        }
      ],
      "execution_count": 21
    },
    {
      "cell_type": "markdown",
      "source": [
        "Diagram menunjukkan bahwa London, England, United Kingdom memiliki jumlah pengguna terbanyak, diikuti oleh Toronto, Ontario, Canada. Hal ini mengindikasikan bahwa sebagian besar pengguna dalam dataset ini terkonsentrasi di beberapa kota besar, terutama di Inggris dan Kanada."
      ],
      "metadata": {
        "id": "y0rN4VPO9mGK"
      }
    },
    {
      "cell_type": "markdown",
      "source": [
        "## Rating"
      ],
      "metadata": {
        "id": "sMxOoXsvKApS"
      }
    },
    {
      "cell_type": "code",
      "source": [
        "print(\"Kolom pada Ratings.csv:\")\n",
        "ratings.columns.tolist()"
      ],
      "metadata": {
        "colab": {
          "base_uri": "https://localhost:8080/"
        },
        "id": "BXmA23Q4KEOp",
        "outputId": "b77dc170-87bc-4b06-8818-5127cdf02389",
        "trusted": true,
        "execution": {
          "iopub.status.busy": "2025-05-29T02:36:22.359738Z",
          "iopub.execute_input": "2025-05-29T02:36:22.359959Z",
          "iopub.status.idle": "2025-05-29T02:36:22.364993Z",
          "shell.execute_reply.started": "2025-05-29T02:36:22.359942Z",
          "shell.execute_reply": "2025-05-29T02:36:22.364313Z"
        }
      },
      "outputs": [
        {
          "output_type": "stream",
          "name": "stdout",
          "text": [
            "Kolom pada Ratings.csv:\n"
          ]
        },
        {
          "output_type": "execute_result",
          "data": {
            "text/plain": [
              "['User-ID', 'ISBN', 'Book-Rating']"
            ]
          },
          "metadata": {},
          "execution_count": 22
        }
      ],
      "execution_count": 22
    },
    {
      "cell_type": "markdown",
      "source": [
        "- Book-Rating: penilaian atau skor yang diberikan oleh seorang pengguna kepada sebuah buku."
      ],
      "metadata": {
        "id": "1yfLDu_QKV2C"
      }
    },
    {
      "cell_type": "code",
      "source": [
        "ratings.head()"
      ],
      "metadata": {
        "colab": {
          "base_uri": "https://localhost:8080/",
          "height": 0
        },
        "id": "r6nQ32bGLSI3",
        "outputId": "fd503918-2c77-4450-c1f8-37bf903bc926",
        "trusted": true,
        "execution": {
          "iopub.status.busy": "2025-05-29T02:36:22.365879Z",
          "iopub.execute_input": "2025-05-29T02:36:22.366419Z",
          "iopub.status.idle": "2025-05-29T02:36:22.382838Z",
          "shell.execute_reply.started": "2025-05-29T02:36:22.366394Z",
          "shell.execute_reply": "2025-05-29T02:36:22.382342Z"
        }
      },
      "outputs": [
        {
          "output_type": "execute_result",
          "data": {
            "text/plain": [
              "   User-ID        ISBN  Book-Rating\n",
              "0   276725  034545104X            0\n",
              "1   276726  0155061224            5\n",
              "2   276727  0446520802            0\n",
              "3   276729  052165615X            3\n",
              "4   276729  0521795028            6"
            ],
            "text/html": [
              "\n",
              "  <div id=\"df-475e393c-abad-49e8-9810-01ae4d94fbe7\" class=\"colab-df-container\">\n",
              "    <div>\n",
              "<style scoped>\n",
              "    .dataframe tbody tr th:only-of-type {\n",
              "        vertical-align: middle;\n",
              "    }\n",
              "\n",
              "    .dataframe tbody tr th {\n",
              "        vertical-align: top;\n",
              "    }\n",
              "\n",
              "    .dataframe thead th {\n",
              "        text-align: right;\n",
              "    }\n",
              "</style>\n",
              "<table border=\"1\" class=\"dataframe\">\n",
              "  <thead>\n",
              "    <tr style=\"text-align: right;\">\n",
              "      <th></th>\n",
              "      <th>User-ID</th>\n",
              "      <th>ISBN</th>\n",
              "      <th>Book-Rating</th>\n",
              "    </tr>\n",
              "  </thead>\n",
              "  <tbody>\n",
              "    <tr>\n",
              "      <th>0</th>\n",
              "      <td>276725</td>\n",
              "      <td>034545104X</td>\n",
              "      <td>0</td>\n",
              "    </tr>\n",
              "    <tr>\n",
              "      <th>1</th>\n",
              "      <td>276726</td>\n",
              "      <td>0155061224</td>\n",
              "      <td>5</td>\n",
              "    </tr>\n",
              "    <tr>\n",
              "      <th>2</th>\n",
              "      <td>276727</td>\n",
              "      <td>0446520802</td>\n",
              "      <td>0</td>\n",
              "    </tr>\n",
              "    <tr>\n",
              "      <th>3</th>\n",
              "      <td>276729</td>\n",
              "      <td>052165615X</td>\n",
              "      <td>3</td>\n",
              "    </tr>\n",
              "    <tr>\n",
              "      <th>4</th>\n",
              "      <td>276729</td>\n",
              "      <td>0521795028</td>\n",
              "      <td>6</td>\n",
              "    </tr>\n",
              "  </tbody>\n",
              "</table>\n",
              "</div>\n",
              "    <div class=\"colab-df-buttons\">\n",
              "\n",
              "  <div class=\"colab-df-container\">\n",
              "    <button class=\"colab-df-convert\" onclick=\"convertToInteractive('df-475e393c-abad-49e8-9810-01ae4d94fbe7')\"\n",
              "            title=\"Convert this dataframe to an interactive table.\"\n",
              "            style=\"display:none;\">\n",
              "\n",
              "  <svg xmlns=\"http://www.w3.org/2000/svg\" height=\"24px\" viewBox=\"0 -960 960 960\">\n",
              "    <path d=\"M120-120v-720h720v720H120Zm60-500h600v-160H180v160Zm220 220h160v-160H400v160Zm0 220h160v-160H400v160ZM180-400h160v-160H180v160Zm440 0h160v-160H620v160ZM180-180h160v-160H180v160Zm440 0h160v-160H620v160Z\"/>\n",
              "  </svg>\n",
              "    </button>\n",
              "\n",
              "  <style>\n",
              "    .colab-df-container {\n",
              "      display:flex;\n",
              "      gap: 12px;\n",
              "    }\n",
              "\n",
              "    .colab-df-convert {\n",
              "      background-color: #E8F0FE;\n",
              "      border: none;\n",
              "      border-radius: 50%;\n",
              "      cursor: pointer;\n",
              "      display: none;\n",
              "      fill: #1967D2;\n",
              "      height: 32px;\n",
              "      padding: 0 0 0 0;\n",
              "      width: 32px;\n",
              "    }\n",
              "\n",
              "    .colab-df-convert:hover {\n",
              "      background-color: #E2EBFA;\n",
              "      box-shadow: 0px 1px 2px rgba(60, 64, 67, 0.3), 0px 1px 3px 1px rgba(60, 64, 67, 0.15);\n",
              "      fill: #174EA6;\n",
              "    }\n",
              "\n",
              "    .colab-df-buttons div {\n",
              "      margin-bottom: 4px;\n",
              "    }\n",
              "\n",
              "    [theme=dark] .colab-df-convert {\n",
              "      background-color: #3B4455;\n",
              "      fill: #D2E3FC;\n",
              "    }\n",
              "\n",
              "    [theme=dark] .colab-df-convert:hover {\n",
              "      background-color: #434B5C;\n",
              "      box-shadow: 0px 1px 3px 1px rgba(0, 0, 0, 0.15);\n",
              "      filter: drop-shadow(0px 1px 2px rgba(0, 0, 0, 0.3));\n",
              "      fill: #FFFFFF;\n",
              "    }\n",
              "  </style>\n",
              "\n",
              "    <script>\n",
              "      const buttonEl =\n",
              "        document.querySelector('#df-475e393c-abad-49e8-9810-01ae4d94fbe7 button.colab-df-convert');\n",
              "      buttonEl.style.display =\n",
              "        google.colab.kernel.accessAllowed ? 'block' : 'none';\n",
              "\n",
              "      async function convertToInteractive(key) {\n",
              "        const element = document.querySelector('#df-475e393c-abad-49e8-9810-01ae4d94fbe7');\n",
              "        const dataTable =\n",
              "          await google.colab.kernel.invokeFunction('convertToInteractive',\n",
              "                                                    [key], {});\n",
              "        if (!dataTable) return;\n",
              "\n",
              "        const docLinkHtml = 'Like what you see? Visit the ' +\n",
              "          '<a target=\"_blank\" href=https://colab.research.google.com/notebooks/data_table.ipynb>data table notebook</a>'\n",
              "          + ' to learn more about interactive tables.';\n",
              "        element.innerHTML = '';\n",
              "        dataTable['output_type'] = 'display_data';\n",
              "        await google.colab.output.renderOutput(dataTable, element);\n",
              "        const docLink = document.createElement('div');\n",
              "        docLink.innerHTML = docLinkHtml;\n",
              "        element.appendChild(docLink);\n",
              "      }\n",
              "    </script>\n",
              "  </div>\n",
              "\n",
              "\n",
              "    <div id=\"df-18456254-6201-4d9e-b576-fdaf7adff1ee\">\n",
              "      <button class=\"colab-df-quickchart\" onclick=\"quickchart('df-18456254-6201-4d9e-b576-fdaf7adff1ee')\"\n",
              "                title=\"Suggest charts\"\n",
              "                style=\"display:none;\">\n",
              "\n",
              "<svg xmlns=\"http://www.w3.org/2000/svg\" height=\"24px\"viewBox=\"0 0 24 24\"\n",
              "     width=\"24px\">\n",
              "    <g>\n",
              "        <path d=\"M19 3H5c-1.1 0-2 .9-2 2v14c0 1.1.9 2 2 2h14c1.1 0 2-.9 2-2V5c0-1.1-.9-2-2-2zM9 17H7v-7h2v7zm4 0h-2V7h2v10zm4 0h-2v-4h2v4z\"/>\n",
              "    </g>\n",
              "</svg>\n",
              "      </button>\n",
              "\n",
              "<style>\n",
              "  .colab-df-quickchart {\n",
              "      --bg-color: #E8F0FE;\n",
              "      --fill-color: #1967D2;\n",
              "      --hover-bg-color: #E2EBFA;\n",
              "      --hover-fill-color: #174EA6;\n",
              "      --disabled-fill-color: #AAA;\n",
              "      --disabled-bg-color: #DDD;\n",
              "  }\n",
              "\n",
              "  [theme=dark] .colab-df-quickchart {\n",
              "      --bg-color: #3B4455;\n",
              "      --fill-color: #D2E3FC;\n",
              "      --hover-bg-color: #434B5C;\n",
              "      --hover-fill-color: #FFFFFF;\n",
              "      --disabled-bg-color: #3B4455;\n",
              "      --disabled-fill-color: #666;\n",
              "  }\n",
              "\n",
              "  .colab-df-quickchart {\n",
              "    background-color: var(--bg-color);\n",
              "    border: none;\n",
              "    border-radius: 50%;\n",
              "    cursor: pointer;\n",
              "    display: none;\n",
              "    fill: var(--fill-color);\n",
              "    height: 32px;\n",
              "    padding: 0;\n",
              "    width: 32px;\n",
              "  }\n",
              "\n",
              "  .colab-df-quickchart:hover {\n",
              "    background-color: var(--hover-bg-color);\n",
              "    box-shadow: 0 1px 2px rgba(60, 64, 67, 0.3), 0 1px 3px 1px rgba(60, 64, 67, 0.15);\n",
              "    fill: var(--button-hover-fill-color);\n",
              "  }\n",
              "\n",
              "  .colab-df-quickchart-complete:disabled,\n",
              "  .colab-df-quickchart-complete:disabled:hover {\n",
              "    background-color: var(--disabled-bg-color);\n",
              "    fill: var(--disabled-fill-color);\n",
              "    box-shadow: none;\n",
              "  }\n",
              "\n",
              "  .colab-df-spinner {\n",
              "    border: 2px solid var(--fill-color);\n",
              "    border-color: transparent;\n",
              "    border-bottom-color: var(--fill-color);\n",
              "    animation:\n",
              "      spin 1s steps(1) infinite;\n",
              "  }\n",
              "\n",
              "  @keyframes spin {\n",
              "    0% {\n",
              "      border-color: transparent;\n",
              "      border-bottom-color: var(--fill-color);\n",
              "      border-left-color: var(--fill-color);\n",
              "    }\n",
              "    20% {\n",
              "      border-color: transparent;\n",
              "      border-left-color: var(--fill-color);\n",
              "      border-top-color: var(--fill-color);\n",
              "    }\n",
              "    30% {\n",
              "      border-color: transparent;\n",
              "      border-left-color: var(--fill-color);\n",
              "      border-top-color: var(--fill-color);\n",
              "      border-right-color: var(--fill-color);\n",
              "    }\n",
              "    40% {\n",
              "      border-color: transparent;\n",
              "      border-right-color: var(--fill-color);\n",
              "      border-top-color: var(--fill-color);\n",
              "    }\n",
              "    60% {\n",
              "      border-color: transparent;\n",
              "      border-right-color: var(--fill-color);\n",
              "    }\n",
              "    80% {\n",
              "      border-color: transparent;\n",
              "      border-right-color: var(--fill-color);\n",
              "      border-bottom-color: var(--fill-color);\n",
              "    }\n",
              "    90% {\n",
              "      border-color: transparent;\n",
              "      border-bottom-color: var(--fill-color);\n",
              "    }\n",
              "  }\n",
              "</style>\n",
              "\n",
              "      <script>\n",
              "        async function quickchart(key) {\n",
              "          const quickchartButtonEl =\n",
              "            document.querySelector('#' + key + ' button');\n",
              "          quickchartButtonEl.disabled = true;  // To prevent multiple clicks.\n",
              "          quickchartButtonEl.classList.add('colab-df-spinner');\n",
              "          try {\n",
              "            const charts = await google.colab.kernel.invokeFunction(\n",
              "                'suggestCharts', [key], {});\n",
              "          } catch (error) {\n",
              "            console.error('Error during call to suggestCharts:', error);\n",
              "          }\n",
              "          quickchartButtonEl.classList.remove('colab-df-spinner');\n",
              "          quickchartButtonEl.classList.add('colab-df-quickchart-complete');\n",
              "        }\n",
              "        (() => {\n",
              "          let quickchartButtonEl =\n",
              "            document.querySelector('#df-18456254-6201-4d9e-b576-fdaf7adff1ee button');\n",
              "          quickchartButtonEl.style.display =\n",
              "            google.colab.kernel.accessAllowed ? 'block' : 'none';\n",
              "        })();\n",
              "      </script>\n",
              "    </div>\n",
              "\n",
              "    </div>\n",
              "  </div>\n"
            ],
            "application/vnd.google.colaboratory.intrinsic+json": {
              "type": "dataframe",
              "variable_name": "ratings"
            }
          },
          "metadata": {},
          "execution_count": 23
        }
      ],
      "execution_count": 23
    },
    {
      "cell_type": "code",
      "source": [
        "ratings.info()"
      ],
      "metadata": {
        "colab": {
          "base_uri": "https://localhost:8080/"
        },
        "id": "M05zMsiJLVKK",
        "outputId": "a44d39e5-d5ad-4fa9-be99-c8e1bdaa150b",
        "trusted": true,
        "execution": {
          "iopub.status.busy": "2025-05-29T02:36:22.383727Z",
          "iopub.execute_input": "2025-05-29T02:36:22.383948Z",
          "iopub.status.idle": "2025-05-29T02:36:22.464074Z",
          "shell.execute_reply.started": "2025-05-29T02:36:22.383934Z",
          "shell.execute_reply": "2025-05-29T02:36:22.463427Z"
        }
      },
      "outputs": [
        {
          "output_type": "stream",
          "name": "stdout",
          "text": [
            "<class 'pandas.core.frame.DataFrame'>\n",
            "RangeIndex: 1149780 entries, 0 to 1149779\n",
            "Data columns (total 3 columns):\n",
            " #   Column       Non-Null Count    Dtype \n",
            "---  ------       --------------    ----- \n",
            " 0   User-ID      1149780 non-null  int64 \n",
            " 1   ISBN         1149780 non-null  object\n",
            " 2   Book-Rating  1149780 non-null  int64 \n",
            "dtypes: int64(2), object(1)\n",
            "memory usage: 26.3+ MB\n"
          ]
        }
      ],
      "execution_count": 24
    },
    {
      "cell_type": "markdown",
      "source": [
        "data sudah bersih dan terhindar dari missing value dan type data sudah sesuai."
      ],
      "metadata": {
        "id": "iJscS-Xv9sKf"
      }
    },
    {
      "cell_type": "code",
      "source": [
        "ratings.describe()"
      ],
      "metadata": {
        "colab": {
          "base_uri": "https://localhost:8080/",
          "height": 0
        },
        "id": "wPbTIqicLYBB",
        "outputId": "fdf211e3-5908-44d0-b1c9-9a7f4d46a3f4",
        "trusted": true,
        "execution": {
          "iopub.status.busy": "2025-05-29T02:36:22.464905Z",
          "iopub.execute_input": "2025-05-29T02:36:22.465169Z",
          "iopub.status.idle": "2025-05-29T02:36:22.545025Z",
          "shell.execute_reply.started": "2025-05-29T02:36:22.465149Z",
          "shell.execute_reply": "2025-05-29T02:36:22.544342Z"
        }
      },
      "outputs": [
        {
          "output_type": "execute_result",
          "data": {
            "text/plain": [
              "            User-ID   Book-Rating\n",
              "count  1.149780e+06  1.149780e+06\n",
              "mean   1.403864e+05  2.866950e+00\n",
              "std    8.056228e+04  3.854184e+00\n",
              "min    2.000000e+00  0.000000e+00\n",
              "25%    7.034500e+04  0.000000e+00\n",
              "50%    1.410100e+05  0.000000e+00\n",
              "75%    2.110280e+05  7.000000e+00\n",
              "max    2.788540e+05  1.000000e+01"
            ],
            "text/html": [
              "\n",
              "  <div id=\"df-ebec320d-20a8-48b8-bc97-9acfa37906f2\" class=\"colab-df-container\">\n",
              "    <div>\n",
              "<style scoped>\n",
              "    .dataframe tbody tr th:only-of-type {\n",
              "        vertical-align: middle;\n",
              "    }\n",
              "\n",
              "    .dataframe tbody tr th {\n",
              "        vertical-align: top;\n",
              "    }\n",
              "\n",
              "    .dataframe thead th {\n",
              "        text-align: right;\n",
              "    }\n",
              "</style>\n",
              "<table border=\"1\" class=\"dataframe\">\n",
              "  <thead>\n",
              "    <tr style=\"text-align: right;\">\n",
              "      <th></th>\n",
              "      <th>User-ID</th>\n",
              "      <th>Book-Rating</th>\n",
              "    </tr>\n",
              "  </thead>\n",
              "  <tbody>\n",
              "    <tr>\n",
              "      <th>count</th>\n",
              "      <td>1.149780e+06</td>\n",
              "      <td>1.149780e+06</td>\n",
              "    </tr>\n",
              "    <tr>\n",
              "      <th>mean</th>\n",
              "      <td>1.403864e+05</td>\n",
              "      <td>2.866950e+00</td>\n",
              "    </tr>\n",
              "    <tr>\n",
              "      <th>std</th>\n",
              "      <td>8.056228e+04</td>\n",
              "      <td>3.854184e+00</td>\n",
              "    </tr>\n",
              "    <tr>\n",
              "      <th>min</th>\n",
              "      <td>2.000000e+00</td>\n",
              "      <td>0.000000e+00</td>\n",
              "    </tr>\n",
              "    <tr>\n",
              "      <th>25%</th>\n",
              "      <td>7.034500e+04</td>\n",
              "      <td>0.000000e+00</td>\n",
              "    </tr>\n",
              "    <tr>\n",
              "      <th>50%</th>\n",
              "      <td>1.410100e+05</td>\n",
              "      <td>0.000000e+00</td>\n",
              "    </tr>\n",
              "    <tr>\n",
              "      <th>75%</th>\n",
              "      <td>2.110280e+05</td>\n",
              "      <td>7.000000e+00</td>\n",
              "    </tr>\n",
              "    <tr>\n",
              "      <th>max</th>\n",
              "      <td>2.788540e+05</td>\n",
              "      <td>1.000000e+01</td>\n",
              "    </tr>\n",
              "  </tbody>\n",
              "</table>\n",
              "</div>\n",
              "    <div class=\"colab-df-buttons\">\n",
              "\n",
              "  <div class=\"colab-df-container\">\n",
              "    <button class=\"colab-df-convert\" onclick=\"convertToInteractive('df-ebec320d-20a8-48b8-bc97-9acfa37906f2')\"\n",
              "            title=\"Convert this dataframe to an interactive table.\"\n",
              "            style=\"display:none;\">\n",
              "\n",
              "  <svg xmlns=\"http://www.w3.org/2000/svg\" height=\"24px\" viewBox=\"0 -960 960 960\">\n",
              "    <path d=\"M120-120v-720h720v720H120Zm60-500h600v-160H180v160Zm220 220h160v-160H400v160Zm0 220h160v-160H400v160ZM180-400h160v-160H180v160Zm440 0h160v-160H620v160ZM180-180h160v-160H180v160Zm440 0h160v-160H620v160Z\"/>\n",
              "  </svg>\n",
              "    </button>\n",
              "\n",
              "  <style>\n",
              "    .colab-df-container {\n",
              "      display:flex;\n",
              "      gap: 12px;\n",
              "    }\n",
              "\n",
              "    .colab-df-convert {\n",
              "      background-color: #E8F0FE;\n",
              "      border: none;\n",
              "      border-radius: 50%;\n",
              "      cursor: pointer;\n",
              "      display: none;\n",
              "      fill: #1967D2;\n",
              "      height: 32px;\n",
              "      padding: 0 0 0 0;\n",
              "      width: 32px;\n",
              "    }\n",
              "\n",
              "    .colab-df-convert:hover {\n",
              "      background-color: #E2EBFA;\n",
              "      box-shadow: 0px 1px 2px rgba(60, 64, 67, 0.3), 0px 1px 3px 1px rgba(60, 64, 67, 0.15);\n",
              "      fill: #174EA6;\n",
              "    }\n",
              "\n",
              "    .colab-df-buttons div {\n",
              "      margin-bottom: 4px;\n",
              "    }\n",
              "\n",
              "    [theme=dark] .colab-df-convert {\n",
              "      background-color: #3B4455;\n",
              "      fill: #D2E3FC;\n",
              "    }\n",
              "\n",
              "    [theme=dark] .colab-df-convert:hover {\n",
              "      background-color: #434B5C;\n",
              "      box-shadow: 0px 1px 3px 1px rgba(0, 0, 0, 0.15);\n",
              "      filter: drop-shadow(0px 1px 2px rgba(0, 0, 0, 0.3));\n",
              "      fill: #FFFFFF;\n",
              "    }\n",
              "  </style>\n",
              "\n",
              "    <script>\n",
              "      const buttonEl =\n",
              "        document.querySelector('#df-ebec320d-20a8-48b8-bc97-9acfa37906f2 button.colab-df-convert');\n",
              "      buttonEl.style.display =\n",
              "        google.colab.kernel.accessAllowed ? 'block' : 'none';\n",
              "\n",
              "      async function convertToInteractive(key) {\n",
              "        const element = document.querySelector('#df-ebec320d-20a8-48b8-bc97-9acfa37906f2');\n",
              "        const dataTable =\n",
              "          await google.colab.kernel.invokeFunction('convertToInteractive',\n",
              "                                                    [key], {});\n",
              "        if (!dataTable) return;\n",
              "\n",
              "        const docLinkHtml = 'Like what you see? Visit the ' +\n",
              "          '<a target=\"_blank\" href=https://colab.research.google.com/notebooks/data_table.ipynb>data table notebook</a>'\n",
              "          + ' to learn more about interactive tables.';\n",
              "        element.innerHTML = '';\n",
              "        dataTable['output_type'] = 'display_data';\n",
              "        await google.colab.output.renderOutput(dataTable, element);\n",
              "        const docLink = document.createElement('div');\n",
              "        docLink.innerHTML = docLinkHtml;\n",
              "        element.appendChild(docLink);\n",
              "      }\n",
              "    </script>\n",
              "  </div>\n",
              "\n",
              "\n",
              "    <div id=\"df-2a8bb87f-c264-4c4e-8fbe-db2bf155ecd6\">\n",
              "      <button class=\"colab-df-quickchart\" onclick=\"quickchart('df-2a8bb87f-c264-4c4e-8fbe-db2bf155ecd6')\"\n",
              "                title=\"Suggest charts\"\n",
              "                style=\"display:none;\">\n",
              "\n",
              "<svg xmlns=\"http://www.w3.org/2000/svg\" height=\"24px\"viewBox=\"0 0 24 24\"\n",
              "     width=\"24px\">\n",
              "    <g>\n",
              "        <path d=\"M19 3H5c-1.1 0-2 .9-2 2v14c0 1.1.9 2 2 2h14c1.1 0 2-.9 2-2V5c0-1.1-.9-2-2-2zM9 17H7v-7h2v7zm4 0h-2V7h2v10zm4 0h-2v-4h2v4z\"/>\n",
              "    </g>\n",
              "</svg>\n",
              "      </button>\n",
              "\n",
              "<style>\n",
              "  .colab-df-quickchart {\n",
              "      --bg-color: #E8F0FE;\n",
              "      --fill-color: #1967D2;\n",
              "      --hover-bg-color: #E2EBFA;\n",
              "      --hover-fill-color: #174EA6;\n",
              "      --disabled-fill-color: #AAA;\n",
              "      --disabled-bg-color: #DDD;\n",
              "  }\n",
              "\n",
              "  [theme=dark] .colab-df-quickchart {\n",
              "      --bg-color: #3B4455;\n",
              "      --fill-color: #D2E3FC;\n",
              "      --hover-bg-color: #434B5C;\n",
              "      --hover-fill-color: #FFFFFF;\n",
              "      --disabled-bg-color: #3B4455;\n",
              "      --disabled-fill-color: #666;\n",
              "  }\n",
              "\n",
              "  .colab-df-quickchart {\n",
              "    background-color: var(--bg-color);\n",
              "    border: none;\n",
              "    border-radius: 50%;\n",
              "    cursor: pointer;\n",
              "    display: none;\n",
              "    fill: var(--fill-color);\n",
              "    height: 32px;\n",
              "    padding: 0;\n",
              "    width: 32px;\n",
              "  }\n",
              "\n",
              "  .colab-df-quickchart:hover {\n",
              "    background-color: var(--hover-bg-color);\n",
              "    box-shadow: 0 1px 2px rgba(60, 64, 67, 0.3), 0 1px 3px 1px rgba(60, 64, 67, 0.15);\n",
              "    fill: var(--button-hover-fill-color);\n",
              "  }\n",
              "\n",
              "  .colab-df-quickchart-complete:disabled,\n",
              "  .colab-df-quickchart-complete:disabled:hover {\n",
              "    background-color: var(--disabled-bg-color);\n",
              "    fill: var(--disabled-fill-color);\n",
              "    box-shadow: none;\n",
              "  }\n",
              "\n",
              "  .colab-df-spinner {\n",
              "    border: 2px solid var(--fill-color);\n",
              "    border-color: transparent;\n",
              "    border-bottom-color: var(--fill-color);\n",
              "    animation:\n",
              "      spin 1s steps(1) infinite;\n",
              "  }\n",
              "\n",
              "  @keyframes spin {\n",
              "    0% {\n",
              "      border-color: transparent;\n",
              "      border-bottom-color: var(--fill-color);\n",
              "      border-left-color: var(--fill-color);\n",
              "    }\n",
              "    20% {\n",
              "      border-color: transparent;\n",
              "      border-left-color: var(--fill-color);\n",
              "      border-top-color: var(--fill-color);\n",
              "    }\n",
              "    30% {\n",
              "      border-color: transparent;\n",
              "      border-left-color: var(--fill-color);\n",
              "      border-top-color: var(--fill-color);\n",
              "      border-right-color: var(--fill-color);\n",
              "    }\n",
              "    40% {\n",
              "      border-color: transparent;\n",
              "      border-right-color: var(--fill-color);\n",
              "      border-top-color: var(--fill-color);\n",
              "    }\n",
              "    60% {\n",
              "      border-color: transparent;\n",
              "      border-right-color: var(--fill-color);\n",
              "    }\n",
              "    80% {\n",
              "      border-color: transparent;\n",
              "      border-right-color: var(--fill-color);\n",
              "      border-bottom-color: var(--fill-color);\n",
              "    }\n",
              "    90% {\n",
              "      border-color: transparent;\n",
              "      border-bottom-color: var(--fill-color);\n",
              "    }\n",
              "  }\n",
              "</style>\n",
              "\n",
              "      <script>\n",
              "        async function quickchart(key) {\n",
              "          const quickchartButtonEl =\n",
              "            document.querySelector('#' + key + ' button');\n",
              "          quickchartButtonEl.disabled = true;  // To prevent multiple clicks.\n",
              "          quickchartButtonEl.classList.add('colab-df-spinner');\n",
              "          try {\n",
              "            const charts = await google.colab.kernel.invokeFunction(\n",
              "                'suggestCharts', [key], {});\n",
              "          } catch (error) {\n",
              "            console.error('Error during call to suggestCharts:', error);\n",
              "          }\n",
              "          quickchartButtonEl.classList.remove('colab-df-spinner');\n",
              "          quickchartButtonEl.classList.add('colab-df-quickchart-complete');\n",
              "        }\n",
              "        (() => {\n",
              "          let quickchartButtonEl =\n",
              "            document.querySelector('#df-2a8bb87f-c264-4c4e-8fbe-db2bf155ecd6 button');\n",
              "          quickchartButtonEl.style.display =\n",
              "            google.colab.kernel.accessAllowed ? 'block' : 'none';\n",
              "        })();\n",
              "      </script>\n",
              "    </div>\n",
              "\n",
              "    </div>\n",
              "  </div>\n"
            ],
            "application/vnd.google.colaboratory.intrinsic+json": {
              "type": "dataframe",
              "summary": "{\n  \"name\": \"ratings\",\n  \"rows\": 8,\n  \"fields\": [\n    {\n      \"column\": \"User-ID\",\n      \"properties\": {\n        \"dtype\": \"number\",\n        \"std\": 370074.5144065263,\n        \"min\": 2.0,\n        \"max\": 1149780.0,\n        \"num_unique_values\": 8,\n        \"samples\": [\n          140386.39512602412,\n          141010.0,\n          1149780.0\n        ],\n        \"semantic_type\": \"\",\n        \"description\": \"\"\n      }\n    },\n    {\n      \"column\": \"Book-Rating\",\n      \"properties\": {\n        \"dtype\": \"number\",\n        \"std\": 406507.41935424885,\n        \"min\": 0.0,\n        \"max\": 1149780.0,\n        \"num_unique_values\": 6,\n        \"samples\": [\n          1149780.0,\n          2.8669501991685364,\n          10.0\n        ],\n        \"semantic_type\": \"\",\n        \"description\": \"\"\n      }\n    }\n  ]\n}"
            }
          },
          "metadata": {},
          "execution_count": 25
        }
      ],
      "execution_count": 25
    },
    {
      "cell_type": "code",
      "source": [
        "ratings.isnull().sum()"
      ],
      "metadata": {
        "colab": {
          "base_uri": "https://localhost:8080/",
          "height": 0
        },
        "id": "oCKUZ8VlLZ_o",
        "outputId": "eb6900a0-76a1-4f74-fdca-c000e5edf915",
        "trusted": true,
        "execution": {
          "iopub.status.busy": "2025-05-29T02:36:22.550384Z",
          "iopub.execute_input": "2025-05-29T02:36:22.550594Z",
          "iopub.status.idle": "2025-05-29T02:36:22.621213Z",
          "shell.execute_reply.started": "2025-05-29T02:36:22.550579Z",
          "shell.execute_reply": "2025-05-29T02:36:22.620619Z"
        }
      },
      "outputs": [
        {
          "output_type": "execute_result",
          "data": {
            "text/plain": [
              "User-ID        0\n",
              "ISBN           0\n",
              "Book-Rating    0\n",
              "dtype: int64"
            ],
            "text/html": [
              "<div>\n",
              "<style scoped>\n",
              "    .dataframe tbody tr th:only-of-type {\n",
              "        vertical-align: middle;\n",
              "    }\n",
              "\n",
              "    .dataframe tbody tr th {\n",
              "        vertical-align: top;\n",
              "    }\n",
              "\n",
              "    .dataframe thead th {\n",
              "        text-align: right;\n",
              "    }\n",
              "</style>\n",
              "<table border=\"1\" class=\"dataframe\">\n",
              "  <thead>\n",
              "    <tr style=\"text-align: right;\">\n",
              "      <th></th>\n",
              "      <th>0</th>\n",
              "    </tr>\n",
              "  </thead>\n",
              "  <tbody>\n",
              "    <tr>\n",
              "      <th>User-ID</th>\n",
              "      <td>0</td>\n",
              "    </tr>\n",
              "    <tr>\n",
              "      <th>ISBN</th>\n",
              "      <td>0</td>\n",
              "    </tr>\n",
              "    <tr>\n",
              "      <th>Book-Rating</th>\n",
              "      <td>0</td>\n",
              "    </tr>\n",
              "  </tbody>\n",
              "</table>\n",
              "</div><br><label><b>dtype:</b> int64</label>"
            ]
          },
          "metadata": {},
          "execution_count": 26
        }
      ],
      "execution_count": 26
    },
    {
      "cell_type": "markdown",
      "source": [
        "### Distribusi rating (0 berarti implicit feedback)"
      ],
      "metadata": {
        "id": "otvbhlBcOhTH"
      }
    },
    {
      "cell_type": "code",
      "source": [
        "plt.figure(figsize=(8,5))\n",
        "sns.countplot(x='Book-Rating', data=ratings)\n",
        "plt.title(\"Distribusi Nilai Rating Buku\")\n",
        "plt.xlabel(\"Rating\")\n",
        "plt.ylabel(\"Jumlah\")\n",
        "plt.show()\n"
      ],
      "metadata": {
        "colab": {
          "base_uri": "https://localhost:8080/",
          "height": 0
        },
        "id": "ZYBjmrl3Oj4D",
        "outputId": "8f0296fe-0014-47ab-8109-2a62f2a04f7b",
        "trusted": true,
        "execution": {
          "iopub.status.busy": "2025-05-29T02:36:22.622015Z",
          "iopub.execute_input": "2025-05-29T02:36:22.622296Z",
          "iopub.status.idle": "2025-05-29T02:36:22.857225Z",
          "shell.execute_reply.started": "2025-05-29T02:36:22.622269Z",
          "shell.execute_reply": "2025-05-29T02:36:22.856536Z"
        }
      },
      "outputs": [
        {
          "output_type": "display_data",
          "data": {
            "text/plain": [
              "<Figure size 800x500 with 1 Axes>"
            ],
            "image/png": "[encoded data removed]"
          },
          "metadata": {}
        }
      ],
      "execution_count": 27
    },
    {
      "cell_type": "markdown",
      "source": [
        "Diagram menunjukkan bahwa sebagian besar rating buku yang diberikan adalah 0. Ini mengindikasikan bahwa mayoritas interaksi pengguna merupakan implicit feedback, di mana buku dilihat atau dibaca tanpa rating eksplisit."
      ],
      "metadata": {
        "id": "dE8D74ss91i6"
      }
    },
    {
      "cell_type": "markdown",
      "source": [
        "### Persentase rating eksplisit vs implisit"
      ],
      "metadata": {
        "id": "_zWNMtVMOovL"
      }
    },
    {
      "cell_type": "code",
      "source": [
        "explicit = ratings[ratings['Book-Rating'] > 0].shape[0]\n",
        "implicit = ratings[ratings['Book-Rating'] == 0].shape[0]\n",
        "\n",
        "plt.figure(figsize=(6,6))\n",
        "plt.pie([explicit, implicit], labels=['Explicit (>0)', 'Implicit (=0)'], autopct='%1.1f%%', colors=['#66b3ff','#ff9999'])\n",
        "plt.title(\"Proporsi Rating Eksplisit vs Implisit\")\n",
        "plt.show()"
      ],
      "metadata": {
        "colab": {
          "base_uri": "https://localhost:8080/",
          "height": 0
        },
        "id": "ClxL7U5SOoNH",
        "outputId": "3d4d530a-7add-4a33-d555-7cc11518b19b",
        "trusted": true,
        "execution": {
          "iopub.status.busy": "2025-05-29T02:36:22.858023Z",
          "iopub.execute_input": "2025-05-29T02:36:22.858305Z",
          "iopub.status.idle": "2025-05-29T02:36:23.021239Z",
          "shell.execute_reply.started": "2025-05-29T02:36:22.858284Z",
          "shell.execute_reply": "2025-05-29T02:36:23.020484Z"
        }
      },
      "outputs": [
        {
          "output_type": "display_data",
          "data": {
            "text/plain": [
              "<Figure size 600x600 with 1 Axes>"
            ],
            "image/png": "[encoded data removed]"
          },
          "metadata": {}
        }
      ],
      "execution_count": 28
    },
    {
      "cell_type": "markdown",
      "source": [
        "Diagram pai menunjukkan bahwa mayoritas interaksi pengguna dengan buku adalah implisit (62.3%), sementara rating eksplisit menyumbang 37.7%."
      ],
      "metadata": {
        "id": "nlEbKlDz92iV"
      }
    },
    {
      "cell_type": "markdown",
      "source": [
        "Book-Rating = 0 artinya pengguna telah berinteraksi (misalnya melihat atau membaca buku) tapi tidak memberikan rating eksplisit. Maka ini dianggap feedback implisit — sinyal bahwa user \"mungkin tertarik\", tapi tidak menyatakan suka/tidak suka secara eksplisit."
      ],
      "metadata": {
        "id": "hJXLakvuO44Q"
      }
    },
    {
      "cell_type": "markdown",
      "source": [
        "# Bivariate EDA"
      ],
      "metadata": {
        "id": "IWajMv4iPIHC"
      }
    },
    {
      "cell_type": "markdown",
      "source": [
        "## Jumlah rating per user"
      ],
      "metadata": {
        "id": "hY2VkpMoPMys"
      }
    },
    {
      "cell_type": "code",
      "source": [
        "ratings_per_user = ratings.groupby('User-ID').size().sort_values(ascending=False)\n",
        "plt.figure(figsize=(12,5))\n",
        "sns.histplot(ratings_per_user, bins=50, color='lightgreen', edgecolor='black')\n",
        "plt.title(\"Distribusi Jumlah Rating per User\")\n",
        "plt.xlabel(\"Jumlah Rating\")\n",
        "plt.ylabel(\"Jumlah User\")\n",
        "plt.show()"
      ],
      "metadata": {
        "colab": {
          "base_uri": "https://localhost:8080/",
          "height": 0
        },
        "id": "NzCuUXruPKoS",
        "outputId": "8a7524e8-8345-4a48-9e44-a4d19a74ae08",
        "trusted": true,
        "execution": {
          "iopub.status.busy": "2025-05-29T02:36:23.021997Z",
          "iopub.execute_input": "2025-05-29T02:36:23.022244Z",
          "iopub.status.idle": "2025-05-29T02:36:23.312879Z",
          "shell.execute_reply.started": "2025-05-29T02:36:23.022227Z",
          "shell.execute_reply": "2025-05-29T02:36:23.312092Z"
        }
      },
      "outputs": [
        {
          "output_type": "display_data",
          "data": {
            "text/plain": [
              "<Figure size 1200x500 with 1 Axes>"
            ],
            "image/png": "[encoded data removed]"
          },
          "metadata": {}
        }
      ],
      "execution_count": 29
    },
    {
      "cell_type": "markdown",
      "source": [
        "Mayoritas pengguna hanya memberikan sedikit ulasan, dengan puncak distribusi yang sangat tinggi di dekat angka nol \"Jumlah Rating\". Sebagian besar pengguna memberikan ulasan dalam jumlah yang sangat kecil. Hanya sedikit pengguna yang memberikan ulasan dalam jumlah yang banyak."
      ],
      "metadata": {
        "id": "Co2mYunv-Ctr"
      }
    },
    {
      "cell_type": "markdown",
      "source": [
        "## Jumlah rating per buku"
      ],
      "metadata": {
        "id": "LhbmM9K1PQur"
      }
    },
    {
      "cell_type": "code",
      "source": [
        "ratings_per_book = ratings.groupby('ISBN').size().sort_values(ascending=False)\n",
        "plt.figure(figsize=(12,5))\n",
        "sns.histplot(ratings_per_book, bins=50, color='coral', edgecolor='black')\n",
        "plt.title(\"Distribusi Jumlah Rating per Buku\")\n",
        "plt.xlabel(\"Jumlah Rating\")\n",
        "plt.ylabel(\"Jumlah Buku\")\n",
        "plt.show()"
      ],
      "metadata": {
        "colab": {
          "base_uri": "https://localhost:8080/",
          "height": 0
        },
        "id": "vJJgy39XPUPS",
        "outputId": "a281cbee-526e-42d4-b1a4-ef4300886cfe",
        "trusted": true,
        "execution": {
          "iopub.status.busy": "2025-05-29T02:36:23.313866Z",
          "iopub.execute_input": "2025-05-29T02:36:23.314157Z",
          "iopub.status.idle": "2025-05-29T02:36:24.300715Z",
          "shell.execute_reply.started": "2025-05-29T02:36:23.314133Z",
          "shell.execute_reply": "2025-05-29T02:36:24.300022Z"
        }
      },
      "outputs": [
        {
          "output_type": "display_data",
          "data": {
            "text/plain": [
              "<Figure size 1200x500 with 1 Axes>"
            ],
            "image/png": "[encoded data removed]"
          },
          "metadata": {}
        }
      ],
      "execution_count": 30
    },
    {
      "cell_type": "markdown",
      "source": [
        "Mayoritas buku hanya menerima sedikit ulasan, dengan puncak distribusi yang sangat tinggi di dekat angka nol \"Jumlah Rating\". Sebagian besar buku memiliki jumlah ulasan yang sangat minim. Hanya sejumlah kecil buku yang menerima ulasan dalam jumlah yang banyak."
      ],
      "metadata": {
        "id": "l5XHVqKl-I5t"
      }
    },
    {
      "cell_type": "markdown",
      "source": [
        "## Rata-rata rating per buku"
      ],
      "metadata": {
        "id": "GDl3-l6nPXhB"
      }
    },
    {
      "cell_type": "code",
      "source": [
        "avg_rating_per_book = ratings.groupby('ISBN')['Book-Rating'].mean()\n",
        "plt.figure(figsize=(10,5))\n",
        "sns.histplot(avg_rating_per_book, bins=30, color='skyblue', edgecolor='black')\n",
        "plt.title(\"Distribusi Rata-rata Rating per Buku\")\n",
        "plt.xlabel(\"Rata-rata Rating\")\n",
        "plt.ylabel(\"Jumlah Buku\")\n",
        "plt.show()"
      ],
      "metadata": {
        "colab": {
          "base_uri": "https://localhost:8080/",
          "height": 0
        },
        "id": "vbHZ0bpkPXCC",
        "outputId": "276a6504-65ac-4514-e34a-a9ed4fa18919",
        "trusted": true,
        "execution": {
          "iopub.status.busy": "2025-05-29T02:36:24.301430Z",
          "iopub.execute_input": "2025-05-29T02:36:24.301720Z",
          "iopub.status.idle": "2025-05-29T02:36:25.272238Z",
          "shell.execute_reply.started": "2025-05-29T02:36:24.301701Z",
          "shell.execute_reply": "2025-05-29T02:36:25.271545Z"
        }
      },
      "outputs": [
        {
          "output_type": "display_data",
          "data": {
            "text/plain": [
              "<Figure size 1000x500 with 1 Axes>"
            ],
            "image/png": "[encoded data removed]"
          },
          "metadata": {}
        }
      ],
      "execution_count": 31
    },
    {
      "cell_type": "markdown",
      "source": [
        "Mayoritas buku memiliki rata-rata rating yang sangat rendah, dengan puncak distribusi yang signifikan di dekat angka nol \"Rata-rata Rating\". Meskipun demikian, terdapat distribusi rata-rata rating yang menyebar dari sekitar 1 hingga 10, menunjukkan adanya buku dengan rata-rata rating yang bervariasi. Ada sejumlah kecil buku yang menerima rata-rata rating tinggi, menunjukkan bahwa sebagian buku sangat disukai."
      ],
      "metadata": {
        "id": "Em5qOr8D-O-Q"
      }
    },
    {
      "cell_type": "markdown",
      "source": [
        "## Rata-rata rating per user"
      ],
      "metadata": {
        "id": "d_-8DIjQPbco"
      }
    },
    {
      "cell_type": "code",
      "source": [
        "avg_rating_per_user = ratings.groupby('User-ID')['Book-Rating'].mean()\n",
        "plt.figure(figsize=(10,5))\n",
        "sns.histplot(avg_rating_per_user, bins=30, color='mediumpurple', edgecolor='black')\n",
        "plt.title(\"Distribusi Rata-rata Rating per User\")\n",
        "plt.xlabel(\"Rata-rata Rating\")\n",
        "plt.ylabel(\"Jumlah User\")\n",
        "plt.show()"
      ],
      "metadata": {
        "colab": {
          "base_uri": "https://localhost:8080/",
          "height": 0
        },
        "id": "MXvP2gRqPdzM",
        "outputId": "85912ef0-b496-487e-f91a-239d2f13cf17",
        "trusted": true,
        "execution": {
          "iopub.status.busy": "2025-05-29T02:36:25.272930Z",
          "iopub.execute_input": "2025-05-29T02:36:25.273129Z",
          "iopub.status.idle": "2025-05-29T02:36:25.556013Z",
          "shell.execute_reply.started": "2025-05-29T02:36:25.273114Z",
          "shell.execute_reply": "2025-05-29T02:36:25.555296Z"
        }
      },
      "outputs": [
        {
          "output_type": "display_data",
          "data": {
            "text/plain": [
              "<Figure size 1000x500 with 1 Axes>"
            ],
            "image/png": "[encoded data removed]"
          },
          "metadata": {}
        }
      ],
      "execution_count": 32
    },
    {
      "cell_type": "markdown",
      "source": [
        "Sebagian besar pengguna memiliki rata-rata rating yang sangat rendah, terlihat dari puncak tinggi di dekat angka nol \"Rata-rata Rating\". Meskipun demikian, terdapat sebaran rata-rata rating pengguna dari sekitar 1 hingga 10, menunjukkan adanya variasi preferensi pengguna. Terdapat juga sejumlah pengguna yang memberikan rata-rata rating tinggi, khususnya di sekitar 8 dan 10, mengindikasikan kepuasan yang tinggi dari kelompok pengguna tersebut."
      ],
      "metadata": {
        "id": "0jCjH_ZD-VIi"
      }
    },
    {
      "cell_type": "markdown",
      "source": [
        "## Scatter plot jumlah rating vs rata-rata rating (User)"
      ],
      "metadata": {
        "id": "9tXg7es2PfOg"
      }
    },
    {
      "cell_type": "code",
      "source": [
        "plt.figure(figsize=(10,6))\n",
        "sns.scatterplot(x=ratings_per_user, y=avg_rating_per_user)\n",
        "plt.title(\"Jumlah Rating vs Rata-rata Rating per User\")\n",
        "plt.xlabel(\"Jumlah Rating\")\n",
        "plt.ylabel(\"Rata-rata Rating\")\n",
        "plt.show()"
      ],
      "metadata": {
        "colab": {
          "base_uri": "https://localhost:8080/",
          "height": 0
        },
        "id": "4IyCyNP6PhQS",
        "outputId": "5d6fd060-d6c2-4325-aaa3-cc4006b5f90d",
        "trusted": true,
        "execution": {
          "iopub.status.busy": "2025-05-29T02:36:25.556628Z",
          "iopub.execute_input": "2025-05-29T02:36:25.556839Z",
          "iopub.status.idle": "2025-05-29T02:36:25.943676Z",
          "shell.execute_reply.started": "2025-05-29T02:36:25.556823Z",
          "shell.execute_reply": "2025-05-29T02:36:25.942926Z"
        }
      },
      "outputs": [
        {
          "output_type": "display_data",
          "data": {
            "text/plain": [
              "<Figure size 1000x600 with 1 Axes>"
            ],
            "image/png": "[encoded data removed]"
          },
          "metadata": {}
        }
      ],
      "execution_count": 33
    },
    {
      "cell_type": "markdown",
      "source": [
        "Mayoritas pengguna memberikan jumlah rating yang sedikit, dengan rata-rata rating yang bervariasi dari 0 hingga 10. Terlihat konsentrasi titik-titik di area \"Jumlah Rating\" rendah, menunjukkan bahwa sebagian besar pengguna hanya memberikan ulasan dalam jumlah kecil. Tidak ada korelasi yang jelas antara jumlah rating yang diberikan oleh pengguna dengan rata-rata rating yang mereka berikan."
      ],
      "metadata": {
        "id": "sr2x0DZA-ZWU"
      }
    },
    {
      "cell_type": "markdown",
      "source": [
        "## Scatter plot jumlah rating vs rata-rata rating (Buku)"
      ],
      "metadata": {
        "id": "P6QXdCA-PmMu"
      }
    },
    {
      "cell_type": "code",
      "source": [
        "plt.figure(figsize=(10,6))\n",
        "sns.scatterplot(x=ratings_per_book, y=avg_rating_per_book)\n",
        "plt.title(\"Jumlah Rating vs Rata-rata Rating per Buku\")\n",
        "plt.xlabel(\"Jumlah Rating\")\n",
        "plt.ylabel(\"Rata-rata Rating\")\n",
        "plt.show()\n"
      ],
      "metadata": {
        "colab": {
          "base_uri": "https://localhost:8080/",
          "height": 0
        },
        "id": "igG_quaDPjtK",
        "outputId": "9dd94ffe-aeac-40bc-cb7a-c50be0661739",
        "trusted": true,
        "execution": {
          "iopub.status.busy": "2025-05-29T02:36:25.944404Z",
          "iopub.execute_input": "2025-05-29T02:36:25.944618Z",
          "iopub.status.idle": "2025-05-29T02:36:27.352747Z",
          "shell.execute_reply.started": "2025-05-29T02:36:25.944596Z",
          "shell.execute_reply": "2025-05-29T02:36:27.352086Z"
        }
      },
      "outputs": [
        {
          "output_type": "display_data",
          "data": {
            "text/plain": [
              "<Figure size 1000x600 with 1 Axes>"
            ],
            "image/png": "[encoded data removed]"
          },
          "metadata": {}
        }
      ],
      "execution_count": 34
    },
    {
      "cell_type": "markdown",
      "source": [
        "Mayoritas buku menerima jumlah rating yang sedikit, dengan rata-rata rating yang tersebar dari 0 hingga 10. Terlihat konsentrasi titik-titik di area \"Jumlah Rating\" rendah, menunjukkan bahwa sebagian besar buku hanya memiliki ulasan dalam jumlah kecil. Tidak ada korelasi yang jelas antara jumlah rating yang diterima suatu buku dengan rata-rata ratingnya."
      ],
      "metadata": {
        "id": "psTV4z6S-ez9"
      }
    },
    {
      "cell_type": "markdown",
      "source": [
        "# Data Preparation"
      ],
      "metadata": {
        "id": "IBVzBKtbP4Za"
      }
    },
    {
      "cell_type": "markdown",
      "source": [
        "### Data Cleaning"
      ],
      "metadata": {
        "id": "2OBggBYEP9HJ"
      }
    },
    {
      "cell_type": "markdown",
      "source": [
        "- Menghapus atau memperbaiki data yang invalid atau missing\n",
        "\n",
        "- Mengubah tipe data menjadi sesuai kebutuhan (numeric, kategorikal)"
      ],
      "metadata": {
        "id": "K6FdxeXFQD1Z"
      }
    },
    {
      "cell_type": "markdown",
      "source": [
        "#### Data cleaning books"
      ],
      "metadata": {
        "id": "aBG4gTInbhe-"
      }
    },
    {
      "cell_type": "code",
      "source": [
        "print(\"Unique years of publication:\", books['Year-Of-Publication'].unique())"
      ],
      "metadata": {
        "colab": {
          "base_uri": "https://localhost:8080/"
        },
        "id": "XH3UZhX3UXNm",
        "outputId": "43335c7f-0962-47a9-f0ee-4335c58baf07",
        "trusted": true,
        "execution": {
          "iopub.status.busy": "2025-05-29T02:36:27.353381Z",
          "iopub.execute_input": "2025-05-29T02:36:27.353619Z",
          "iopub.status.idle": "2025-05-29T02:36:27.369557Z",
          "shell.execute_reply.started": "2025-05-29T02:36:27.353594Z",
          "shell.execute_reply": "2025-05-29T02:36:27.368969Z"
        }
      },
      "outputs": [
        {
          "output_type": "stream",
          "name": "stdout",
          "text": [
            "Unique years of publication: [2002 2001 1991 1999 2000 1993 1996 1988 2004 1998 1994 2003 1997 1983\n",
            " 1979 1995 1982 1985 1992 1986 1978 1980 1952 1987 1990 1981 1989 1984 0\n",
            " 1968 1961 1958 1974 1976 1971 1977 1975 1965 1941 1970 1962 1973 1972\n",
            " 1960 1966 1920 1956 1959 1953 1951 1942 1963 1964 1969 1954 1950 1967\n",
            " 2005 1957 1940 1937 1955 1946 1936 1930 2011 1925 1948 1943 1947 1945\n",
            " 1923 2020 1939 1926 1938 2030 1911 1904 1949 1932 1928 1929 1927 1931\n",
            " 1914 2050 1934 1910 1933 1902 1924 1921 1900 2038 2026 1944 1917 1901\n",
            " 2010 1908 1906 1935 1806 2021 '2000' '1995' '1999' '2004' '2003' '1990'\n",
            " '1994' '1986' '1989' '2002' '1981' '1993' '1983' '1982' '1976' '1991'\n",
            " '1977' '1998' '1992' '1996' '0' '1997' '2001' '1974' '1968' '1987' '1984'\n",
            " '1988' '1963' '1956' '1970' '1985' '1978' '1973' '1980' '1979' '1975'\n",
            " '1969' '1961' '1965' '1939' '1958' '1950' '1953' '1966' '1971' '1959'\n",
            " '1972' '1955' '1957' '1945' '1960' '1967' '1932' '1924' '1964' '2012'\n",
            " '1911' '1927' '1948' '1962' '2006' '1952' '1940' '1951' '1931' '1954'\n",
            " '2005' '1930' '1941' '1944' 'DK Publishing Inc' '1943' '1938' '1900'\n",
            " '1942' '1923' '1920' '1933' 'Gallimard' '1909' '1946' '2008' '1378'\n",
            " '2030' '1936' '1947' '2011' '2020' '1919' '1949' '1922' '1897' '2024'\n",
            " '1376' '1926' '2037']\n"
          ]
        }
      ],
      "execution_count": 35
    },
    {
      "cell_type": "markdown",
      "source": [
        "dapat dilihat bahwa ada beberapa tahun yang aneh dan perbedaan formatnya.Ditemukan beberapa entri Year-Of-Publication yang tidak valid (misalnya, \"DK Publishing Inc\", \"Gallimard\", \"2037\")."
      ],
      "metadata": {
        "id": "EwaAqWn0bmgW"
      }
    },
    {
      "cell_type": "code",
      "source": [
        "print(\"Books where publisher is DK Publishing Inc or Gallimard:\")\n",
        "books[books['Year-Of-Publication'].isin(['DK Publishing Inc', 'Gallimard', '2037'])]"
      ],
      "metadata": {
        "colab": {
          "base_uri": "https://localhost:8080/",
          "height": 403
        },
        "id": "cZvISKNwQG1R",
        "outputId": "631296b3-c1ee-482b-9a75-eebc4f205e29",
        "trusted": true,
        "execution": {
          "iopub.status.busy": "2025-05-29T02:36:27.370218Z",
          "iopub.execute_input": "2025-05-29T02:36:27.370447Z",
          "iopub.status.idle": "2025-05-29T02:36:27.403272Z",
          "shell.execute_reply.started": "2025-05-29T02:36:27.370426Z",
          "shell.execute_reply": "2025-05-29T02:36:27.402723Z"
        }
      },
      "outputs": [
        {
          "output_type": "stream",
          "name": "stdout",
          "text": [
            "Books where publisher is DK Publishing Inc or Gallimard:\n"
          ]
        },
        {
          "output_type": "execute_result",
          "data": {
            "text/plain": [
              "              ISBN                                         Book-Title  \\\n",
              "209538  078946697X  DK Readers: Creating the X-Men, How It All Beg...   \n",
              "220731  2070426769  Peuple du ciel, suivi de 'Les Bergers\\\";Jean-M...   \n",
              "221678  0789466953  DK Readers: Creating the X-Men, How Comic Book...   \n",
              "255409  068471809X                               To Have and Have Not   \n",
              "\n",
              "             Book-Author Year-Of-Publication  \\\n",
              "209538              2000   DK Publishing Inc   \n",
              "220731              2003           Gallimard   \n",
              "221678              2000   DK Publishing Inc   \n",
              "255409  Ernest Hemingway                2037   \n",
              "\n",
              "                                                Publisher  \\\n",
              "209538  http://images.amazon.com/images/P/078946697X.0...   \n",
              "220731  http://images.amazon.com/images/P/2070426769.0...   \n",
              "221678  http://images.amazon.com/images/P/0789466953.0...   \n",
              "255409                               Simon &amp; Schuster   \n",
              "\n",
              "                                              Image-URL-S  \\\n",
              "209538  http://images.amazon.com/images/P/078946697X.0...   \n",
              "220731  http://images.amazon.com/images/P/2070426769.0...   \n",
              "221678  http://images.amazon.com/images/P/0789466953.0...   \n",
              "255409  http://images.amazon.com/images/P/068471809X.0...   \n",
              "\n",
              "                                              Image-URL-M  \\\n",
              "209538  http://images.amazon.com/images/P/078946697X.0...   \n",
              "220731  http://images.amazon.com/images/P/2070426769.0...   \n",
              "221678  http://images.amazon.com/images/P/0789466953.0...   \n",
              "255409  http://images.amazon.com/images/P/068471809X.0...   \n",
              "\n",
              "                                              Image-URL-L  \n",
              "209538                                                NaN  \n",
              "220731                                                NaN  \n",
              "221678                                                NaN  \n",
              "255409  http://images.amazon.com/images/P/068471809X.0...  "
            ],
            "text/html": [
              "\n",
              "  <div id=\"df-d0c9ff16-0f3c-47d9-b986-83bb7d8894d4\" class=\"colab-df-container\">\n",
              "    <div>\n",
              "<style scoped>\n",
              "    .dataframe tbody tr th:only-of-type {\n",
              "        vertical-align: middle;\n",
              "    }\n",
              "\n",
              "    .dataframe tbody tr th {\n",
              "        vertical-align: top;\n",
              "    }\n",
              "\n",
              "    .dataframe thead th {\n",
              "        text-align: right;\n",
              "    }\n",
              "</style>\n",
              "<table border=\"1\" class=\"dataframe\">\n",
              "  <thead>\n",
              "    <tr style=\"text-align: right;\">\n",
              "      <th></th>\n",
              "      <th>ISBN</th>\n",
              "      <th>Book-Title</th>\n",
              "      <th>Book-Author</th>\n",
              "      <th>Year-Of-Publication</th>\n",
              "      <th>Publisher</th>\n",
              "      <th>Image-URL-S</th>\n",
              "      <th>Image-URL-M</th>\n",
              "      <th>Image-URL-L</th>\n",
              "    </tr>\n",
              "  </thead>\n",
              "  <tbody>\n",
              "    <tr>\n",
              "      <th>209538</th>\n",
              "      <td>078946697X</td>\n",
              "      <td>DK Readers: Creating the X-Men, How It All Beg...</td>\n",
              "      <td>2000</td>\n",
              "      <td>DK Publishing Inc</td>\n",
              "      <td>http://images.amazon.com/images/P/078946697X.0...</td>\n",
              "      <td>http://images.amazon.com/images/P/078946697X.0...</td>\n",
              "      <td>http://images.amazon.com/images/P/078946697X.0...</td>\n",
              "      <td>NaN</td>\n",
              "    </tr>\n",
              "    <tr>\n",
              "      <th>220731</th>\n",
              "      <td>2070426769</td>\n",
              "      <td>Peuple du ciel, suivi de 'Les Bergers\\\";Jean-M...</td>\n",
              "      <td>2003</td>\n",
              "      <td>Gallimard</td>\n",
              "      <td>http://images.amazon.com/images/P/2070426769.0...</td>\n",
              "      <td>http://images.amazon.com/images/P/2070426769.0...</td>\n",
              "      <td>http://images.amazon.com/images/P/2070426769.0...</td>\n",
              "      <td>NaN</td>\n",
              "    </tr>\n",
              "    <tr>\n",
              "      <th>221678</th>\n",
              "      <td>0789466953</td>\n",
              "      <td>DK Readers: Creating the X-Men, How Comic Book...</td>\n",
              "      <td>2000</td>\n",
              "      <td>DK Publishing Inc</td>\n",
              "      <td>http://images.amazon.com/images/P/0789466953.0...</td>\n",
              "      <td>http://images.amazon.com/images/P/0789466953.0...</td>\n",
              "      <td>http://images.amazon.com/images/P/0789466953.0...</td>\n",
              "      <td>NaN</td>\n",
              "    </tr>\n",
              "    <tr>\n",
              "      <th>255409</th>\n",
              "      <td>068471809X</td>\n",
              "      <td>To Have and Have Not</td>\n",
              "      <td>Ernest Hemingway</td>\n",
              "      <td>2037</td>\n",
              "      <td>Simon &amp;amp; Schuster</td>\n",
              "      <td>http://images.amazon.com/images/P/068471809X.0...</td>\n",
              "      <td>http://images.amazon.com/images/P/068471809X.0...</td>\n",
              "      <td>http://images.amazon.com/images/P/068471809X.0...</td>\n",
              "    </tr>\n",
              "  </tbody>\n",
              "</table>\n",
              "</div>\n",
              "    <div class=\"colab-df-buttons\">\n",
              "\n",
              "  <div class=\"colab-df-container\">\n",
              "    <button class=\"colab-df-convert\" onclick=\"convertToInteractive('df-d0c9ff16-0f3c-47d9-b986-83bb7d8894d4')\"\n",
              "            title=\"Convert this dataframe to an interactive table.\"\n",
              "            style=\"display:none;\">\n",
              "\n",
              "  <svg xmlns=\"http://www.w3.org/2000/svg\" height=\"24px\" viewBox=\"0 -960 960 960\">\n",
              "    <path d=\"M120-120v-720h720v720H120Zm60-500h600v-160H180v160Zm220 220h160v-160H400v160Zm0 220h160v-160H400v160ZM180-400h160v-160H180v160Zm440 0h160v-160H620v160ZM180-180h160v-160H180v160Zm440 0h160v-160H620v160Z\"/>\n",
              "  </svg>\n",
              "    </button>\n",
              "\n",
              "  <style>\n",
              "    .colab-df-container {\n",
              "      display:flex;\n",
              "      gap: 12px;\n",
              "    }\n",
              "\n",
              "    .colab-df-convert {\n",
              "      background-color: #E8F0FE;\n",
              "      border: none;\n",
              "      border-radius: 50%;\n",
              "      cursor: pointer;\n",
              "      display: none;\n",
              "      fill: #1967D2;\n",
              "      height: 32px;\n",
              "      padding: 0 0 0 0;\n",
              "      width: 32px;\n",
              "    }\n",
              "\n",
              "    .colab-df-convert:hover {\n",
              "      background-color: #E2EBFA;\n",
              "      box-shadow: 0px 1px 2px rgba(60, 64, 67, 0.3), 0px 1px 3px 1px rgba(60, 64, 67, 0.15);\n",
              "      fill: #174EA6;\n",
              "    }\n",
              "\n",
              "    .colab-df-buttons div {\n",
              "      margin-bottom: 4px;\n",
              "    }\n",
              "\n",
              "    [theme=dark] .colab-df-convert {\n",
              "      background-color: #3B4455;\n",
              "      fill: #D2E3FC;\n",
              "    }\n",
              "\n",
              "    [theme=dark] .colab-df-convert:hover {\n",
              "      background-color: #434B5C;\n",
              "      box-shadow: 0px 1px 3px 1px rgba(0, 0, 0, 0.15);\n",
              "      filter: drop-shadow(0px 1px 2px rgba(0, 0, 0, 0.3));\n",
              "      fill: #FFFFFF;\n",
              "    }\n",
              "  </style>\n",
              "\n",
              "    <script>\n",
              "      const buttonEl =\n",
              "        document.querySelector('#df-d0c9ff16-0f3c-47d9-b986-83bb7d8894d4 button.colab-df-convert');\n",
              "      buttonEl.style.display =\n",
              "        google.colab.kernel.accessAllowed ? 'block' : 'none';\n",
              "\n",
              "      async function convertToInteractive(key) {\n",
              "        const element = document.querySelector('#df-d0c9ff16-0f3c-47d9-b986-83bb7d8894d4');\n",
              "        const dataTable =\n",
              "          await google.colab.kernel.invokeFunction('convertToInteractive',\n",
              "                                                    [key], {});\n",
              "        if (!dataTable) return;\n",
              "\n",
              "        const docLinkHtml = 'Like what you see? Visit the ' +\n",
              "          '<a target=\"_blank\" href=https://colab.research.google.com/notebooks/data_table.ipynb>data table notebook</a>'\n",
              "          + ' to learn more about interactive tables.';\n",
              "        element.innerHTML = '';\n",
              "        dataTable['output_type'] = 'display_data';\n",
              "        await google.colab.output.renderOutput(dataTable, element);\n",
              "        const docLink = document.createElement('div');\n",
              "        docLink.innerHTML = docLinkHtml;\n",
              "        element.appendChild(docLink);\n",
              "      }\n",
              "    </script>\n",
              "  </div>\n",
              "\n",
              "\n",
              "    <div id=\"df-17d405bf-c354-4029-bf4d-8315547ff101\">\n",
              "      <button class=\"colab-df-quickchart\" onclick=\"quickchart('df-17d405bf-c354-4029-bf4d-8315547ff101')\"\n",
              "                title=\"Suggest charts\"\n",
              "                style=\"display:none;\">\n",
              "\n",
              "<svg xmlns=\"http://www.w3.org/2000/svg\" height=\"24px\"viewBox=\"0 0 24 24\"\n",
              "     width=\"24px\">\n",
              "    <g>\n",
              "        <path d=\"M19 3H5c-1.1 0-2 .9-2 2v14c0 1.1.9 2 2 2h14c1.1 0 2-.9 2-2V5c0-1.1-.9-2-2-2zM9 17H7v-7h2v7zm4 0h-2V7h2v10zm4 0h-2v-4h2v4z\"/>\n",
              "    </g>\n",
              "</svg>\n",
              "      </button>\n",
              "\n",
              "<style>\n",
              "  .colab-df-quickchart {\n",
              "      --bg-color: #E8F0FE;\n",
              "      --fill-color: #1967D2;\n",
              "      --hover-bg-color: #E2EBFA;\n",
              "      --hover-fill-color: #174EA6;\n",
              "      --disabled-fill-color: #AAA;\n",
              "      --disabled-bg-color: #DDD;\n",
              "  }\n",
              "\n",
              "  [theme=dark] .colab-df-quickchart {\n",
              "      --bg-color: #3B4455;\n",
              "      --fill-color: #D2E3FC;\n",
              "      --hover-bg-color: #434B5C;\n",
              "      --hover-fill-color: #FFFFFF;\n",
              "      --disabled-bg-color: #3B4455;\n",
              "      --disabled-fill-color: #666;\n",
              "  }\n",
              "\n",
              "  .colab-df-quickchart {\n",
              "    background-color: var(--bg-color);\n",
              "    border: none;\n",
              "    border-radius: 50%;\n",
              "    cursor: pointer;\n",
              "    display: none;\n",
              "    fill: var(--fill-color);\n",
              "    height: 32px;\n",
              "    padding: 0;\n",
              "    width: 32px;\n",
              "  }\n",
              "\n",
              "  .colab-df-quickchart:hover {\n",
              "    background-color: var(--hover-bg-color);\n",
              "    box-shadow: 0 1px 2px rgba(60, 64, 67, 0.3), 0 1px 3px 1px rgba(60, 64, 67, 0.15);\n",
              "    fill: var(--button-hover-fill-color);\n",
              "  }\n",
              "\n",
              "  .colab-df-quickchart-complete:disabled,\n",
              "  .colab-df-quickchart-complete:disabled:hover {\n",
              "    background-color: var(--disabled-bg-color);\n",
              "    fill: var(--disabled-fill-color);\n",
              "    box-shadow: none;\n",
              "  }\n",
              "\n",
              "  .colab-df-spinner {\n",
              "    border: 2px solid var(--fill-color);\n",
              "    border-color: transparent;\n",
              "    border-bottom-color: var(--fill-color);\n",
              "    animation:\n",
              "      spin 1s steps(1) infinite;\n",
              "  }\n",
              "\n",
              "  @keyframes spin {\n",
              "    0% {\n",
              "      border-color: transparent;\n",
              "      border-bottom-color: var(--fill-color);\n",
              "      border-left-color: var(--fill-color);\n",
              "    }\n",
              "    20% {\n",
              "      border-color: transparent;\n",
              "      border-left-color: var(--fill-color);\n",
              "      border-top-color: var(--fill-color);\n",
              "    }\n",
              "    30% {\n",
              "      border-color: transparent;\n",
              "      border-left-color: var(--fill-color);\n",
              "      border-top-color: var(--fill-color);\n",
              "      border-right-color: var(--fill-color);\n",
              "    }\n",
              "    40% {\n",
              "      border-color: transparent;\n",
              "      border-right-color: var(--fill-color);\n",
              "      border-top-color: var(--fill-color);\n",
              "    }\n",
              "    60% {\n",
              "      border-color: transparent;\n",
              "      border-right-color: var(--fill-color);\n",
              "    }\n",
              "    80% {\n",
              "      border-color: transparent;\n",
              "      border-right-color: var(--fill-color);\n",
              "      border-bottom-color: var(--fill-color);\n",
              "    }\n",
              "    90% {\n",
              "      border-color: transparent;\n",
              "      border-bottom-color: var(--fill-color);\n",
              "    }\n",
              "  }\n",
              "</style>\n",
              "\n",
              "      <script>\n",
              "        async function quickchart(key) {\n",
              "          const quickchartButtonEl =\n",
              "            document.querySelector('#' + key + ' button');\n",
              "          quickchartButtonEl.disabled = true;  // To prevent multiple clicks.\n",
              "          quickchartButtonEl.classList.add('colab-df-spinner');\n",
              "          try {\n",
              "            const charts = await google.colab.kernel.invokeFunction(\n",
              "                'suggestCharts', [key], {});\n",
              "          } catch (error) {\n",
              "            console.error('Error during call to suggestCharts:', error);\n",
              "          }\n",
              "          quickchartButtonEl.classList.remove('colab-df-spinner');\n",
              "          quickchartButtonEl.classList.add('colab-df-quickchart-complete');\n",
              "        }\n",
              "        (() => {\n",
              "          let quickchartButtonEl =\n",
              "            document.querySelector('#df-17d405bf-c354-4029-bf4d-8315547ff101 button');\n",
              "          quickchartButtonEl.style.display =\n",
              "            google.colab.kernel.accessAllowed ? 'block' : 'none';\n",
              "        })();\n",
              "      </script>\n",
              "    </div>\n",
              "\n",
              "    </div>\n",
              "  </div>\n"
            ],
            "application/vnd.google.colaboratory.intrinsic+json": {
              "type": "dataframe",
              "summary": "{\n  \"name\": \"books[books['Year-Of-Publication']\",\n  \"rows\": 4,\n  \"fields\": [\n    {\n      \"column\": \"ISBN\",\n      \"properties\": {\n        \"dtype\": \"string\",\n        \"num_unique_values\": 4,\n        \"samples\": [\n          \"2070426769\",\n          \"068471809X\",\n          \"078946697X\"\n        ],\n        \"semantic_type\": \"\",\n        \"description\": \"\"\n      }\n    },\n    {\n      \"column\": \"Book-Title\",\n      \"properties\": {\n        \"dtype\": \"string\",\n        \"num_unique_values\": 4,\n        \"samples\": [\n          \"Peuple du ciel, suivi de 'Les Bergers\\\\\\\";Jean-Marie Gustave Le Cl\\u00c3?\\u00c2\\u00a9zio\\\"\",\n          \"To Have and Have Not\",\n          \"DK Readers: Creating the X-Men, How It All Began (Level 4: Proficient Readers)\\\\\\\";Michael Teitelbaum\\\"\"\n        ],\n        \"semantic_type\": \"\",\n        \"description\": \"\"\n      }\n    },\n    {\n      \"column\": \"Book-Author\",\n      \"properties\": {\n        \"dtype\": \"string\",\n        \"num_unique_values\": 3,\n        \"samples\": [\n          \"2000\",\n          \"2003\",\n          \"Ernest Hemingway\"\n        ],\n        \"semantic_type\": \"\",\n        \"description\": \"\"\n      }\n    },\n    {\n      \"column\": \"Year-Of-Publication\",\n      \"properties\": {\n        \"dtype\": \"string\",\n        \"num_unique_values\": 3,\n        \"samples\": [\n          \"DK Publishing Inc\",\n          \"Gallimard\",\n          \"2037\"\n        ],\n        \"semantic_type\": \"\",\n        \"description\": \"\"\n      }\n    },\n    {\n      \"column\": \"Publisher\",\n      \"properties\": {\n        \"dtype\": \"string\",\n        \"num_unique_values\": 4,\n        \"samples\": [\n          \"http://images.amazon.com/images/P/2070426769.01.THUMBZZZ.jpg\",\n          \"Simon &amp; Schuster\",\n          \"http://images.amazon.com/images/P/078946697X.01.THUMBZZZ.jpg\"\n        ],\n        \"semantic_type\": \"\",\n        \"description\": \"\"\n      }\n    },\n    {\n      \"column\": \"Image-URL-S\",\n      \"properties\": {\n        \"dtype\": \"string\",\n        \"num_unique_values\": 4,\n        \"samples\": [\n          \"http://images.amazon.com/images/P/2070426769.01.MZZZZZZZ.jpg\",\n          \"http://images.amazon.com/images/P/068471809X.01.THUMBZZZ.jpg\",\n          \"http://images.amazon.com/images/P/078946697X.01.MZZZZZZZ.jpg\"\n        ],\n        \"semantic_type\": \"\",\n        \"description\": \"\"\n      }\n    },\n    {\n      \"column\": \"Image-URL-M\",\n      \"properties\": {\n        \"dtype\": \"string\",\n        \"num_unique_values\": 4,\n        \"samples\": [\n          \"http://images.amazon.com/images/P/2070426769.01.LZZZZZZZ.jpg\",\n          \"http://images.amazon.com/images/P/068471809X.01.MZZZZZZZ.jpg\",\n          \"http://images.amazon.com/images/P/078946697X.01.LZZZZZZZ.jpg\"\n        ],\n        \"semantic_type\": \"\",\n        \"description\": \"\"\n      }\n    },\n    {\n      \"column\": \"Image-URL-L\",\n      \"properties\": {\n        \"dtype\": \"category\",\n        \"num_unique_values\": 1,\n        \"samples\": [\n          \"http://images.amazon.com/images/P/068471809X.01.LZZZZZZZ.jpg\"\n        ],\n        \"semantic_type\": \"\",\n        \"description\": \"\"\n      }\n    }\n  ]\n}"
            }
          },
          "metadata": {},
          "execution_count": 36
        }
      ],
      "execution_count": 36
    },
    {
      "cell_type": "markdown",
      "source": [
        "dapat dilihat bahwa terjadi salah kolom antara book-author, year of publication publisher dan seterusnya, terjadi pergeseran satu kolom."
      ],
      "metadata": {
        "id": "J7vB5RllVTmJ"
      }
    },
    {
      "cell_type": "markdown",
      "source": [
        "Pembersihan dilakukan manual karena tidak banyak data."
      ],
      "metadata": {
        "id": "5WSddOdwbv4V"
      }
    },
    {
      "cell_type": "code",
      "source": [
        "books.loc[220731, 'Book-Title'] = \"Peuple du ciel, suivi de 'Les Bergers\"\n",
        "books.loc[220731, 'Book-Author'] = \"Jean-Marie Gustave Le ClÃ?Â©zio\"\n",
        "books.loc[220731, 'Year-Of-Publication'] = 2003\n",
        "books.loc[220731, 'Publisher'] = \"DK Publishing Inc\"\n",
        "books.loc[220731, 'Image-URL-S'] = \"http://images.amazon.com/images/P/2070426769.01.THUMBZZZ.jpg\"\n",
        "books.loc[220731, 'Image-URL-M'] = \"http://images.amazon.com/images/P/2070426769.01.MZZZZZZZ.jpg\"\n",
        "books.loc[220731, 'Image-URL-L'] = \"http://images.amazon.com/images/P/2070426769.01.LZZZZZZZ.jpg\"\n"
      ],
      "metadata": {
        "id": "2771szgKWu0G",
        "trusted": true,
        "execution": {
          "iopub.status.busy": "2025-05-29T02:36:27.403902Z",
          "iopub.execute_input": "2025-05-29T02:36:27.404136Z",
          "iopub.status.idle": "2025-05-29T02:36:27.416998Z",
          "shell.execute_reply.started": "2025-05-29T02:36:27.404121Z",
          "shell.execute_reply": "2025-05-29T02:36:27.416465Z"
        }
      },
      "outputs": [],
      "execution_count": 37
    },
    {
      "cell_type": "code",
      "source": [
        "books.loc[209538, 'Book-Title'] = \"DK Readers: Creating the X-Men, How It All Began (Level 4: Proficient Readers)\"\n",
        "books.loc[209538, 'Book-Author'] = \"Michael Teitelbaum\"\n",
        "books.loc[209538, 'Year-Of-Publication'] = 2000\n",
        "books.loc[209538, 'Publisher'] = \"DK Publishing Inc\"\n",
        "books.loc[209538, 'Image-URL-S'] = \"http://images.amazon.com/images/P/078946697X.01.THUMBZZZ.jpg\"\n",
        "books.loc[209538, 'Image-URL-M'] = \"http://images.amazon.com/images/P/078946697X.01.MZZZZZZZ.jpg\"\n",
        "books.loc[209538, 'Image-URL-L'] = \"http://images.amazon.com/images/P/078946697X.01.LZZZZZZZ.jpg\""
      ],
      "metadata": {
        "id": "6YRkSb82XVYt",
        "trusted": true,
        "execution": {
          "iopub.status.busy": "2025-05-29T02:36:27.417787Z",
          "iopub.execute_input": "2025-05-29T02:36:27.418164Z",
          "iopub.status.idle": "2025-05-29T02:36:27.434657Z",
          "shell.execute_reply.started": "2025-05-29T02:36:27.418138Z",
          "shell.execute_reply": "2025-05-29T02:36:27.433943Z"
        }
      },
      "outputs": [],
      "execution_count": 38
    },
    {
      "cell_type": "code",
      "source": [
        "books.loc[221678, 'Book-Title'] = \"DK Readers: Creating the X-Men, How Comic Books Come to Life (Level 4: Proficient Readers)\"\n",
        "books.loc[221678, 'Book-Author'] = \"James Buckley\"\n",
        "books.loc[221678, 'Year-Of-Publication'] = 2000\n",
        "books.loc[221678, 'Publisher'] = \"DK Publishing Inc\"\n",
        "books.loc[221678, 'Image-URL-S'] = \"http://images.amazon.com/images/P/0789466953.01.THUMBZZZ.jpg\"\n",
        "books.loc[221678, 'Image-URL-M'] = \"http://images.amazon.com/images/P/0789466953.01.MZZZZZZZ.jpg\"\n",
        "books.loc[221678, 'Image-URL-L'] = \"http://images.amazon.com/images/P/0789466953.01.LZZZZZZZ.jpg\""
      ],
      "metadata": {
        "id": "9D0oOLkVY-zq",
        "trusted": true,
        "execution": {
          "iopub.status.busy": "2025-05-29T02:36:27.435320Z",
          "iopub.execute_input": "2025-05-29T02:36:27.435474Z",
          "iopub.status.idle": "2025-05-29T02:36:27.458387Z",
          "shell.execute_reply.started": "2025-05-29T02:36:27.435462Z",
          "shell.execute_reply": "2025-05-29T02:36:27.457868Z"
        }
      },
      "outputs": [],
      "execution_count": 39
    },
    {
      "cell_type": "code",
      "source": [
        "books.loc[255409, 'Year-Of-Publication'] = 1937"
      ],
      "metadata": {
        "id": "4Ho_pFGObNZg",
        "trusted": true,
        "execution": {
          "iopub.status.busy": "2025-05-29T02:36:27.459160Z",
          "iopub.execute_input": "2025-05-29T02:36:27.459319Z",
          "iopub.status.idle": "2025-05-29T02:36:27.475834Z",
          "shell.execute_reply.started": "2025-05-29T02:36:27.459307Z",
          "shell.execute_reply": "2025-05-29T02:36:27.475291Z"
        }
      },
      "outputs": [],
      "execution_count": 40
    },
    {
      "cell_type": "markdown",
      "source": [
        "karena banyak yang nilai tahun nya 0, berarti tidak diketahui maka saya memfilter bahwa yang akan saya lakukan terbatas pada buku buku yang terbit pada  tahun 1900 sampai 2025."
      ],
      "metadata": {
        "id": "HEC_Vwsjsn4b"
      }
    },
    {
      "cell_type": "code",
      "source": [
        "books_cleaned = books.copy()\n",
        "\n",
        "books_cleaned['Year-Of-Publication'] = pd.to_numeric(books_cleaned['Year-Of-Publication'], errors='coerce')\n",
        "\n",
        "books_cleaned = books_cleaned[\n",
        "    (books_cleaned['Year-Of-Publication'] >= 1900) &\n",
        "    (books_cleaned['Year-Of-Publication'] <= 2025)\n",
        "]\n",
        "\n",
        "books_cleaned['Year-Of-Publication'] = books_cleaned['Year-Of-Publication'].astype(int)\n",
        "books_cleaned['Year-Of-Publication'] = books_cleaned['Year-Of-Publication'].astype(str)"
      ],
      "metadata": {
        "colab": {
          "base_uri": "https://localhost:8080/"
        },
        "id": "satfSEDIZoue",
        "outputId": "17d9e4b8-69ba-4e0b-95a2-bc69f20ff65d",
        "trusted": true,
        "execution": {
          "iopub.status.busy": "2025-05-29T02:36:27.476481Z",
          "iopub.execute_input": "2025-05-29T02:36:27.476717Z",
          "iopub.status.idle": "2025-05-29T02:36:27.747511Z",
          "shell.execute_reply.started": "2025-05-29T02:36:27.476698Z",
          "shell.execute_reply": "2025-05-29T02:36:27.746940Z"
        }
      },
      "outputs": [
        {
          "output_type": "stream",
          "name": "stderr",
          "text": [
            "<ipython-input-41-0de87fb865a9>:10: SettingWithCopyWarning: \n",
            "A value is trying to be set on a copy of a slice from a DataFrame.\n",
            "Try using .loc[row_indexer,col_indexer] = value instead\n",
            "\n",
            "See the caveats in the documentation: https://pandas.pydata.org/pandas-docs/stable/user_guide/indexing.html#returning-a-view-versus-a-copy\n",
            "  books_cleaned['Year-Of-Publication'] = books_cleaned['Year-Of-Publication'].astype(int)\n",
            "<ipython-input-41-0de87fb865a9>:11: SettingWithCopyWarning: \n",
            "A value is trying to be set on a copy of a slice from a DataFrame.\n",
            "Try using .loc[row_indexer,col_indexer] = value instead\n",
            "\n",
            "See the caveats in the documentation: https://pandas.pydata.org/pandas-docs/stable/user_guide/indexing.html#returning-a-view-versus-a-copy\n",
            "  books_cleaned['Year-Of-Publication'] = books_cleaned['Year-Of-Publication'].astype(str)\n"
          ]
        }
      ],
      "execution_count": 41
    },
    {
      "cell_type": "code",
      "source": [
        "print(\"Unique years of publication:\", books_cleaned['Year-Of-Publication'].unique())"
      ],
      "metadata": {
        "colab": {
          "base_uri": "https://localhost:8080/"
        },
        "id": "k9TNiusKaY3-",
        "outputId": "a448faf2-931b-464e-a953-58869fb22308",
        "trusted": true,
        "execution": {
          "iopub.status.busy": "2025-05-29T02:36:27.748345Z",
          "iopub.execute_input": "2025-05-29T02:36:27.748637Z",
          "iopub.status.idle": "2025-05-29T02:36:27.766000Z",
          "shell.execute_reply.started": "2025-05-29T02:36:27.748613Z",
          "shell.execute_reply": "2025-05-29T02:36:27.765225Z"
        }
      },
      "outputs": [
        {
          "output_type": "stream",
          "name": "stdout",
          "text": [
            "Unique years of publication: ['2002' '2001' '1991' '1999' '2000' '1993' '1996' '1988' '2004' '1998'\n",
            " '1994' '2003' '1997' '1983' '1979' '1995' '1982' '1985' '1992' '1986'\n",
            " '1978' '1980' '1952' '1987' '1990' '1981' '1989' '1984' '1968' '1961'\n",
            " '1958' '1974' '1976' '1971' '1977' '1975' '1965' '1941' '1970' '1962'\n",
            " '1973' '1972' '1960' '1966' '1920' '1956' '1959' '1953' '1951' '1942'\n",
            " '1963' '1964' '1969' '1954' '1950' '1967' '2005' '1957' '1940' '1937'\n",
            " '1955' '1946' '1936' '1930' '2011' '1925' '1948' '1943' '1947' '1945'\n",
            " '1923' '2020' '1939' '1926' '1938' '1911' '1904' '1949' '1932' '1928'\n",
            " '1929' '1927' '1931' '1914' '1934' '1910' '1933' '1902' '1924' '1921'\n",
            " '1900' '1944' '1917' '1901' '2010' '1908' '1906' '1935' '2021' '2012'\n",
            " '2006' '1909' '2008' '1919' '1922' '2024']\n"
          ]
        }
      ],
      "execution_count": 42
    },
    {
      "cell_type": "code",
      "source": [
        "books.isnull().sum()"
      ],
      "metadata": {
        "colab": {
          "base_uri": "https://localhost:8080/",
          "height": 335
        },
        "id": "iz0W1AK6aCDA",
        "outputId": "64093f5a-2fb9-4468-ac5d-e41b3db8e88b",
        "trusted": true,
        "execution": {
          "iopub.status.busy": "2025-05-29T02:36:27.766838Z",
          "iopub.execute_input": "2025-05-29T02:36:27.767374Z",
          "iopub.status.idle": "2025-05-29T02:36:27.885808Z",
          "shell.execute_reply.started": "2025-05-29T02:36:27.767349Z",
          "shell.execute_reply": "2025-05-29T02:36:27.885141Z"
        }
      },
      "outputs": [
        {
          "output_type": "execute_result",
          "data": {
            "text/plain": [
              "ISBN                   0\n",
              "Book-Title             0\n",
              "Book-Author            2\n",
              "Year-Of-Publication    0\n",
              "Publisher              2\n",
              "Image-URL-S            0\n",
              "Image-URL-M            0\n",
              "Image-URL-L            0\n",
              "dtype: int64"
            ],
            "text/html": [
              "<div>\n",
              "<style scoped>\n",
              "    .dataframe tbody tr th:only-of-type {\n",
              "        vertical-align: middle;\n",
              "    }\n",
              "\n",
              "    .dataframe tbody tr th {\n",
              "        vertical-align: top;\n",
              "    }\n",
              "\n",
              "    .dataframe thead th {\n",
              "        text-align: right;\n",
              "    }\n",
              "</style>\n",
              "<table border=\"1\" class=\"dataframe\">\n",
              "  <thead>\n",
              "    <tr style=\"text-align: right;\">\n",
              "      <th></th>\n",
              "      <th>0</th>\n",
              "    </tr>\n",
              "  </thead>\n",
              "  <tbody>\n",
              "    <tr>\n",
              "      <th>ISBN</th>\n",
              "      <td>0</td>\n",
              "    </tr>\n",
              "    <tr>\n",
              "      <th>Book-Title</th>\n",
              "      <td>0</td>\n",
              "    </tr>\n",
              "    <tr>\n",
              "      <th>Book-Author</th>\n",
              "      <td>2</td>\n",
              "    </tr>\n",
              "    <tr>\n",
              "      <th>Year-Of-Publication</th>\n",
              "      <td>0</td>\n",
              "    </tr>\n",
              "    <tr>\n",
              "      <th>Publisher</th>\n",
              "      <td>2</td>\n",
              "    </tr>\n",
              "    <tr>\n",
              "      <th>Image-URL-S</th>\n",
              "      <td>0</td>\n",
              "    </tr>\n",
              "    <tr>\n",
              "      <th>Image-URL-M</th>\n",
              "      <td>0</td>\n",
              "    </tr>\n",
              "    <tr>\n",
              "      <th>Image-URL-L</th>\n",
              "      <td>0</td>\n",
              "    </tr>\n",
              "  </tbody>\n",
              "</table>\n",
              "</div><br><label><b>dtype:</b> int64</label>"
            ]
          },
          "metadata": {},
          "execution_count": 43
        }
      ],
      "execution_count": 43
    },
    {
      "cell_type": "code",
      "source": [
        "\n",
        "print(\"books_cleaned where book author is NaN or publisher is NaN:\")\n",
        "books_cleaned[books_cleaned['Book-Author'].isnull() | books_cleaned['Publisher'].isnull()]"
      ],
      "metadata": {
        "colab": {
          "base_uri": "https://localhost:8080/",
          "height": 262
        },
        "id": "aHinWfAZe7Dz",
        "outputId": "fdf6f0f1-5bba-4508-9a6b-e422f8ee70fa",
        "trusted": true,
        "execution": {
          "iopub.status.busy": "2025-05-29T02:36:27.886745Z",
          "iopub.execute_input": "2025-05-29T02:36:27.887309Z",
          "iopub.status.idle": "2025-05-29T02:36:27.928592Z",
          "shell.execute_reply.started": "2025-05-29T02:36:27.887283Z",
          "shell.execute_reply": "2025-05-29T02:36:27.928024Z"
        }
      },
      "outputs": [
        {
          "output_type": "stream",
          "name": "stdout",
          "text": [
            "books_cleaned where book author is NaN or publisher is NaN:\n"
          ]
        },
        {
          "output_type": "execute_result",
          "data": {
            "text/plain": [
              "              ISBN                                         Book-Title  \\\n",
              "118033  0751352497                           A+ Quiz Masters:01 Earth   \n",
              "128890  193169656X                                        Tyrant Moon   \n",
              "129037  1931696993                                    Finders Keepers   \n",
              "187689  9627982032  The Credit Suisse Guide to Managing Your Perso...   \n",
              "\n",
              "            Book-Author Year-Of-Publication                       Publisher  \\\n",
              "118033              NaN                1999              Dorling Kindersley   \n",
              "128890  Elaine Corvidae                2002                             NaN   \n",
              "129037  Linnea Sinclair                2001                             NaN   \n",
              "187689              NaN                1995  Edinburgh Financial Publishing   \n",
              "\n",
              "                                              Image-URL-S  \\\n",
              "118033  http://images.amazon.com/images/P/0751352497.0...   \n",
              "128890  http://images.amazon.com/images/P/193169656X.0...   \n",
              "129037  http://images.amazon.com/images/P/1931696993.0...   \n",
              "187689  http://images.amazon.com/images/P/9627982032.0...   \n",
              "\n",
              "                                              Image-URL-M  \\\n",
              "118033  http://images.amazon.com/images/P/0751352497.0...   \n",
              "128890  http://images.amazon.com/images/P/193169656X.0...   \n",
              "129037  http://images.amazon.com/images/P/1931696993.0...   \n",
              "187689  http://images.amazon.com/images/P/9627982032.0...   \n",
              "\n",
              "                                              Image-URL-L  \n",
              "118033  http://images.amazon.com/images/P/0751352497.0...  \n",
              "128890  http://images.amazon.com/images/P/193169656X.0...  \n",
              "129037  http://images.amazon.com/images/P/1931696993.0...  \n",
              "187689  http://images.amazon.com/images/P/9627982032.0...  "
            ],
            "text/html": [
              "\n",
              "  <div id=\"df-ccc63ea2-a1a8-4a1c-9f8d-c40b26adab3f\" class=\"colab-df-container\">\n",
              "    <div>\n",
              "<style scoped>\n",
              "    .dataframe tbody tr th:only-of-type {\n",
              "        vertical-align: middle;\n",
              "    }\n",
              "\n",
              "    .dataframe tbody tr th {\n",
              "        vertical-align: top;\n",
              "    }\n",
              "\n",
              "    .dataframe thead th {\n",
              "        text-align: right;\n",
              "    }\n",
              "</style>\n",
              "<table border=\"1\" class=\"dataframe\">\n",
              "  <thead>\n",
              "    <tr style=\"text-align: right;\">\n",
              "      <th></th>\n",
              "      <th>ISBN</th>\n",
              "      <th>Book-Title</th>\n",
              "      <th>Book-Author</th>\n",
              "      <th>Year-Of-Publication</th>\n",
              "      <th>Publisher</th>\n",
              "      <th>Image-URL-S</th>\n",
              "      <th>Image-URL-M</th>\n",
              "      <th>Image-URL-L</th>\n",
              "    </tr>\n",
              "  </thead>\n",
              "  <tbody>\n",
              "    <tr>\n",
              "      <th>118033</th>\n",
              "      <td>0751352497</td>\n",
              "      <td>A+ Quiz Masters:01 Earth</td>\n",
              "      <td>NaN</td>\n",
              "      <td>1999</td>\n",
              "      <td>Dorling Kindersley</td>\n",
              "      <td>http://images.amazon.com/images/P/0751352497.0...</td>\n",
              "      <td>http://images.amazon.com/images/P/0751352497.0...</td>\n",
              "      <td>http://images.amazon.com/images/P/0751352497.0...</td>\n",
              "    </tr>\n",
              "    <tr>\n",
              "      <th>128890</th>\n",
              "      <td>193169656X</td>\n",
              "      <td>Tyrant Moon</td>\n",
              "      <td>Elaine Corvidae</td>\n",
              "      <td>2002</td>\n",
              "      <td>NaN</td>\n",
              "      <td>http://images.amazon.com/images/P/193169656X.0...</td>\n",
              "      <td>http://images.amazon.com/images/P/193169656X.0...</td>\n",
              "      <td>http://images.amazon.com/images/P/193169656X.0...</td>\n",
              "    </tr>\n",
              "    <tr>\n",
              "      <th>129037</th>\n",
              "      <td>1931696993</td>\n",
              "      <td>Finders Keepers</td>\n",
              "      <td>Linnea Sinclair</td>\n",
              "      <td>2001</td>\n",
              "      <td>NaN</td>\n",
              "      <td>http://images.amazon.com/images/P/1931696993.0...</td>\n",
              "      <td>http://images.amazon.com/images/P/1931696993.0...</td>\n",
              "      <td>http://images.amazon.com/images/P/1931696993.0...</td>\n",
              "    </tr>\n",
              "    <tr>\n",
              "      <th>187689</th>\n",
              "      <td>9627982032</td>\n",
              "      <td>The Credit Suisse Guide to Managing Your Perso...</td>\n",
              "      <td>NaN</td>\n",
              "      <td>1995</td>\n",
              "      <td>Edinburgh Financial Publishing</td>\n",
              "      <td>http://images.amazon.com/images/P/9627982032.0...</td>\n",
              "      <td>http://images.amazon.com/images/P/9627982032.0...</td>\n",
              "      <td>http://images.amazon.com/images/P/9627982032.0...</td>\n",
              "    </tr>\n",
              "  </tbody>\n",
              "</table>\n",
              "</div>\n",
              "    <div class=\"colab-df-buttons\">\n",
              "\n",
              "  <div class=\"colab-df-container\">\n",
              "    <button class=\"colab-df-convert\" onclick=\"convertToInteractive('df-ccc63ea2-a1a8-4a1c-9f8d-c40b26adab3f')\"\n",
              "            title=\"Convert this dataframe to an interactive table.\"\n",
              "            style=\"display:none;\">\n",
              "\n",
              "  <svg xmlns=\"http://www.w3.org/2000/svg\" height=\"24px\" viewBox=\"0 -960 960 960\">\n",
              "    <path d=\"M120-120v-720h720v720H120Zm60-500h600v-160H180v160Zm220 220h160v-160H400v160Zm0 220h160v-160H400v160ZM180-400h160v-160H180v160Zm440 0h160v-160H620v160ZM180-180h160v-160H180v160Zm440 0h160v-160H620v160Z\"/>\n",
              "  </svg>\n",
              "    </button>\n",
              "\n",
              "  <style>\n",
              "    .colab-df-container {\n",
              "      display:flex;\n",
              "      gap: 12px;\n",
              "    }\n",
              "\n",
              "    .colab-df-convert {\n",
              "      background-color: #E8F0FE;\n",
              "      border: none;\n",
              "      border-radius: 50%;\n",
              "      cursor: pointer;\n",
              "      display: none;\n",
              "      fill: #1967D2;\n",
              "      height: 32px;\n",
              "      padding: 0 0 0 0;\n",
              "      width: 32px;\n",
              "    }\n",
              "\n",
              "    .colab-df-convert:hover {\n",
              "      background-color: #E2EBFA;\n",
              "      box-shadow: 0px 1px 2px rgba(60, 64, 67, 0.3), 0px 1px 3px 1px rgba(60, 64, 67, 0.15);\n",
              "      fill: #174EA6;\n",
              "    }\n",
              "\n",
              "    .colab-df-buttons div {\n",
              "      margin-bottom: 4px;\n",
              "    }\n",
              "\n",
              "    [theme=dark] .colab-df-convert {\n",
              "      background-color: #3B4455;\n",
              "      fill: #D2E3FC;\n",
              "    }\n",
              "\n",
              "    [theme=dark] .colab-df-convert:hover {\n",
              "      background-color: #434B5C;\n",
              "      box-shadow: 0px 1px 3px 1px rgba(0, 0, 0, 0.15);\n",
              "      filter: drop-shadow(0px 1px 2px rgba(0, 0, 0, 0.3));\n",
              "      fill: #FFFFFF;\n",
              "    }\n",
              "  </style>\n",
              "\n",
              "    <script>\n",
              "      const buttonEl =\n",
              "        document.querySelector('#df-ccc63ea2-a1a8-4a1c-9f8d-c40b26adab3f button.colab-df-convert');\n",
              "      buttonEl.style.display =\n",
              "        google.colab.kernel.accessAllowed ? 'block' : 'none';\n",
              "\n",
              "      async function convertToInteractive(key) {\n",
              "        const element = document.querySelector('#df-ccc63ea2-a1a8-4a1c-9f8d-c40b26adab3f');\n",
              "        const dataTable =\n",
              "          await google.colab.kernel.invokeFunction('convertToInteractive',\n",
              "                                                    [key], {});\n",
              "        if (!dataTable) return;\n",
              "\n",
              "        const docLinkHtml = 'Like what you see? Visit the ' +\n",
              "          '<a target=\"_blank\" href=https://colab.research.google.com/notebooks/data_table.ipynb>data table notebook</a>'\n",
              "          + ' to learn more about interactive tables.';\n",
              "        element.innerHTML = '';\n",
              "        dataTable['output_type'] = 'display_data';\n",
              "        await google.colab.output.renderOutput(dataTable, element);\n",
              "        const docLink = document.createElement('div');\n",
              "        docLink.innerHTML = docLinkHtml;\n",
              "        element.appendChild(docLink);\n",
              "      }\n",
              "    </script>\n",
              "  </div>\n",
              "\n",
              "\n",
              "    <div id=\"df-eb34bf0c-06ab-419c-9575-6de78dba0f4f\">\n",
              "      <button class=\"colab-df-quickchart\" onclick=\"quickchart('df-eb34bf0c-06ab-419c-9575-6de78dba0f4f')\"\n",
              "                title=\"Suggest charts\"\n",
              "                style=\"display:none;\">\n",
              "\n",
              "<svg xmlns=\"http://www.w3.org/2000/svg\" height=\"24px\"viewBox=\"0 0 24 24\"\n",
              "     width=\"24px\">\n",
              "    <g>\n",
              "        <path d=\"M19 3H5c-1.1 0-2 .9-2 2v14c0 1.1.9 2 2 2h14c1.1 0 2-.9 2-2V5c0-1.1-.9-2-2-2zM9 17H7v-7h2v7zm4 0h-2V7h2v10zm4 0h-2v-4h2v4z\"/>\n",
              "    </g>\n",
              "</svg>\n",
              "      </button>\n",
              "\n",
              "<style>\n",
              "  .colab-df-quickchart {\n",
              "      --bg-color: #E8F0FE;\n",
              "      --fill-color: #1967D2;\n",
              "      --hover-bg-color: #E2EBFA;\n",
              "      --hover-fill-color: #174EA6;\n",
              "      --disabled-fill-color: #AAA;\n",
              "      --disabled-bg-color: #DDD;\n",
              "  }\n",
              "\n",
              "  [theme=dark] .colab-df-quickchart {\n",
              "      --bg-color: #3B4455;\n",
              "      --fill-color: #D2E3FC;\n",
              "      --hover-bg-color: #434B5C;\n",
              "      --hover-fill-color: #FFFFFF;\n",
              "      --disabled-bg-color: #3B4455;\n",
              "      --disabled-fill-color: #666;\n",
              "  }\n",
              "\n",
              "  .colab-df-quickchart {\n",
              "    background-color: var(--bg-color);\n",
              "    border: none;\n",
              "    border-radius: 50%;\n",
              "    cursor: pointer;\n",
              "    display: none;\n",
              "    fill: var(--fill-color);\n",
              "    height: 32px;\n",
              "    padding: 0;\n",
              "    width: 32px;\n",
              "  }\n",
              "\n",
              "  .colab-df-quickchart:hover {\n",
              "    background-color: var(--hover-bg-color);\n",
              "    box-shadow: 0 1px 2px rgba(60, 64, 67, 0.3), 0 1px 3px 1px rgba(60, 64, 67, 0.15);\n",
              "    fill: var(--button-hover-fill-color);\n",
              "  }\n",
              "\n",
              "  .colab-df-quickchart-complete:disabled,\n",
              "  .colab-df-quickchart-complete:disabled:hover {\n",
              "    background-color: var(--disabled-bg-color);\n",
              "    fill: var(--disabled-fill-color);\n",
              "    box-shadow: none;\n",
              "  }\n",
              "\n",
              "  .colab-df-spinner {\n",
              "    border: 2px solid var(--fill-color);\n",
              "    border-color: transparent;\n",
              "    border-bottom-color: var(--fill-color);\n",
              "    animation:\n",
              "      spin 1s steps(1) infinite;\n",
              "  }\n",
              "\n",
              "  @keyframes spin {\n",
              "    0% {\n",
              "      border-color: transparent;\n",
              "      border-bottom-color: var(--fill-color);\n",
              "      border-left-color: var(--fill-color);\n",
              "    }\n",
              "    20% {\n",
              "      border-color: transparent;\n",
              "      border-left-color: var(--fill-color);\n",
              "      border-top-color: var(--fill-color);\n",
              "    }\n",
              "    30% {\n",
              "      border-color: transparent;\n",
              "      border-left-color: var(--fill-color);\n",
              "      border-top-color: var(--fill-color);\n",
              "      border-right-color: var(--fill-color);\n",
              "    }\n",
              "    40% {\n",
              "      border-color: transparent;\n",
              "      border-right-color: var(--fill-color);\n",
              "      border-top-color: var(--fill-color);\n",
              "    }\n",
              "    60% {\n",
              "      border-color: transparent;\n",
              "      border-right-color: var(--fill-color);\n",
              "    }\n",
              "    80% {\n",
              "      border-color: transparent;\n",
              "      border-right-color: var(--fill-color);\n",
              "      border-bottom-color: var(--fill-color);\n",
              "    }\n",
              "    90% {\n",
              "      border-color: transparent;\n",
              "      border-bottom-color: var(--fill-color);\n",
              "    }\n",
              "  }\n",
              "</style>\n",
              "\n",
              "      <script>\n",
              "        async function quickchart(key) {\n",
              "          const quickchartButtonEl =\n",
              "            document.querySelector('#' + key + ' button');\n",
              "          quickchartButtonEl.disabled = true;  // To prevent multiple clicks.\n",
              "          quickchartButtonEl.classList.add('colab-df-spinner');\n",
              "          try {\n",
              "            const charts = await google.colab.kernel.invokeFunction(\n",
              "                'suggestCharts', [key], {});\n",
              "          } catch (error) {\n",
              "            console.error('Error during call to suggestCharts:', error);\n",
              "          }\n",
              "          quickchartButtonEl.classList.remove('colab-df-spinner');\n",
              "          quickchartButtonEl.classList.add('colab-df-quickchart-complete');\n",
              "        }\n",
              "        (() => {\n",
              "          let quickchartButtonEl =\n",
              "            document.querySelector('#df-eb34bf0c-06ab-419c-9575-6de78dba0f4f button');\n",
              "          quickchartButtonEl.style.display =\n",
              "            google.colab.kernel.accessAllowed ? 'block' : 'none';\n",
              "        })();\n",
              "      </script>\n",
              "    </div>\n",
              "\n",
              "    </div>\n",
              "  </div>\n"
            ],
            "application/vnd.google.colaboratory.intrinsic+json": {
              "type": "dataframe",
              "repr_error": "0"
            }
          },
          "metadata": {},
          "execution_count": 44
        }
      ],
      "execution_count": 44
    },
    {
      "cell_type": "markdown",
      "source": [
        "isi buku dengan author dan publisher nan dengan informasi di internet, karena jumlah nya sedikit jadi bisa diperbaiki."
      ],
      "metadata": {
        "id": "C9v9iFHbfWZt"
      }
    },
    {
      "cell_type": "code",
      "source": [
        "# author\n",
        "books_cleaned.loc[118033, 'Book-Author'] = \"DK\"\n",
        "books_cleaned.loc[187689, 'Book-Author'] = \"Larissa Anne Downes\"\n",
        "\n",
        "#publisher\n",
        "books_cleaned.loc[128890, 'Publisher'] = \"Mundania Press LLC\"\n",
        "books_cleaned.loc[129037, 'Publisher'] = \"LTDBooks\"\n"
      ],
      "metadata": {
        "id": "awMaGBmYfUNc",
        "trusted": true,
        "execution": {
          "iopub.status.busy": "2025-05-29T02:36:27.929306Z",
          "iopub.execute_input": "2025-05-29T02:36:27.929599Z",
          "iopub.status.idle": "2025-05-29T02:36:27.956432Z",
          "shell.execute_reply.started": "2025-05-29T02:36:27.929575Z",
          "shell.execute_reply": "2025-05-29T02:36:27.955689Z"
        }
      },
      "outputs": [],
      "execution_count": 45
    },
    {
      "cell_type": "code",
      "source": [
        "books_cleaned.info()"
      ],
      "metadata": {
        "colab": {
          "base_uri": "https://localhost:8080/"
        },
        "id": "RI4usEZygZjl",
        "outputId": "3f048904-8d22-4bc9-85f9-391d3ce06b5c",
        "trusted": true,
        "execution": {
          "iopub.status.busy": "2025-05-29T02:36:27.957248Z",
          "iopub.execute_input": "2025-05-29T02:36:27.957485Z",
          "iopub.status.idle": "2025-05-29T02:36:28.084146Z",
          "shell.execute_reply.started": "2025-05-29T02:36:27.957462Z",
          "shell.execute_reply": "2025-05-29T02:36:28.083291Z"
        }
      },
      "outputs": [
        {
          "output_type": "stream",
          "name": "stdout",
          "text": [
            "<class 'pandas.core.frame.DataFrame'>\n",
            "Index: 266727 entries, 0 to 271359\n",
            "Data columns (total 8 columns):\n",
            " #   Column               Non-Null Count   Dtype \n",
            "---  ------               --------------   ----- \n",
            " 0   ISBN                 266727 non-null  object\n",
            " 1   Book-Title           266727 non-null  object\n",
            " 2   Book-Author          266727 non-null  object\n",
            " 3   Year-Of-Publication  266727 non-null  object\n",
            " 4   Publisher            266727 non-null  object\n",
            " 5   Image-URL-S          266727 non-null  object\n",
            " 6   Image-URL-M          266727 non-null  object\n",
            " 7   Image-URL-L          266727 non-null  object\n",
            "dtypes: object(8)\n",
            "memory usage: 26.4+ MB\n"
          ]
        }
      ],
      "execution_count": 46
    },
    {
      "cell_type": "markdown",
      "source": [
        "#### Data Cleaning User"
      ],
      "metadata": {
        "id": "gohEIZ2VcAWG"
      }
    },
    {
      "cell_type": "code",
      "source": [
        "users.info()"
      ],
      "metadata": {
        "colab": {
          "base_uri": "https://localhost:8080/"
        },
        "id": "IJuTN1AUcEdE",
        "outputId": "e76b5598-2622-4929-f89b-ad2847ea2182",
        "trusted": true,
        "execution": {
          "iopub.status.busy": "2025-05-29T02:36:28.084727Z",
          "iopub.execute_input": "2025-05-29T02:36:28.084924Z",
          "iopub.status.idle": "2025-05-29T02:36:28.108884Z",
          "shell.execute_reply.started": "2025-05-29T02:36:28.084909Z",
          "shell.execute_reply": "2025-05-29T02:36:28.108194Z"
        }
      },
      "outputs": [
        {
          "output_type": "stream",
          "name": "stdout",
          "text": [
            "<class 'pandas.core.frame.DataFrame'>\n",
            "RangeIndex: 278858 entries, 0 to 278857\n",
            "Data columns (total 3 columns):\n",
            " #   Column    Non-Null Count   Dtype  \n",
            "---  ------    --------------   -----  \n",
            " 0   User-ID   278858 non-null  int64  \n",
            " 1   Location  278858 non-null  object \n",
            " 2   Age       168096 non-null  float64\n",
            "dtypes: float64(1), int64(1), object(1)\n",
            "memory usage: 6.4+ MB\n"
          ]
        }
      ],
      "execution_count": 47
    },
    {
      "cell_type": "code",
      "source": [
        "users['Age'].unique()"
      ],
      "metadata": {
        "colab": {
          "base_uri": "https://localhost:8080/"
        },
        "id": "ufakEf88dckC",
        "outputId": "22d80468-cff7-49c0-cfac-8c37f6d265b8",
        "trusted": true,
        "execution": {
          "iopub.status.busy": "2025-05-29T02:36:28.109539Z",
          "iopub.execute_input": "2025-05-29T02:36:28.109775Z",
          "iopub.status.idle": "2025-05-29T02:36:28.126046Z",
          "shell.execute_reply.started": "2025-05-29T02:36:28.109759Z",
          "shell.execute_reply": "2025-05-29T02:36:28.125371Z"
        }
      },
      "outputs": [
        {
          "output_type": "execute_result",
          "data": {
            "text/plain": [
              "array([ nan,  18.,  17.,  61.,  26.,  14.,  25.,  19.,  46.,  55.,  32.,\n",
              "        24.,  20.,  34.,  23.,  51.,  31.,  21.,  44.,  30.,  57.,  43.,\n",
              "        37.,  41.,  54.,  42.,  50.,  39.,  53.,  47.,  36.,  28.,  35.,\n",
              "        13.,  58.,  49.,  38.,  45.,  62.,  63.,  27.,  33.,  29.,  66.,\n",
              "        40.,  15.,  60.,   0.,  79.,  22.,  16.,  65.,  59.,  48.,  72.,\n",
              "        56.,  67.,   1.,  80.,  52.,  69.,  71.,  73.,  78.,   9.,  64.,\n",
              "       103., 104.,  12.,  74.,  75., 231.,   3.,  76.,  83.,  68., 119.,\n",
              "        11.,  77.,   2.,  70.,  93.,   8.,   7.,   4.,  81., 114., 230.,\n",
              "       239.,  10.,   5., 148., 151.,   6., 101., 201.,  96.,  84.,  82.,\n",
              "        90., 123., 244., 133.,  91., 128.,  94.,  85., 141., 110.,  97.,\n",
              "       219.,  86., 124.,  92., 175., 172., 209., 212., 237.,  87., 162.,\n",
              "       100., 156., 136.,  95.,  89., 106.,  99., 108., 210.,  88., 199.,\n",
              "       147., 168., 132., 159., 186., 152., 102., 116., 200., 115., 226.,\n",
              "       137., 207., 229., 138., 109., 105., 228., 183., 204.,  98., 223.,\n",
              "       113., 208., 107., 157., 111., 146., 118., 220., 143., 140., 189.,\n",
              "       127.])"
            ]
          },
          "metadata": {},
          "execution_count": 48
        }
      ],
      "execution_count": 48
    },
    {
      "cell_type": "code",
      "source": [
        "# prompt: fill age where >= 100 and <=10 with nan value\n",
        "\n",
        "users.loc[(users['Age'] >= 100) | (users['Age'] <= 10), 'Age'] = None\n",
        "users.info()"
      ],
      "metadata": {
        "colab": {
          "base_uri": "https://localhost:8080/"
        },
        "id": "w4Y0pV_keEJU",
        "outputId": "1ddf2cbb-fc63-4cad-e157-c389e3f0f456",
        "trusted": true,
        "execution": {
          "iopub.status.busy": "2025-05-29T02:36:28.126770Z",
          "iopub.execute_input": "2025-05-29T02:36:28.126982Z",
          "iopub.status.idle": "2025-05-29T02:36:28.160384Z",
          "shell.execute_reply.started": "2025-05-29T02:36:28.126960Z",
          "shell.execute_reply": "2025-05-29T02:36:28.159755Z"
        }
      },
      "outputs": [
        {
          "output_type": "stream",
          "name": "stdout",
          "text": [
            "<class 'pandas.core.frame.DataFrame'>\n",
            "RangeIndex: 278858 entries, 0 to 278857\n",
            "Data columns (total 3 columns):\n",
            " #   Column    Non-Null Count   Dtype  \n",
            "---  ------    --------------   -----  \n",
            " 0   User-ID   278858 non-null  int64  \n",
            " 1   Location  278858 non-null  object \n",
            " 2   Age       166570 non-null  float64\n",
            "dtypes: float64(1), int64(1), object(1)\n",
            "memory usage: 6.4+ MB\n"
          ]
        }
      ],
      "execution_count": 49
    },
    {
      "cell_type": "code",
      "source": [
        "# prompt: fill age where nan value with median\n",
        "\n",
        "users['Age'].fillna(users['Age'].median(), inplace=True)\n",
        "users['Age'] = users['Age'].astype(int)"
      ],
      "metadata": {
        "colab": {
          "base_uri": "https://localhost:8080/"
        },
        "id": "ww8EkjcneMks",
        "outputId": "0b49d8dd-cbc0-4b60-b7eb-cd3744639e8f",
        "trusted": true,
        "execution": {
          "iopub.status.busy": "2025-05-29T02:36:28.160981Z",
          "iopub.execute_input": "2025-05-29T02:36:28.161178Z",
          "iopub.status.idle": "2025-05-29T02:36:28.176240Z",
          "shell.execute_reply.started": "2025-05-29T02:36:28.161164Z",
          "shell.execute_reply": "2025-05-29T02:36:28.175299Z"
        }
      },
      "outputs": [
        {
          "output_type": "stream",
          "name": "stderr",
          "text": [
            "<ipython-input-50-69cc8c432919>:3: FutureWarning: A value is trying to be set on a copy of a DataFrame or Series through chained assignment using an inplace method.\n",
            "The behavior will change in pandas 3.0. This inplace method will never work because the intermediate object on which we are setting values always behaves as a copy.\n",
            "\n",
            "For example, when doing 'df[col].method(value, inplace=True)', try using 'df.method({col: value}, inplace=True)' or df[col] = df[col].method(value) instead, to perform the operation inplace on the original object.\n",
            "\n",
            "\n",
            "  users['Age'].fillna(users['Age'].median(), inplace=True)\n"
          ]
        }
      ],
      "execution_count": 50
    },
    {
      "cell_type": "code",
      "source": [
        "users['Age'].unique()"
      ],
      "metadata": {
        "colab": {
          "base_uri": "https://localhost:8080/"
        },
        "id": "q6ohJYKCeVVu",
        "outputId": "9dab02b1-a718-45cb-fd5c-3f8b154d17ad",
        "trusted": true,
        "execution": {
          "iopub.status.busy": "2025-05-29T02:36:28.177194Z",
          "iopub.execute_input": "2025-05-29T02:36:28.177471Z",
          "iopub.status.idle": "2025-05-29T02:36:28.188151Z",
          "shell.execute_reply.started": "2025-05-29T02:36:28.177445Z",
          "shell.execute_reply": "2025-05-29T02:36:28.187314Z"
        }
      },
      "outputs": [
        {
          "output_type": "execute_result",
          "data": {
            "text/plain": [
              "array([32, 18, 17, 61, 26, 14, 25, 19, 46, 55, 24, 20, 34, 23, 51, 31, 21,\n",
              "       44, 30, 57, 43, 37, 41, 54, 42, 50, 39, 53, 47, 36, 28, 35, 13, 58,\n",
              "       49, 38, 45, 62, 63, 27, 33, 29, 66, 40, 15, 60, 79, 22, 16, 65, 59,\n",
              "       48, 72, 56, 67, 80, 52, 69, 71, 73, 78, 64, 12, 74, 75, 76, 83, 68,\n",
              "       11, 77, 70, 93, 81, 96, 84, 82, 90, 91, 94, 85, 97, 86, 92, 87, 95,\n",
              "       89, 99, 88, 98])"
            ]
          },
          "metadata": {},
          "execution_count": 51
        }
      ],
      "execution_count": 51
    },
    {
      "cell_type": "markdown",
      "source": [
        "Meskipun terdapat banyak missing value untuk kolom age, tapi ini tidak akan di drop karena akan mengurangi jumlah data yang signifikan."
      ],
      "metadata": {
        "id": "4rixJD1EcdAR"
      }
    },
    {
      "cell_type": "markdown",
      "source": [
        "#### Data Cleaning Rating"
      ],
      "metadata": {
        "id": "HGX8aTDpcn4C"
      }
    },
    {
      "cell_type": "code",
      "source": [
        "ratings.info()"
      ],
      "metadata": {
        "colab": {
          "base_uri": "https://localhost:8080/"
        },
        "id": "Sx5fkxT5ctyy",
        "outputId": "8c47eb71-c0a2-414e-dcc4-ddb090d21688",
        "trusted": true,
        "execution": {
          "iopub.status.busy": "2025-05-29T02:36:28.189043Z",
          "iopub.execute_input": "2025-05-29T02:36:28.190148Z",
          "iopub.status.idle": "2025-05-29T02:36:28.294304Z",
          "shell.execute_reply.started": "2025-05-29T02:36:28.190131Z",
          "shell.execute_reply": "2025-05-29T02:36:28.293638Z"
        }
      },
      "outputs": [
        {
          "output_type": "stream",
          "name": "stdout",
          "text": [
            "<class 'pandas.core.frame.DataFrame'>\n",
            "RangeIndex: 1149780 entries, 0 to 1149779\n",
            "Data columns (total 3 columns):\n",
            " #   Column       Non-Null Count    Dtype \n",
            "---  ------       --------------    ----- \n",
            " 0   User-ID      1149780 non-null  int64 \n",
            " 1   ISBN         1149780 non-null  object\n",
            " 2   Book-Rating  1149780 non-null  int64 \n",
            "dtypes: int64(2), object(1)\n",
            "memory usage: 26.3+ MB\n"
          ]
        }
      ],
      "execution_count": 52
    },
    {
      "cell_type": "markdown",
      "source": [
        "tidak terdapat missing value data sudah bersih."
      ],
      "metadata": {
        "id": "3xqz1WDRczoi"
      }
    },
    {
      "cell_type": "code",
      "source": [
        "ratings['Book-Rating'].unique()"
      ],
      "metadata": {
        "colab": {
          "base_uri": "https://localhost:8080/"
        },
        "id": "Es2OwRw4c3u7",
        "outputId": "24f2a307-739b-4d8e-ad2c-64f7ddad57ab",
        "trusted": true,
        "execution": {
          "iopub.status.busy": "2025-05-29T02:36:28.295062Z",
          "iopub.execute_input": "2025-05-29T02:36:28.295275Z",
          "iopub.status.idle": "2025-05-29T02:36:28.306208Z",
          "shell.execute_reply.started": "2025-05-29T02:36:28.295258Z",
          "shell.execute_reply": "2025-05-29T02:36:28.305604Z"
        }
      },
      "outputs": [
        {
          "output_type": "execute_result",
          "data": {
            "text/plain": [
              "array([ 0,  5,  3,  6,  8,  7, 10,  9,  4,  1,  2])"
            ]
          },
          "metadata": {},
          "execution_count": 53
        }
      ],
      "execution_count": 53
    },
    {
      "cell_type": "markdown",
      "source": [
        "### Penggabungan"
      ],
      "metadata": {
        "id": "09bFU2hLdHHw"
      }
    },
    {
      "cell_type": "code",
      "source": [
        "ratings_books = ratings.merge(books_cleaned, on='ISBN', how='inner')\n"
      ],
      "metadata": {
        "id": "xd_QHj5giv0X",
        "trusted": true,
        "execution": {
          "iopub.status.busy": "2025-05-29T02:36:28.306791Z",
          "iopub.execute_input": "2025-05-29T02:36:28.306989Z",
          "iopub.status.idle": "2025-05-29T02:36:29.610779Z",
          "shell.execute_reply.started": "2025-05-29T02:36:28.306974Z",
          "shell.execute_reply": "2025-05-29T02:36:29.610192Z"
        }
      },
      "outputs": [],
      "execution_count": 54
    },
    {
      "cell_type": "code",
      "source": [
        "ratings_books.head()"
      ],
      "metadata": {
        "colab": {
          "base_uri": "https://localhost:8080/",
          "height": 345
        },
        "id": "M0X9BfjqjJI1",
        "outputId": "480b37e1-a707-4261-e1d8-d863c3eb5f7b",
        "trusted": true,
        "execution": {
          "iopub.status.busy": "2025-05-29T02:36:29.611391Z",
          "iopub.execute_input": "2025-05-29T02:36:29.611609Z",
          "iopub.status.idle": "2025-05-29T02:36:29.622333Z",
          "shell.execute_reply.started": "2025-05-29T02:36:29.611586Z",
          "shell.execute_reply": "2025-05-29T02:36:29.621598Z"
        }
      },
      "outputs": [
        {
          "output_type": "execute_result",
          "data": {
            "text/plain": [
              "   User-ID        ISBN  Book-Rating  \\\n",
              "0   276725  034545104X            0   \n",
              "1   276726  0155061224            5   \n",
              "2   276727  0446520802            0   \n",
              "3   276729  052165615X            3   \n",
              "4   276729  0521795028            6   \n",
              "\n",
              "                                          Book-Title      Book-Author  \\\n",
              "0                               Flesh Tones: A Novel       M. J. Rose   \n",
              "1                                   Rites of Passage       Judith Rae   \n",
              "2                                       The Notebook  Nicholas Sparks   \n",
              "3                                     Help!: Level 1    Philip Prowse   \n",
              "4  The Amsterdam Connection : Level 4 (Cambridge ...      Sue Leather   \n",
              "\n",
              "  Year-Of-Publication                   Publisher  \\\n",
              "0                2002            Ballantine Books   \n",
              "1                2001                      Heinle   \n",
              "2                1996                Warner Books   \n",
              "3                1999  Cambridge University Press   \n",
              "4                2001  Cambridge University Press   \n",
              "\n",
              "                                         Image-URL-S  \\\n",
              "0  http://images.amazon.com/images/P/034545104X.0...   \n",
              "1  http://images.amazon.com/images/P/0155061224.0...   \n",
              "2  http://images.amazon.com/images/P/0446520802.0...   \n",
              "3  http://images.amazon.com/images/P/052165615X.0...   \n",
              "4  http://images.amazon.com/images/P/0521795028.0...   \n",
              "\n",
              "                                         Image-URL-M  \\\n",
              "0  http://images.amazon.com/images/P/034545104X.0...   \n",
              "1  http://images.amazon.com/images/P/0155061224.0...   \n",
              "2  http://images.amazon.com/images/P/0446520802.0...   \n",
              "3  http://images.amazon.com/images/P/052165615X.0...   \n",
              "4  http://images.amazon.com/images/P/0521795028.0...   \n",
              "\n",
              "                                         Image-URL-L  \n",
              "0  http://images.amazon.com/images/P/034545104X.0...  \n",
              "1  http://images.amazon.com/images/P/0155061224.0...  \n",
              "2  http://images.amazon.com/images/P/0446520802.0...  \n",
              "3  http://images.amazon.com/images/P/052165615X.0...  \n",
              "4  http://images.amazon.com/images/P/0521795028.0...  "
            ],
            "text/html": [
              "\n",
              "  <div id=\"df-e573b634-f6d6-4a84-994c-6babec9c1ddf\" class=\"colab-df-container\">\n",
              "    <div>\n",
              "<style scoped>\n",
              "    .dataframe tbody tr th:only-of-type {\n",
              "        vertical-align: middle;\n",
              "    }\n",
              "\n",
              "    .dataframe tbody tr th {\n",
              "        vertical-align: top;\n",
              "    }\n",
              "\n",
              "    .dataframe thead th {\n",
              "        text-align: right;\n",
              "    }\n",
              "</style>\n",
              "<table border=\"1\" class=\"dataframe\">\n",
              "  <thead>\n",
              "    <tr style=\"text-align: right;\">\n",
              "      <th></th>\n",
              "      <th>User-ID</th>\n",
              "      <th>ISBN</th>\n",
              "      <th>Book-Rating</th>\n",
              "      <th>Book-Title</th>\n",
              "      <th>Book-Author</th>\n",
              "      <th>Year-Of-Publication</th>\n",
              "      <th>Publisher</th>\n",
              "      <th>Image-URL-S</th>\n",
              "      <th>Image-URL-M</th>\n",
              "      <th>Image-URL-L</th>\n",
              "    </tr>\n",
              "  </thead>\n",
              "  <tbody>\n",
              "    <tr>\n",
              "      <th>0</th>\n",
              "      <td>276725</td>\n",
              "      <td>034545104X</td>\n",
              "      <td>0</td>\n",
              "      <td>Flesh Tones: A Novel</td>\n",
              "      <td>M. J. Rose</td>\n",
              "      <td>2002</td>\n",
              "      <td>Ballantine Books</td>\n",
              "      <td>http://images.amazon.com/images/P/034545104X.0...</td>\n",
              "      <td>http://images.amazon.com/images/P/034545104X.0...</td>\n",
              "      <td>http://images.amazon.com/images/P/034545104X.0...</td>\n",
              "    </tr>\n",
              "    <tr>\n",
              "      <th>1</th>\n",
              "      <td>276726</td>\n",
              "      <td>0155061224</td>\n",
              "      <td>5</td>\n",
              "      <td>Rites of Passage</td>\n",
              "      <td>Judith Rae</td>\n",
              "      <td>2001</td>\n",
              "      <td>Heinle</td>\n",
              "      <td>http://images.amazon.com/images/P/0155061224.0...</td>\n",
              "      <td>http://images.amazon.com/images/P/0155061224.0...</td>\n",
              "      <td>http://images.amazon.com/images/P/0155061224.0...</td>\n",
              "    </tr>\n",
              "    <tr>\n",
              "      <th>2</th>\n",
              "      <td>276727</td>\n",
              "      <td>0446520802</td>\n",
              "      <td>0</td>\n",
              "      <td>The Notebook</td>\n",
              "      <td>Nicholas Sparks</td>\n",
              "      <td>1996</td>\n",
              "      <td>Warner Books</td>\n",
              "      <td>http://images.amazon.com/images/P/0446520802.0...</td>\n",
              "      <td>http://images.amazon.com/images/P/0446520802.0...</td>\n",
              "      <td>http://images.amazon.com/images/P/0446520802.0...</td>\n",
              "    </tr>\n",
              "    <tr>\n",
              "      <th>3</th>\n",
              "      <td>276729</td>\n",
              "      <td>052165615X</td>\n",
              "      <td>3</td>\n",
              "      <td>Help!: Level 1</td>\n",
              "      <td>Philip Prowse</td>\n",
              "      <td>1999</td>\n",
              "      <td>Cambridge University Press</td>\n",
              "      <td>http://images.amazon.com/images/P/052165615X.0...</td>\n",
              "      <td>http://images.amazon.com/images/P/052165615X.0...</td>\n",
              "      <td>http://images.amazon.com/images/P/052165615X.0...</td>\n",
              "    </tr>\n",
              "    <tr>\n",
              "      <th>4</th>\n",
              "      <td>276729</td>\n",
              "      <td>0521795028</td>\n",
              "      <td>6</td>\n",
              "      <td>The Amsterdam Connection : Level 4 (Cambridge ...</td>\n",
              "      <td>Sue Leather</td>\n",
              "      <td>2001</td>\n",
              "      <td>Cambridge University Press</td>\n",
              "      <td>http://images.amazon.com/images/P/0521795028.0...</td>\n",
              "      <td>http://images.amazon.com/images/P/0521795028.0...</td>\n",
              "      <td>http://images.amazon.com/images/P/0521795028.0...</td>\n",
              "    </tr>\n",
              "  </tbody>\n",
              "</table>\n",
              "</div>\n",
              "    <div class=\"colab-df-buttons\">\n",
              "\n",
              "  <div class=\"colab-df-container\">\n",
              "    <button class=\"colab-df-convert\" onclick=\"convertToInteractive('df-e573b634-f6d6-4a84-994c-6babec9c1ddf')\"\n",
              "            title=\"Convert this dataframe to an interactive table.\"\n",
              "            style=\"display:none;\">\n",
              "\n",
              "  <svg xmlns=\"http://www.w3.org/2000/svg\" height=\"24px\" viewBox=\"0 -960 960 960\">\n",
              "    <path d=\"M120-120v-720h720v720H120Zm60-500h600v-160H180v160Zm220 220h160v-160H400v160Zm0 220h160v-160H400v160ZM180-400h160v-160H180v160Zm440 0h160v-160H620v160ZM180-180h160v-160H180v160Zm440 0h160v-160H620v160Z\"/>\n",
              "  </svg>\n",
              "    </button>\n",
              "\n",
              "  <style>\n",
              "    .colab-df-container {\n",
              "      display:flex;\n",
              "      gap: 12px;\n",
              "    }\n",
              "\n",
              "    .colab-df-convert {\n",
              "      background-color: #E8F0FE;\n",
              "      border: none;\n",
              "      border-radius: 50%;\n",
              "      cursor: pointer;\n",
              "      display: none;\n",
              "      fill: #1967D2;\n",
              "      height: 32px;\n",
              "      padding: 0 0 0 0;\n",
              "      width: 32px;\n",
              "    }\n",
              "\n",
              "    .colab-df-convert:hover {\n",
              "      background-color: #E2EBFA;\n",
              "      box-shadow: 0px 1px 2px rgba(60, 64, 67, 0.3), 0px 1px 3px 1px rgba(60, 64, 67, 0.15);\n",
              "      fill: #174EA6;\n",
              "    }\n",
              "\n",
              "    .colab-df-buttons div {\n",
              "      margin-bottom: 4px;\n",
              "    }\n",
              "\n",
              "    [theme=dark] .colab-df-convert {\n",
              "      background-color: #3B4455;\n",
              "      fill: #D2E3FC;\n",
              "    }\n",
              "\n",
              "    [theme=dark] .colab-df-convert:hover {\n",
              "      background-color: #434B5C;\n",
              "      box-shadow: 0px 1px 3px 1px rgba(0, 0, 0, 0.15);\n",
              "      filter: drop-shadow(0px 1px 2px rgba(0, 0, 0, 0.3));\n",
              "      fill: #FFFFFF;\n",
              "    }\n",
              "  </style>\n",
              "\n",
              "    <script>\n",
              "      const buttonEl =\n",
              "        document.querySelector('#df-e573b634-f6d6-4a84-994c-6babec9c1ddf button.colab-df-convert');\n",
              "      buttonEl.style.display =\n",
              "        google.colab.kernel.accessAllowed ? 'block' : 'none';\n",
              "\n",
              "      async function convertToInteractive(key) {\n",
              "        const element = document.querySelector('#df-e573b634-f6d6-4a84-994c-6babec9c1ddf');\n",
              "        const dataTable =\n",
              "          await google.colab.kernel.invokeFunction('convertToInteractive',\n",
              "                                                    [key], {});\n",
              "        if (!dataTable) return;\n",
              "\n",
              "        const docLinkHtml = 'Like what you see? Visit the ' +\n",
              "          '<a target=\"_blank\" href=https://colab.research.google.com/notebooks/data_table.ipynb>data table notebook</a>'\n",
              "          + ' to learn more about interactive tables.';\n",
              "        element.innerHTML = '';\n",
              "        dataTable['output_type'] = 'display_data';\n",
              "        await google.colab.output.renderOutput(dataTable, element);\n",
              "        const docLink = document.createElement('div');\n",
              "        docLink.innerHTML = docLinkHtml;\n",
              "        element.appendChild(docLink);\n",
              "      }\n",
              "    </script>\n",
              "  </div>\n",
              "\n",
              "\n",
              "    <div id=\"df-6f79f171-1919-445b-93b9-4f966b532f79\">\n",
              "      <button class=\"colab-df-quickchart\" onclick=\"quickchart('df-6f79f171-1919-445b-93b9-4f966b532f79')\"\n",
              "                title=\"Suggest charts\"\n",
              "                style=\"display:none;\">\n",
              "\n",
              "<svg xmlns=\"http://www.w3.org/2000/svg\" height=\"24px\"viewBox=\"0 0 24 24\"\n",
              "     width=\"24px\">\n",
              "    <g>\n",
              "        <path d=\"M19 3H5c-1.1 0-2 .9-2 2v14c0 1.1.9 2 2 2h14c1.1 0 2-.9 2-2V5c0-1.1-.9-2-2-2zM9 17H7v-7h2v7zm4 0h-2V7h2v10zm4 0h-2v-4h2v4z\"/>\n",
              "    </g>\n",
              "</svg>\n",
              "      </button>\n",
              "\n",
              "<style>\n",
              "  .colab-df-quickchart {\n",
              "      --bg-color: #E8F0FE;\n",
              "      --fill-color: #1967D2;\n",
              "      --hover-bg-color: #E2EBFA;\n",
              "      --hover-fill-color: #174EA6;\n",
              "      --disabled-fill-color: #AAA;\n",
              "      --disabled-bg-color: #DDD;\n",
              "  }\n",
              "\n",
              "  [theme=dark] .colab-df-quickchart {\n",
              "      --bg-color: #3B4455;\n",
              "      --fill-color: #D2E3FC;\n",
              "      --hover-bg-color: #434B5C;\n",
              "      --hover-fill-color: #FFFFFF;\n",
              "      --disabled-bg-color: #3B4455;\n",
              "      --disabled-fill-color: #666;\n",
              "  }\n",
              "\n",
              "  .colab-df-quickchart {\n",
              "    background-color: var(--bg-color);\n",
              "    border: none;\n",
              "    border-radius: 50%;\n",
              "    cursor: pointer;\n",
              "    display: none;\n",
              "    fill: var(--fill-color);\n",
              "    height: 32px;\n",
              "    padding: 0;\n",
              "    width: 32px;\n",
              "  }\n",
              "\n",
              "  .colab-df-quickchart:hover {\n",
              "    background-color: var(--hover-bg-color);\n",
              "    box-shadow: 0 1px 2px rgba(60, 64, 67, 0.3), 0 1px 3px 1px rgba(60, 64, 67, 0.15);\n",
              "    fill: var(--button-hover-fill-color);\n",
              "  }\n",
              "\n",
              "  .colab-df-quickchart-complete:disabled,\n",
              "  .colab-df-quickchart-complete:disabled:hover {\n",
              "    background-color: var(--disabled-bg-color);\n",
              "    fill: var(--disabled-fill-color);\n",
              "    box-shadow: none;\n",
              "  }\n",
              "\n",
              "  .colab-df-spinner {\n",
              "    border: 2px solid var(--fill-color);\n",
              "    border-color: transparent;\n",
              "    border-bottom-color: var(--fill-color);\n",
              "    animation:\n",
              "      spin 1s steps(1) infinite;\n",
              "  }\n",
              "\n",
              "  @keyframes spin {\n",
              "    0% {\n",
              "      border-color: transparent;\n",
              "      border-bottom-color: var(--fill-color);\n",
              "      border-left-color: var(--fill-color);\n",
              "    }\n",
              "    20% {\n",
              "      border-color: transparent;\n",
              "      border-left-color: var(--fill-color);\n",
              "      border-top-color: var(--fill-color);\n",
              "    }\n",
              "    30% {\n",
              "      border-color: transparent;\n",
              "      border-left-color: var(--fill-color);\n",
              "      border-top-color: var(--fill-color);\n",
              "      border-right-color: var(--fill-color);\n",
              "    }\n",
              "    40% {\n",
              "      border-color: transparent;\n",
              "      border-right-color: var(--fill-color);\n",
              "      border-top-color: var(--fill-color);\n",
              "    }\n",
              "    60% {\n",
              "      border-color: transparent;\n",
              "      border-right-color: var(--fill-color);\n",
              "    }\n",
              "    80% {\n",
              "      border-color: transparent;\n",
              "      border-right-color: var(--fill-color);\n",
              "      border-bottom-color: var(--fill-color);\n",
              "    }\n",
              "    90% {\n",
              "      border-color: transparent;\n",
              "      border-bottom-color: var(--fill-color);\n",
              "    }\n",
              "  }\n",
              "</style>\n",
              "\n",
              "      <script>\n",
              "        async function quickchart(key) {\n",
              "          const quickchartButtonEl =\n",
              "            document.querySelector('#' + key + ' button');\n",
              "          quickchartButtonEl.disabled = true;  // To prevent multiple clicks.\n",
              "          quickchartButtonEl.classList.add('colab-df-spinner');\n",
              "          try {\n",
              "            const charts = await google.colab.kernel.invokeFunction(\n",
              "                'suggestCharts', [key], {});\n",
              "          } catch (error) {\n",
              "            console.error('Error during call to suggestCharts:', error);\n",
              "          }\n",
              "          quickchartButtonEl.classList.remove('colab-df-spinner');\n",
              "          quickchartButtonEl.classList.add('colab-df-quickchart-complete');\n",
              "        }\n",
              "        (() => {\n",
              "          let quickchartButtonEl =\n",
              "            document.querySelector('#df-6f79f171-1919-445b-93b9-4f966b532f79 button');\n",
              "          quickchartButtonEl.style.display =\n",
              "            google.colab.kernel.accessAllowed ? 'block' : 'none';\n",
              "        })();\n",
              "      </script>\n",
              "    </div>\n",
              "\n",
              "    </div>\n",
              "  </div>\n"
            ],
            "application/vnd.google.colaboratory.intrinsic+json": {
              "type": "dataframe",
              "variable_name": "ratings_books"
            }
          },
          "metadata": {},
          "execution_count": 55
        }
      ],
      "execution_count": 55
    },
    {
      "cell_type": "code",
      "source": [
        "print(\"ratings_books missing values:\")\n",
        "print(ratings_books.isnull().sum())\n",
        "\n",
        "print(\"\\nratings_books duplicate rows:\")\n",
        "print(ratings_books.duplicated().sum())"
      ],
      "metadata": {
        "colab": {
          "base_uri": "https://localhost:8080/"
        },
        "id": "C9OKH6S2jM6Q",
        "outputId": "baa4329f-1adf-4078-a73c-1ec5c4ef57fc",
        "trusted": true,
        "execution": {
          "iopub.status.busy": "2025-05-29T02:36:29.623025Z",
          "iopub.execute_input": "2025-05-29T02:36:29.623224Z",
          "iopub.status.idle": "2025-05-29T02:36:31.602706Z",
          "shell.execute_reply.started": "2025-05-29T02:36:29.623210Z",
          "shell.execute_reply": "2025-05-29T02:36:31.601937Z"
        }
      },
      "outputs": [
        {
          "output_type": "stream",
          "name": "stdout",
          "text": [
            "ratings_books missing values:\n",
            "User-ID                0\n",
            "ISBN                   0\n",
            "Book-Rating            0\n",
            "Book-Title             0\n",
            "Book-Author            0\n",
            "Year-Of-Publication    0\n",
            "Publisher              0\n",
            "Image-URL-S            0\n",
            "Image-URL-M            0\n",
            "Image-URL-L            0\n",
            "dtype: int64\n",
            "\n",
            "ratings_books duplicate rows:\n",
            "0\n"
          ]
        }
      ],
      "execution_count": 56
    },
    {
      "cell_type": "code",
      "source": [
        "ratings_full = ratings_books.merge(users, on='User-ID', how='inner')"
      ],
      "metadata": {
        "id": "pjE3EiizjCu1",
        "trusted": true,
        "execution": {
          "iopub.status.busy": "2025-05-29T02:36:31.603454Z",
          "iopub.execute_input": "2025-05-29T02:36:31.603773Z",
          "iopub.status.idle": "2025-05-29T02:36:32.309440Z",
          "shell.execute_reply.started": "2025-05-29T02:36:31.603738Z",
          "shell.execute_reply": "2025-05-29T02:36:32.308621Z"
        }
      },
      "outputs": [],
      "execution_count": 57
    },
    {
      "cell_type": "code",
      "source": [
        "ratings_full.head()"
      ],
      "metadata": {
        "colab": {
          "base_uri": "https://localhost:8080/",
          "height": 467
        },
        "id": "CBchbM9DjGxC",
        "outputId": "1e57b5c2-1a66-4d71-a01a-e2e7c040f6ff",
        "trusted": true,
        "execution": {
          "iopub.status.busy": "2025-05-29T02:36:32.310414Z",
          "iopub.execute_input": "2025-05-29T02:36:32.310718Z",
          "iopub.status.idle": "2025-05-29T02:36:32.325180Z",
          "shell.execute_reply.started": "2025-05-29T02:36:32.310692Z",
          "shell.execute_reply": "2025-05-29T02:36:32.324161Z"
        }
      },
      "outputs": [
        {
          "output_type": "execute_result",
          "data": {
            "text/plain": [
              "   User-ID        ISBN  Book-Rating  \\\n",
              "0   276725  034545104X            0   \n",
              "1   276726  0155061224            5   \n",
              "2   276727  0446520802            0   \n",
              "3   276729  052165615X            3   \n",
              "4   276729  0521795028            6   \n",
              "\n",
              "                                          Book-Title      Book-Author  \\\n",
              "0                               Flesh Tones: A Novel       M. J. Rose   \n",
              "1                                   Rites of Passage       Judith Rae   \n",
              "2                                       The Notebook  Nicholas Sparks   \n",
              "3                                     Help!: Level 1    Philip Prowse   \n",
              "4  The Amsterdam Connection : Level 4 (Cambridge ...      Sue Leather   \n",
              "\n",
              "  Year-Of-Publication                   Publisher  \\\n",
              "0                2002            Ballantine Books   \n",
              "1                2001                      Heinle   \n",
              "2                1996                Warner Books   \n",
              "3                1999  Cambridge University Press   \n",
              "4                2001  Cambridge University Press   \n",
              "\n",
              "                                         Image-URL-S  \\\n",
              "0  http://images.amazon.com/images/P/034545104X.0...   \n",
              "1  http://images.amazon.com/images/P/0155061224.0...   \n",
              "2  http://images.amazon.com/images/P/0446520802.0...   \n",
              "3  http://images.amazon.com/images/P/052165615X.0...   \n",
              "4  http://images.amazon.com/images/P/0521795028.0...   \n",
              "\n",
              "                                         Image-URL-M  \\\n",
              "0  http://images.amazon.com/images/P/034545104X.0...   \n",
              "1  http://images.amazon.com/images/P/0155061224.0...   \n",
              "2  http://images.amazon.com/images/P/0446520802.0...   \n",
              "3  http://images.amazon.com/images/P/052165615X.0...   \n",
              "4  http://images.amazon.com/images/P/0521795028.0...   \n",
              "\n",
              "                                         Image-URL-L  \\\n",
              "0  http://images.amazon.com/images/P/034545104X.0...   \n",
              "1  http://images.amazon.com/images/P/0155061224.0...   \n",
              "2  http://images.amazon.com/images/P/0446520802.0...   \n",
              "3  http://images.amazon.com/images/P/052165615X.0...   \n",
              "4  http://images.amazon.com/images/P/0521795028.0...   \n",
              "\n",
              "                        Location  Age  \n",
              "0              tyler, texas, usa   32  \n",
              "1       seattle, washington, usa   32  \n",
              "2  h, new south wales, australia   16  \n",
              "3           rijeka, n/a, croatia   16  \n",
              "4           rijeka, n/a, croatia   16  "
            ],
            "text/html": [
              "\n",
              "  <div id=\"df-f5132534-2fd9-4b94-8144-69bc765a2825\" class=\"colab-df-container\">\n",
              "    <div>\n",
              "<style scoped>\n",
              "    .dataframe tbody tr th:only-of-type {\n",
              "        vertical-align: middle;\n",
              "    }\n",
              "\n",
              "    .dataframe tbody tr th {\n",
              "        vertical-align: top;\n",
              "    }\n",
              "\n",
              "    .dataframe thead th {\n",
              "        text-align: right;\n",
              "    }\n",
              "</style>\n",
              "<table border=\"1\" class=\"dataframe\">\n",
              "  <thead>\n",
              "    <tr style=\"text-align: right;\">\n",
              "      <th></th>\n",
              "      <th>User-ID</th>\n",
              "      <th>ISBN</th>\n",
              "      <th>Book-Rating</th>\n",
              "      <th>Book-Title</th>\n",
              "      <th>Book-Author</th>\n",
              "      <th>Year-Of-Publication</th>\n",
              "      <th>Publisher</th>\n",
              "      <th>Image-URL-S</th>\n",
              "      <th>Image-URL-M</th>\n",
              "      <th>Image-URL-L</th>\n",
              "      <th>Location</th>\n",
              "      <th>Age</th>\n",
              "    </tr>\n",
              "  </thead>\n",
              "  <tbody>\n",
              "    <tr>\n",
              "      <th>0</th>\n",
              "      <td>276725</td>\n",
              "      <td>034545104X</td>\n",
              "      <td>0</td>\n",
              "      <td>Flesh Tones: A Novel</td>\n",
              "      <td>M. J. Rose</td>\n",
              "      <td>2002</td>\n",
              "      <td>Ballantine Books</td>\n",
              "      <td>http://images.amazon.com/images/P/034545104X.0...</td>\n",
              "      <td>http://images.amazon.com/images/P/034545104X.0...</td>\n",
              "      <td>http://images.amazon.com/images/P/034545104X.0...</td>\n",
              "      <td>tyler, texas, usa</td>\n",
              "      <td>32</td>\n",
              "    </tr>\n",
              "    <tr>\n",
              "      <th>1</th>\n",
              "      <td>276726</td>\n",
              "      <td>0155061224</td>\n",
              "      <td>5</td>\n",
              "      <td>Rites of Passage</td>\n",
              "      <td>Judith Rae</td>\n",
              "      <td>2001</td>\n",
              "      <td>Heinle</td>\n",
              "      <td>http://images.amazon.com/images/P/0155061224.0...</td>\n",
              "      <td>http://images.amazon.com/images/P/0155061224.0...</td>\n",
              "      <td>http://images.amazon.com/images/P/0155061224.0...</td>\n",
              "      <td>seattle, washington, usa</td>\n",
              "      <td>32</td>\n",
              "    </tr>\n",
              "    <tr>\n",
              "      <th>2</th>\n",
              "      <td>276727</td>\n",
              "      <td>0446520802</td>\n",
              "      <td>0</td>\n",
              "      <td>The Notebook</td>\n",
              "      <td>Nicholas Sparks</td>\n",
              "      <td>1996</td>\n",
              "      <td>Warner Books</td>\n",
              "      <td>http://images.amazon.com/images/P/0446520802.0...</td>\n",
              "      <td>http://images.amazon.com/images/P/0446520802.0...</td>\n",
              "      <td>http://images.amazon.com/images/P/0446520802.0...</td>\n",
              "      <td>h, new south wales, australia</td>\n",
              "      <td>16</td>\n",
              "    </tr>\n",
              "    <tr>\n",
              "      <th>3</th>\n",
              "      <td>276729</td>\n",
              "      <td>052165615X</td>\n",
              "      <td>3</td>\n",
              "      <td>Help!: Level 1</td>\n",
              "      <td>Philip Prowse</td>\n",
              "      <td>1999</td>\n",
              "      <td>Cambridge University Press</td>\n",
              "      <td>http://images.amazon.com/images/P/052165615X.0...</td>\n",
              "      <td>http://images.amazon.com/images/P/052165615X.0...</td>\n",
              "      <td>http://images.amazon.com/images/P/052165615X.0...</td>\n",
              "      <td>rijeka, n/a, croatia</td>\n",
              "      <td>16</td>\n",
              "    </tr>\n",
              "    <tr>\n",
              "      <th>4</th>\n",
              "      <td>276729</td>\n",
              "      <td>0521795028</td>\n",
              "      <td>6</td>\n",
              "      <td>The Amsterdam Connection : Level 4 (Cambridge ...</td>\n",
              "      <td>Sue Leather</td>\n",
              "      <td>2001</td>\n",
              "      <td>Cambridge University Press</td>\n",
              "      <td>http://images.amazon.com/images/P/0521795028.0...</td>\n",
              "      <td>http://images.amazon.com/images/P/0521795028.0...</td>\n",
              "      <td>http://images.amazon.com/images/P/0521795028.0...</td>\n",
              "      <td>rijeka, n/a, croatia</td>\n",
              "      <td>16</td>\n",
              "    </tr>\n",
              "  </tbody>\n",
              "</table>\n",
              "</div>\n",
              "    <div class=\"colab-df-buttons\">\n",
              "\n",
              "  <div class=\"colab-df-container\">\n",
              "    <button class=\"colab-df-convert\" onclick=\"convertToInteractive('df-f5132534-2fd9-4b94-8144-69bc765a2825')\"\n",
              "            title=\"Convert this dataframe to an interactive table.\"\n",
              "            style=\"display:none;\">\n",
              "\n",
              "  <svg xmlns=\"http://www.w3.org/2000/svg\" height=\"24px\" viewBox=\"0 -960 960 960\">\n",
              "    <path d=\"M120-120v-720h720v720H120Zm60-500h600v-160H180v160Zm220 220h160v-160H400v160Zm0 220h160v-160H400v160ZM180-400h160v-160H180v160Zm440 0h160v-160H620v160ZM180-180h160v-160H180v160Zm440 0h160v-160H620v160Z\"/>\n",
              "  </svg>\n",
              "    </button>\n",
              "\n",
              "  <style>\n",
              "    .colab-df-container {\n",
              "      display:flex;\n",
              "      gap: 12px;\n",
              "    }\n",
              "\n",
              "    .colab-df-convert {\n",
              "      background-color: #E8F0FE;\n",
              "      border: none;\n",
              "      border-radius: 50%;\n",
              "      cursor: pointer;\n",
              "      display: none;\n",
              "      fill: #1967D2;\n",
              "      height: 32px;\n",
              "      padding: 0 0 0 0;\n",
              "      width: 32px;\n",
              "    }\n",
              "\n",
              "    .colab-df-convert:hover {\n",
              "      background-color: #E2EBFA;\n",
              "      box-shadow: 0px 1px 2px rgba(60, 64, 67, 0.3), 0px 1px 3px 1px rgba(60, 64, 67, 0.15);\n",
              "      fill: #174EA6;\n",
              "    }\n",
              "\n",
              "    .colab-df-buttons div {\n",
              "      margin-bottom: 4px;\n",
              "    }\n",
              "\n",
              "    [theme=dark] .colab-df-convert {\n",
              "      background-color: #3B4455;\n",
              "      fill: #D2E3FC;\n",
              "    }\n",
              "\n",
              "    [theme=dark] .colab-df-convert:hover {\n",
              "      background-color: #434B5C;\n",
              "      box-shadow: 0px 1px 3px 1px rgba(0, 0, 0, 0.15);\n",
              "      filter: drop-shadow(0px 1px 2px rgba(0, 0, 0, 0.3));\n",
              "      fill: #FFFFFF;\n",
              "    }\n",
              "  </style>\n",
              "\n",
              "    <script>\n",
              "      const buttonEl =\n",
              "        document.querySelector('#df-f5132534-2fd9-4b94-8144-69bc765a2825 button.colab-df-convert');\n",
              "      buttonEl.style.display =\n",
              "        google.colab.kernel.accessAllowed ? 'block' : 'none';\n",
              "\n",
              "      async function convertToInteractive(key) {\n",
              "        const element = document.querySelector('#df-f5132534-2fd9-4b94-8144-69bc765a2825');\n",
              "        const dataTable =\n",
              "          await google.colab.kernel.invokeFunction('convertToInteractive',\n",
              "                                                    [key], {});\n",
              "        if (!dataTable) return;\n",
              "\n",
              "        const docLinkHtml = 'Like what you see? Visit the ' +\n",
              "          '<a target=\"_blank\" href=https://colab.research.google.com/notebooks/data_table.ipynb>data table notebook</a>'\n",
              "          + ' to learn more about interactive tables.';\n",
              "        element.innerHTML = '';\n",
              "        dataTable['output_type'] = 'display_data';\n",
              "        await google.colab.output.renderOutput(dataTable, element);\n",
              "        const docLink = document.createElement('div');\n",
              "        docLink.innerHTML = docLinkHtml;\n",
              "        element.appendChild(docLink);\n",
              "      }\n",
              "    </script>\n",
              "  </div>\n",
              "\n",
              "\n",
              "    <div id=\"df-3f124122-4a77-46a4-ad17-168b5b3f08c0\">\n",
              "      <button class=\"colab-df-quickchart\" onclick=\"quickchart('df-3f124122-4a77-46a4-ad17-168b5b3f08c0')\"\n",
              "                title=\"Suggest charts\"\n",
              "                style=\"display:none;\">\n",
              "\n",
              "<svg xmlns=\"http://www.w3.org/2000/svg\" height=\"24px\"viewBox=\"0 0 24 24\"\n",
              "     width=\"24px\">\n",
              "    <g>\n",
              "        <path d=\"M19 3H5c-1.1 0-2 .9-2 2v14c0 1.1.9 2 2 2h14c1.1 0 2-.9 2-2V5c0-1.1-.9-2-2-2zM9 17H7v-7h2v7zm4 0h-2V7h2v10zm4 0h-2v-4h2v4z\"/>\n",
              "    </g>\n",
              "</svg>\n",
              "      </button>\n",
              "\n",
              "<style>\n",
              "  .colab-df-quickchart {\n",
              "      --bg-color: #E8F0FE;\n",
              "      --fill-color: #1967D2;\n",
              "      --hover-bg-color: #E2EBFA;\n",
              "      --hover-fill-color: #174EA6;\n",
              "      --disabled-fill-color: #AAA;\n",
              "      --disabled-bg-color: #DDD;\n",
              "  }\n",
              "\n",
              "  [theme=dark] .colab-df-quickchart {\n",
              "      --bg-color: #3B4455;\n",
              "      --fill-color: #D2E3FC;\n",
              "      --hover-bg-color: #434B5C;\n",
              "      --hover-fill-color: #FFFFFF;\n",
              "      --disabled-bg-color: #3B4455;\n",
              "      --disabled-fill-color: #666;\n",
              "  }\n",
              "\n",
              "  .colab-df-quickchart {\n",
              "    background-color: var(--bg-color);\n",
              "    border: none;\n",
              "    border-radius: 50%;\n",
              "    cursor: pointer;\n",
              "    display: none;\n",
              "    fill: var(--fill-color);\n",
              "    height: 32px;\n",
              "    padding: 0;\n",
              "    width: 32px;\n",
              "  }\n",
              "\n",
              "  .colab-df-quickchart:hover {\n",
              "    background-color: var(--hover-bg-color);\n",
              "    box-shadow: 0 1px 2px rgba(60, 64, 67, 0.3), 0 1px 3px 1px rgba(60, 64, 67, 0.15);\n",
              "    fill: var(--button-hover-fill-color);\n",
              "  }\n",
              "\n",
              "  .colab-df-quickchart-complete:disabled,\n",
              "  .colab-df-quickchart-complete:disabled:hover {\n",
              "    background-color: var(--disabled-bg-color);\n",
              "    fill: var(--disabled-fill-color);\n",
              "    box-shadow: none;\n",
              "  }\n",
              "\n",
              "  .colab-df-spinner {\n",
              "    border: 2px solid var(--fill-color);\n",
              "    border-color: transparent;\n",
              "    border-bottom-color: var(--fill-color);\n",
              "    animation:\n",
              "      spin 1s steps(1) infinite;\n",
              "  }\n",
              "\n",
              "  @keyframes spin {\n",
              "    0% {\n",
              "      border-color: transparent;\n",
              "      border-bottom-color: var(--fill-color);\n",
              "      border-left-color: var(--fill-color);\n",
              "    }\n",
              "    20% {\n",
              "      border-color: transparent;\n",
              "      border-left-color: var(--fill-color);\n",
              "      border-top-color: var(--fill-color);\n",
              "    }\n",
              "    30% {\n",
              "      border-color: transparent;\n",
              "      border-left-color: var(--fill-color);\n",
              "      border-top-color: var(--fill-color);\n",
              "      border-right-color: var(--fill-color);\n",
              "    }\n",
              "    40% {\n",
              "      border-color: transparent;\n",
              "      border-right-color: var(--fill-color);\n",
              "      border-top-color: var(--fill-color);\n",
              "    }\n",
              "    60% {\n",
              "      border-color: transparent;\n",
              "      border-right-color: var(--fill-color);\n",
              "    }\n",
              "    80% {\n",
              "      border-color: transparent;\n",
              "      border-right-color: var(--fill-color);\n",
              "      border-bottom-color: var(--fill-color);\n",
              "    }\n",
              "    90% {\n",
              "      border-color: transparent;\n",
              "      border-bottom-color: var(--fill-color);\n",
              "    }\n",
              "  }\n",
              "</style>\n",
              "\n",
              "      <script>\n",
              "        async function quickchart(key) {\n",
              "          const quickchartButtonEl =\n",
              "            document.querySelector('#' + key + ' button');\n",
              "          quickchartButtonEl.disabled = true;  // To prevent multiple clicks.\n",
              "          quickchartButtonEl.classList.add('colab-df-spinner');\n",
              "          try {\n",
              "            const charts = await google.colab.kernel.invokeFunction(\n",
              "                'suggestCharts', [key], {});\n",
              "          } catch (error) {\n",
              "            console.error('Error during call to suggestCharts:', error);\n",
              "          }\n",
              "          quickchartButtonEl.classList.remove('colab-df-spinner');\n",
              "          quickchartButtonEl.classList.add('colab-df-quickchart-complete');\n",
              "        }\n",
              "        (() => {\n",
              "          let quickchartButtonEl =\n",
              "            document.querySelector('#df-3f124122-4a77-46a4-ad17-168b5b3f08c0 button');\n",
              "          quickchartButtonEl.style.display =\n",
              "            google.colab.kernel.accessAllowed ? 'block' : 'none';\n",
              "        })();\n",
              "      </script>\n",
              "    </div>\n",
              "\n",
              "    </div>\n",
              "  </div>\n"
            ],
            "application/vnd.google.colaboratory.intrinsic+json": {
              "type": "dataframe",
              "variable_name": "ratings_full"
            }
          },
          "metadata": {},
          "execution_count": 58
        }
      ],
      "execution_count": 58
    },
    {
      "cell_type": "code",
      "source": [
        "print(\"ratings_full missing values:\")\n",
        "print(ratings_full.isnull().sum())\n",
        "\n",
        "print(\"\\nratings_full duplicate rows:\")\n",
        "print(ratings_full.duplicated().sum())"
      ],
      "metadata": {
        "colab": {
          "base_uri": "https://localhost:8080/"
        },
        "id": "pqcZLsndjYq9",
        "outputId": "ead94ef2-1c9f-4a48-c8a0-39e1c2bafcb1",
        "trusted": true,
        "execution": {
          "iopub.status.busy": "2025-05-29T02:36:32.326190Z",
          "iopub.execute_input": "2025-05-29T02:36:32.326516Z",
          "iopub.status.idle": "2025-05-29T02:36:34.439010Z",
          "shell.execute_reply.started": "2025-05-29T02:36:32.326487Z",
          "shell.execute_reply": "2025-05-29T02:36:34.438399Z"
        }
      },
      "outputs": [
        {
          "output_type": "stream",
          "name": "stdout",
          "text": [
            "ratings_full missing values:\n",
            "User-ID                0\n",
            "ISBN                   0\n",
            "Book-Rating            0\n",
            "Book-Title             0\n",
            "Book-Author            0\n",
            "Year-Of-Publication    0\n",
            "Publisher              0\n",
            "Image-URL-S            0\n",
            "Image-URL-M            0\n",
            "Image-URL-L            0\n",
            "Location               0\n",
            "Age                    0\n",
            "dtype: int64\n",
            "\n",
            "ratings_full duplicate rows:\n",
            "0\n"
          ]
        }
      ],
      "execution_count": 59
    },
    {
      "cell_type": "markdown",
      "source": [
        "# Model Development Content Based Filtering"
      ],
      "metadata": {
        "id": "rpmMEPtZkA6w"
      }
    },
    {
      "cell_type": "markdown",
      "source": [
        "Merekomendasikan buku yang mirip dengan buku tertentu berdasarkan fitur deskriptif buku itu sendiri (judul, penulis, dan penerbit). Tanpa pengaruh pengguna yang lain."
      ],
      "metadata": {
        "id": "0CP2PYn9sFrU"
      }
    },
    {
      "cell_type": "markdown",
      "source": [
        "### Import Library"
      ],
      "metadata": {
        "id": "vpSjQLxg6wYE"
      }
    },
    {
      "cell_type": "code",
      "source": [
        "import pandas as pd\n",
        "from sklearn.feature_extraction.text import TfidfVectorizer\n",
        "from sklearn.metrics.pairwise import cosine_similarity"
      ],
      "metadata": {
        "id": "o1w9SNOlkBpU",
        "trusted": true,
        "execution": {
          "iopub.status.busy": "2025-05-29T02:36:34.439730Z",
          "iopub.execute_input": "2025-05-29T02:36:34.439974Z",
          "iopub.status.idle": "2025-05-29T02:36:34.857893Z",
          "shell.execute_reply.started": "2025-05-29T02:36:34.439949Z",
          "shell.execute_reply": "2025-05-29T02:36:34.857129Z"
        }
      },
      "outputs": [],
      "execution_count": 60
    },
    {
      "cell_type": "markdown",
      "source": [
        "## Data Preparation\n",
        "untuk pengembangan sistem rekomendasi CBF"
      ],
      "metadata": {
        "id": "T6a5xUfb-wvi"
      }
    },
    {
      "cell_type": "markdown",
      "source": [
        "Gabungkan Fitur Jadi Satu Kolom"
      ],
      "metadata": {
        "id": "4sG32O2An0h0"
      }
    },
    {
      "cell_type": "code",
      "source": [
        "books_cleaned['cbf_features'] = books_cleaned['Book-Title'].fillna('') + ' ' + books_cleaned['Book-Author'].fillna('') + ' ' + books_cleaned['Publisher'].fillna('')"
      ],
      "metadata": {
        "id": "fAeHTqfgn1Yw",
        "trusted": true,
        "execution": {
          "iopub.status.busy": "2025-05-29T02:36:34.858706Z",
          "iopub.execute_input": "2025-05-29T02:36:34.858886Z",
          "iopub.status.idle": "2025-05-29T02:36:35.065084Z",
          "shell.execute_reply.started": "2025-05-29T02:36:34.858872Z",
          "shell.execute_reply": "2025-05-29T02:36:35.064518Z"
        }
      },
      "outputs": [],
      "execution_count": 61
    },
    {
      "cell_type": "markdown",
      "source": [
        "### TF-IDF Vectorization"
      ],
      "metadata": {
        "id": "aplybqzQn8Nm"
      }
    },
    {
      "cell_type": "markdown",
      "source": [
        "Digunakan untuk mengubah data teks (judul, penulis, penerbit) menjadi representasi numerik yang dapat diproses oleh model."
      ],
      "metadata": {
        "id": "Jk9Cz2aDsFrU"
      }
    },
    {
      "cell_type": "code",
      "source": [
        "from sklearn.feature_extraction.text import TfidfVectorizer\n",
        "\n",
        "tfidf = TfidfVectorizer(stop_words='english')\n",
        "tfidf_matrix = tfidf.fit_transform(books_cleaned['cbf_features'])\n",
        "\n",
        "print(tfidf_matrix.shape)"
      ],
      "metadata": {
        "id": "9aVW0_kvn5D9",
        "trusted": true,
        "execution": {
          "iopub.status.busy": "2025-05-29T02:36:35.065765Z",
          "iopub.execute_input": "2025-05-29T02:36:35.065966Z",
          "iopub.status.idle": "2025-05-29T02:36:37.763251Z",
          "shell.execute_reply.started": "2025-05-29T02:36:35.065951Z",
          "shell.execute_reply": "2025-05-29T02:36:37.762619Z"
        },
        "colab": {
          "base_uri": "https://localhost:8080/"
        },
        "outputId": "32b9238c-8c5a-4a31-eeaa-a21f8ab381f2"
      },
      "outputs": [
        {
          "output_type": "stream",
          "name": "stdout",
          "text": [
            "(266727, 115579)\n"
          ]
        }
      ],
      "execution_count": 62
    },
    {
      "cell_type": "markdown",
      "source": [
        "## Inisialisasi dan latih model NearestNeighbors"
      ],
      "metadata": {
        "id": "k1UG3kTmsFrV"
      }
    },
    {
      "cell_type": "markdown",
      "source": [
        "Menggunakan algoritma brute-force untuk mencari buku-buku terdekat (nearest) berdasarkan cosine similarity dari vektor TF-IDF."
      ],
      "metadata": {
        "id": "1poZy09BsFrV"
      }
    },
    {
      "cell_type": "code",
      "source": [
        "from sklearn.neighbors import NearestNeighbors\n",
        "\n",
        "nn_model = NearestNeighbors(metric='cosine', algorithm='brute', n_neighbors=11, n_jobs=-1)\n",
        "\n",
        "nn_model.fit(tfidf_matrix)"
      ],
      "metadata": {
        "trusted": true,
        "execution": {
          "iopub.status.busy": "2025-05-29T02:36:37.764190Z",
          "iopub.execute_input": "2025-05-29T02:36:37.764737Z",
          "iopub.status.idle": "2025-05-29T02:36:38.162622Z",
          "shell.execute_reply.started": "2025-05-29T02:36:37.764717Z",
          "shell.execute_reply": "2025-05-29T02:36:38.161960Z"
        },
        "colab": {
          "base_uri": "https://localhost:8080/",
          "height": 80
        },
        "id": "mV5EBP1GsFrV",
        "outputId": "b4b2c2c7-eb18-47aa-f82b-e7571da8542a"
      },
      "outputs": [
        {
          "output_type": "execute_result",
          "data": {
            "text/plain": [
              "NearestNeighbors(algorithm='brute', metric='cosine', n_jobs=-1, n_neighbors=11)"
            ],
            "text/html": [
              "<style>#sk-container-id-1 {\n",
              "  /* Definition of color scheme common for light and dark mode */\n",
              "  --sklearn-color-text: #000;\n",
              "  --sklearn-color-text-muted: #666;\n",
              "  --sklearn-color-line: gray;\n",
              "  /* Definition of color scheme for unfitted estimators */\n",
              "  --sklearn-color-unfitted-level-0: #fff5e6;\n",
              "  --sklearn-color-unfitted-level-1: #f6e4d2;\n",
              "  --sklearn-color-unfitted-level-2: #ffe0b3;\n",
              "  --sklearn-color-unfitted-level-3: chocolate;\n",
              "  /* Definition of color scheme for fitted estimators */\n",
              "  --sklearn-color-fitted-level-0: #f0f8ff;\n",
              "  --sklearn-color-fitted-level-1: #d4ebff;\n",
              "  --sklearn-color-fitted-level-2: #b3dbfd;\n",
              "  --sklearn-color-fitted-level-3: cornflowerblue;\n",
              "\n",
              "  /* Specific color for light theme */\n",
              "  --sklearn-color-text-on-default-background: var(--sg-text-color, var(--theme-code-foreground, var(--jp-content-font-color1, black)));\n",
              "  --sklearn-color-background: var(--sg-background-color, var(--theme-background, var(--jp-layout-color0, white)));\n",
              "  --sklearn-color-border-box: var(--sg-text-color, var(--theme-code-foreground, var(--jp-content-font-color1, black)));\n",
              "  --sklearn-color-icon: #696969;\n",
              "\n",
              "  @media (prefers-color-scheme: dark) {\n",
              "    /* Redefinition of color scheme for dark theme */\n",
              "    --sklearn-color-text-on-default-background: var(--sg-text-color, var(--theme-code-foreground, var(--jp-content-font-color1, white)));\n",
              "    --sklearn-color-background: var(--sg-background-color, var(--theme-background, var(--jp-layout-color0, #111)));\n",
              "    --sklearn-color-border-box: var(--sg-text-color, var(--theme-code-foreground, var(--jp-content-font-color1, white)));\n",
              "    --sklearn-color-icon: #878787;\n",
              "  }\n",
              "}\n",
              "\n",
              "#sk-container-id-1 {\n",
              "  color: var(--sklearn-color-text);\n",
              "}\n",
              "\n",
              "#sk-container-id-1 pre {\n",
              "  padding: 0;\n",
              "}\n",
              "\n",
              "#sk-container-id-1 input.sk-hidden--visually {\n",
              "  border: 0;\n",
              "  clip: rect(1px 1px 1px 1px);\n",
              "  clip: rect(1px, 1px, 1px, 1px);\n",
              "  height: 1px;\n",
              "  margin: -1px;\n",
              "  overflow: hidden;\n",
              "  padding: 0;\n",
              "  position: absolute;\n",
              "  width: 1px;\n",
              "}\n",
              "\n",
              "#sk-container-id-1 div.sk-dashed-wrapped {\n",
              "  border: 1px dashed var(--sklearn-color-line);\n",
              "  margin: 0 0.4em 0.5em 0.4em;\n",
              "  box-sizing: border-box;\n",
              "  padding-bottom: 0.4em;\n",
              "  background-color: var(--sklearn-color-background);\n",
              "}\n",
              "\n",
              "#sk-container-id-1 div.sk-container {\n",
              "  /* jupyter's `normalize.less` sets `[hidden] { display: none; }`\n",
              "     but bootstrap.min.css set `[hidden] { display: none !important; }`\n",
              "     so we also need the `!important` here to be able to override the\n",
              "     default hidden behavior on the sphinx rendered scikit-learn.org.\n",
              "     See: https://github.com/scikit-learn/scikit-learn/issues/21755 */\n",
              "  display: inline-block !important;\n",
              "  position: relative;\n",
              "}\n",
              "\n",
              "#sk-container-id-1 div.sk-text-repr-fallback {\n",
              "  display: none;\n",
              "}\n",
              "\n",
              "div.sk-parallel-item,\n",
              "div.sk-serial,\n",
              "div.sk-item {\n",
              "  /* draw centered vertical line to link estimators */\n",
              "  background-image: linear-gradient(var(--sklearn-color-text-on-default-background), var(--sklearn-color-text-on-default-background));\n",
              "  background-size: 2px 100%;\n",
              "  background-repeat: no-repeat;\n",
              "  background-position: center center;\n",
              "}\n",
              "\n",
              "/* Parallel-specific style estimator block */\n",
              "\n",
              "#sk-container-id-1 div.sk-parallel-item::after {\n",
              "  content: \"\";\n",
              "  width: 100%;\n",
              "  border-bottom: 2px solid var(--sklearn-color-text-on-default-background);\n",
              "  flex-grow: 1;\n",
              "}\n",
              "\n",
              "#sk-container-id-1 div.sk-parallel {\n",
              "  display: flex;\n",
              "  align-items: stretch;\n",
              "  justify-content: center;\n",
              "  background-color: var(--sklearn-color-background);\n",
              "  position: relative;\n",
              "}\n",
              "\n",
              "#sk-container-id-1 div.sk-parallel-item {\n",
              "  display: flex;\n",
              "  flex-direction: column;\n",
              "}\n",
              "\n",
              "#sk-container-id-1 div.sk-parallel-item:first-child::after {\n",
              "  align-self: flex-end;\n",
              "  width: 50%;\n",
              "}\n",
              "\n",
              "#sk-container-id-1 div.sk-parallel-item:last-child::after {\n",
              "  align-self: flex-start;\n",
              "  width: 50%;\n",
              "}\n",
              "\n",
              "#sk-container-id-1 div.sk-parallel-item:only-child::after {\n",
              "  width: 0;\n",
              "}\n",
              "\n",
              "/* Serial-specific style estimator block */\n",
              "\n",
              "#sk-container-id-1 div.sk-serial {\n",
              "  display: flex;\n",
              "  flex-direction: column;\n",
              "  align-items: center;\n",
              "  background-color: var(--sklearn-color-background);\n",
              "  padding-right: 1em;\n",
              "  padding-left: 1em;\n",
              "}\n",
              "\n",
              "\n",
              "/* Toggleable style: style used for estimator/Pipeline/ColumnTransformer box that is\n",
              "clickable and can be expanded/collapsed.\n",
              "- Pipeline and ColumnTransformer use this feature and define the default style\n",
              "- Estimators will overwrite some part of the style using the `sk-estimator` class\n",
              "*/\n",
              "\n",
              "/* Pipeline and ColumnTransformer style (default) */\n",
              "\n",
              "#sk-container-id-1 div.sk-toggleable {\n",
              "  /* Default theme specific background. It is overwritten whether we have a\n",
              "  specific estimator or a Pipeline/ColumnTransformer */\n",
              "  background-color: var(--sklearn-color-background);\n",
              "}\n",
              "\n",
              "/* Toggleable label */\n",
              "#sk-container-id-1 label.sk-toggleable__label {\n",
              "  cursor: pointer;\n",
              "  display: flex;\n",
              "  width: 100%;\n",
              "  margin-bottom: 0;\n",
              "  padding: 0.5em;\n",
              "  box-sizing: border-box;\n",
              "  text-align: center;\n",
              "  align-items: start;\n",
              "  justify-content: space-between;\n",
              "  gap: 0.5em;\n",
              "}\n",
              "\n",
              "#sk-container-id-1 label.sk-toggleable__label .caption {\n",
              "  font-size: 0.6rem;\n",
              "  font-weight: lighter;\n",
              "  color: var(--sklearn-color-text-muted);\n",
              "}\n",
              "\n",
              "#sk-container-id-1 label.sk-toggleable__label-arrow:before {\n",
              "  /* Arrow on the left of the label */\n",
              "  content: \"▸\";\n",
              "  float: left;\n",
              "  margin-right: 0.25em;\n",
              "  color: var(--sklearn-color-icon);\n",
              "}\n",
              "\n",
              "#sk-container-id-1 label.sk-toggleable__label-arrow:hover:before {\n",
              "  color: var(--sklearn-color-text);\n",
              "}\n",
              "\n",
              "/* Toggleable content - dropdown */\n",
              "\n",
              "#sk-container-id-1 div.sk-toggleable__content {\n",
              "  max-height: 0;\n",
              "  max-width: 0;\n",
              "  overflow: hidden;\n",
              "  text-align: left;\n",
              "  /* unfitted */\n",
              "  background-color: var(--sklearn-color-unfitted-level-0);\n",
              "}\n",
              "\n",
              "#sk-container-id-1 div.sk-toggleable__content.fitted {\n",
              "  /* fitted */\n",
              "  background-color: var(--sklearn-color-fitted-level-0);\n",
              "}\n",
              "\n",
              "#sk-container-id-1 div.sk-toggleable__content pre {\n",
              "  margin: 0.2em;\n",
              "  border-radius: 0.25em;\n",
              "  color: var(--sklearn-color-text);\n",
              "  /* unfitted */\n",
              "  background-color: var(--sklearn-color-unfitted-level-0);\n",
              "}\n",
              "\n",
              "#sk-container-id-1 div.sk-toggleable__content.fitted pre {\n",
              "  /* unfitted */\n",
              "  background-color: var(--sklearn-color-fitted-level-0);\n",
              "}\n",
              "\n",
              "#sk-container-id-1 input.sk-toggleable__control:checked~div.sk-toggleable__content {\n",
              "  /* Expand drop-down */\n",
              "  max-height: 200px;\n",
              "  max-width: 100%;\n",
              "  overflow: auto;\n",
              "}\n",
              "\n",
              "#sk-container-id-1 input.sk-toggleable__control:checked~label.sk-toggleable__label-arrow:before {\n",
              "  content: \"▾\";\n",
              "}\n",
              "\n",
              "/* Pipeline/ColumnTransformer-specific style */\n",
              "\n",
              "#sk-container-id-1 div.sk-label input.sk-toggleable__control:checked~label.sk-toggleable__label {\n",
              "  color: var(--sklearn-color-text);\n",
              "  background-color: var(--sklearn-color-unfitted-level-2);\n",
              "}\n",
              "\n",
              "#sk-container-id-1 div.sk-label.fitted input.sk-toggleable__control:checked~label.sk-toggleable__label {\n",
              "  background-color: var(--sklearn-color-fitted-level-2);\n",
              "}\n",
              "\n",
              "/* Estimator-specific style */\n",
              "\n",
              "/* Colorize estimator box */\n",
              "#sk-container-id-1 div.sk-estimator input.sk-toggleable__control:checked~label.sk-toggleable__label {\n",
              "  /* unfitted */\n",
              "  background-color: var(--sklearn-color-unfitted-level-2);\n",
              "}\n",
              "\n",
              "#sk-container-id-1 div.sk-estimator.fitted input.sk-toggleable__control:checked~label.sk-toggleable__label {\n",
              "  /* fitted */\n",
              "  background-color: var(--sklearn-color-fitted-level-2);\n",
              "}\n",
              "\n",
              "#sk-container-id-1 div.sk-label label.sk-toggleable__label,\n",
              "#sk-container-id-1 div.sk-label label {\n",
              "  /* The background is the default theme color */\n",
              "  color: var(--sklearn-color-text-on-default-background);\n",
              "}\n",
              "\n",
              "/* On hover, darken the color of the background */\n",
              "#sk-container-id-1 div.sk-label:hover label.sk-toggleable__label {\n",
              "  color: var(--sklearn-color-text);\n",
              "  background-color: var(--sklearn-color-unfitted-level-2);\n",
              "}\n",
              "\n",
              "/* Label box, darken color on hover, fitted */\n",
              "#sk-container-id-1 div.sk-label.fitted:hover label.sk-toggleable__label.fitted {\n",
              "  color: var(--sklearn-color-text);\n",
              "  background-color: var(--sklearn-color-fitted-level-2);\n",
              "}\n",
              "\n",
              "/* Estimator label */\n",
              "\n",
              "#sk-container-id-1 div.sk-label label {\n",
              "  font-family: monospace;\n",
              "  font-weight: bold;\n",
              "  display: inline-block;\n",
              "  line-height: 1.2em;\n",
              "}\n",
              "\n",
              "#sk-container-id-1 div.sk-label-container {\n",
              "  text-align: center;\n",
              "}\n",
              "\n",
              "/* Estimator-specific */\n",
              "#sk-container-id-1 div.sk-estimator {\n",
              "  font-family: monospace;\n",
              "  border: 1px dotted var(--sklearn-color-border-box);\n",
              "  border-radius: 0.25em;\n",
              "  box-sizing: border-box;\n",
              "  margin-bottom: 0.5em;\n",
              "  /* unfitted */\n",
              "  background-color: var(--sklearn-color-unfitted-level-0);\n",
              "}\n",
              "\n",
              "#sk-container-id-1 div.sk-estimator.fitted {\n",
              "  /* fitted */\n",
              "  background-color: var(--sklearn-color-fitted-level-0);\n",
              "}\n",
              "\n",
              "/* on hover */\n",
              "#sk-container-id-1 div.sk-estimator:hover {\n",
              "  /* unfitted */\n",
              "  background-color: var(--sklearn-color-unfitted-level-2);\n",
              "}\n",
              "\n",
              "#sk-container-id-1 div.sk-estimator.fitted:hover {\n",
              "  /* fitted */\n",
              "  background-color: var(--sklearn-color-fitted-level-2);\n",
              "}\n",
              "\n",
              "/* Specification for estimator info (e.g. \"i\" and \"?\") */\n",
              "\n",
              "/* Common style for \"i\" and \"?\" */\n",
              "\n",
              ".sk-estimator-doc-link,\n",
              "a:link.sk-estimator-doc-link,\n",
              "a:visited.sk-estimator-doc-link {\n",
              "  float: right;\n",
              "  font-size: smaller;\n",
              "  line-height: 1em;\n",
              "  font-family: monospace;\n",
              "  background-color: var(--sklearn-color-background);\n",
              "  border-radius: 1em;\n",
              "  height: 1em;\n",
              "  width: 1em;\n",
              "  text-decoration: none !important;\n",
              "  margin-left: 0.5em;\n",
              "  text-align: center;\n",
              "  /* unfitted */\n",
              "  border: var(--sklearn-color-unfitted-level-1) 1pt solid;\n",
              "  color: var(--sklearn-color-unfitted-level-1);\n",
              "}\n",
              "\n",
              ".sk-estimator-doc-link.fitted,\n",
              "a:link.sk-estimator-doc-link.fitted,\n",
              "a:visited.sk-estimator-doc-link.fitted {\n",
              "  /* fitted */\n",
              "  border: var(--sklearn-color-fitted-level-1) 1pt solid;\n",
              "  color: var(--sklearn-color-fitted-level-1);\n",
              "}\n",
              "\n",
              "/* On hover */\n",
              "div.sk-estimator:hover .sk-estimator-doc-link:hover,\n",
              ".sk-estimator-doc-link:hover,\n",
              "div.sk-label-container:hover .sk-estimator-doc-link:hover,\n",
              ".sk-estimator-doc-link:hover {\n",
              "  /* unfitted */\n",
              "  background-color: var(--sklearn-color-unfitted-level-3);\n",
              "  color: var(--sklearn-color-background);\n",
              "  text-decoration: none;\n",
              "}\n",
              "\n",
              "div.sk-estimator.fitted:hover .sk-estimator-doc-link.fitted:hover,\n",
              ".sk-estimator-doc-link.fitted:hover,\n",
              "div.sk-label-container:hover .sk-estimator-doc-link.fitted:hover,\n",
              ".sk-estimator-doc-link.fitted:hover {\n",
              "  /* fitted */\n",
              "  background-color: var(--sklearn-color-fitted-level-3);\n",
              "  color: var(--sklearn-color-background);\n",
              "  text-decoration: none;\n",
              "}\n",
              "\n",
              "/* Span, style for the box shown on hovering the info icon */\n",
              ".sk-estimator-doc-link span {\n",
              "  display: none;\n",
              "  z-index: 9999;\n",
              "  position: relative;\n",
              "  font-weight: normal;\n",
              "  right: .2ex;\n",
              "  padding: .5ex;\n",
              "  margin: .5ex;\n",
              "  width: min-content;\n",
              "  min-width: 20ex;\n",
              "  max-width: 50ex;\n",
              "  color: var(--sklearn-color-text);\n",
              "  box-shadow: 2pt 2pt 4pt #999;\n",
              "  /* unfitted */\n",
              "  background: var(--sklearn-color-unfitted-level-0);\n",
              "  border: .5pt solid var(--sklearn-color-unfitted-level-3);\n",
              "}\n",
              "\n",
              ".sk-estimator-doc-link.fitted span {\n",
              "  /* fitted */\n",
              "  background: var(--sklearn-color-fitted-level-0);\n",
              "  border: var(--sklearn-color-fitted-level-3);\n",
              "}\n",
              "\n",
              ".sk-estimator-doc-link:hover span {\n",
              "  display: block;\n",
              "}\n",
              "\n",
              "/* \"?\"-specific style due to the `<a>` HTML tag */\n",
              "\n",
              "#sk-container-id-1 a.estimator_doc_link {\n",
              "  float: right;\n",
              "  font-size: 1rem;\n",
              "  line-height: 1em;\n",
              "  font-family: monospace;\n",
              "  background-color: var(--sklearn-color-background);\n",
              "  border-radius: 1rem;\n",
              "  height: 1rem;\n",
              "  width: 1rem;\n",
              "  text-decoration: none;\n",
              "  /* unfitted */\n",
              "  color: var(--sklearn-color-unfitted-level-1);\n",
              "  border: var(--sklearn-color-unfitted-level-1) 1pt solid;\n",
              "}\n",
              "\n",
              "#sk-container-id-1 a.estimator_doc_link.fitted {\n",
              "  /* fitted */\n",
              "  border: var(--sklearn-color-fitted-level-1) 1pt solid;\n",
              "  color: var(--sklearn-color-fitted-level-1);\n",
              "}\n",
              "\n",
              "/* On hover */\n",
              "#sk-container-id-1 a.estimator_doc_link:hover {\n",
              "  /* unfitted */\n",
              "  background-color: var(--sklearn-color-unfitted-level-3);\n",
              "  color: var(--sklearn-color-background);\n",
              "  text-decoration: none;\n",
              "}\n",
              "\n",
              "#sk-container-id-1 a.estimator_doc_link.fitted:hover {\n",
              "  /* fitted */\n",
              "  background-color: var(--sklearn-color-fitted-level-3);\n",
              "}\n",
              "</style><div id=\"sk-container-id-1\" class=\"sk-top-container\"><div class=\"sk-text-repr-fallback\"><pre>NearestNeighbors(algorithm=&#x27;brute&#x27;, metric=&#x27;cosine&#x27;, n_jobs=-1, n_neighbors=11)</pre><b>In a Jupyter environment, please rerun this cell to show the HTML representation or trust the notebook. <br />On GitHub, the HTML representation is unable to render, please try loading this page with nbviewer.org.</b></div><div class=\"sk-container\" hidden><div class=\"sk-item\"><div class=\"sk-estimator fitted sk-toggleable\"><input class=\"sk-toggleable__control sk-hidden--visually\" id=\"sk-estimator-id-1\" type=\"checkbox\" checked><label for=\"sk-estimator-id-1\" class=\"sk-toggleable__label fitted sk-toggleable__label-arrow\"><div><div>NearestNeighbors</div></div><div><a class=\"sk-estimator-doc-link fitted\" rel=\"noreferrer\" target=\"_blank\" href=\"https://scikit-learn.org/1.6/modules/generated/sklearn.neighbors.NearestNeighbors.html\">?<span>Documentation for NearestNeighbors</span></a><span class=\"sk-estimator-doc-link fitted\">i<span>Fitted</span></span></div></label><div class=\"sk-toggleable__content fitted\"><pre>NearestNeighbors(algorithm=&#x27;brute&#x27;, metric=&#x27;cosine&#x27;, n_jobs=-1, n_neighbors=11)</pre></div> </div></div></div></div>"
            ]
          },
          "metadata": {},
          "execution_count": 63
        }
      ],
      "execution_count": 63
    },
    {
      "cell_type": "markdown",
      "source": [
        "### Buat mapping dari judul ke index"
      ],
      "metadata": {
        "id": "k1vcLv75sFrV"
      }
    },
    {
      "cell_type": "code",
      "source": [
        "indices = pd.Series(books_cleaned.index, index=books_cleaned['Book-Title']).drop_duplicates()"
      ],
      "metadata": {
        "trusted": true,
        "execution": {
          "iopub.status.busy": "2025-05-29T02:36:38.163289Z",
          "iopub.execute_input": "2025-05-29T02:36:38.163541Z",
          "iopub.status.idle": "2025-05-29T02:36:38.177808Z",
          "shell.execute_reply.started": "2025-05-29T02:36:38.163518Z",
          "shell.execute_reply": "2025-05-29T02:36:38.176909Z"
        },
        "id": "tBCB7R11sFrV"
      },
      "outputs": [],
      "execution_count": 64
    },
    {
      "cell_type": "markdown",
      "source": [
        "### Fungsi Rekomendasi"
      ],
      "metadata": {
        "id": "Vw_2dx1AsFrV"
      }
    },
    {
      "cell_type": "markdown",
      "source": [
        "Menerima judul buku, mencari tetangganya di ruang vektor TF-IDF, lalu mengembalikan daftar buku yang paling mirip secara konten."
      ],
      "metadata": {
        "id": "6F1i1Kz3sFrV"
      }
    },
    {
      "cell_type": "code",
      "source": [
        "def recommend_books(title, model=nn_model, tfidf_matrix=tfidf_matrix, top_n=10):\n",
        "    if title not in indices:\n",
        "        return \"Judul buku tidak ditemukan.\"\n",
        "\n",
        "    idx = indices[title]\n",
        "\n",
        "    distances, neighbors = model.kneighbors(tfidf_matrix[idx], n_neighbors=top_n + 1)\n",
        "\n",
        "    book_indices = neighbors.flatten()[1:]\n",
        "    similarity_scores = 1 - distances.flatten()[1:]\n",
        "\n",
        "    recommended = books_cleaned[['Book-Title', 'Book-Author', 'Publisher']].iloc[book_indices].copy()\n",
        "    recommended['Similarity'] = similarity_scores.round(4)\n",
        "\n",
        "    return recommended.sort_values(by='Similarity', ascending=False).head(top_n).reset_index(drop=True)"
      ],
      "metadata": {
        "trusted": true,
        "execution": {
          "iopub.status.busy": "2025-05-29T02:36:38.178854Z",
          "iopub.execute_input": "2025-05-29T02:36:38.179117Z",
          "iopub.status.idle": "2025-05-29T02:36:38.185768Z",
          "shell.execute_reply.started": "2025-05-29T02:36:38.179092Z",
          "shell.execute_reply": "2025-05-29T02:36:38.185016Z"
        },
        "id": "Buw6kH6GsFrV"
      },
      "outputs": [],
      "execution_count": 65
    },
    {
      "cell_type": "markdown",
      "source": [
        "coba hasil rekomendasi"
      ],
      "metadata": {
        "id": "gIx3eGHvsFrV"
      }
    },
    {
      "cell_type": "code",
      "source": [
        "recommend_books(\"Little Women (Children's Classics)\")"
      ],
      "metadata": {
        "trusted": true,
        "execution": {
          "iopub.status.busy": "2025-05-29T02:36:38.186355Z",
          "iopub.execute_input": "2025-05-29T02:36:38.186625Z",
          "iopub.status.idle": "2025-05-29T02:36:38.352935Z",
          "shell.execute_reply.started": "2025-05-29T02:36:38.186600Z",
          "shell.execute_reply": "2025-05-29T02:36:38.352203Z"
        },
        "colab": {
          "base_uri": "https://localhost:8080/",
          "height": 363
        },
        "id": "gy7jxt7OsFrV",
        "outputId": "a97dbdf3-db0f-4322-eb99-2a9874118141"
      },
      "outputs": [
        {
          "output_type": "execute_result",
          "data": {
            "text/plain": [
              "                                          Book-Title  \\\n",
              "0  Alcoholics Anonymous Comes of Age: A Brief His...   \n",
              "1  Alcoholics Anonymous: The Story of How Many Th...   \n",
              "2                        Alcoholics Anonymous (2130)   \n",
              "3  Alcoholics Anonymous: The Story of How Many Th...   \n",
              "4  Alcoholics Anonymous: The Story of How Many Th...   \n",
              "5                 Twelve Steps and Twelve Traditions   \n",
              "6  Reference Guide to the Big Book of Alcoholics ...   \n",
              "7  A Simple Program : A Contemporary Translation ...   \n",
              "8        Getting Better: Inside Alcoholics Anonymous   \n",
              "9        Getting Better: Inside Alcoholics Anonymous   \n",
              "\n",
              "                          Book-Author  \\\n",
              "0  Alcoholics Anonymous World Service   \n",
              "1                Alcoholics Anonymous   \n",
              "2  Alcoholics Anonymous World Service   \n",
              "3                             Bill W.   \n",
              "4                Not Applicable (Na )   \n",
              "5                Alcoholics Anonymous   \n",
              "6                          C. Stewart   \n",
              "7                           J\\ \\\"j\\\"\"   \n",
              "8                       Nan Robertson   \n",
              "9                       Nan Robertson   \n",
              "\n",
              "                                        Publisher  Similarity  \n",
              "0             Alcoholics Anonymous World Services      0.7793  \n",
              "1             Alcoholics Anonymous World Services      0.7450  \n",
              "2                                        Hazelden      0.6860  \n",
              "3             Alcoholics Anonymous World Services      0.6750  \n",
              "4             Alcoholics Anonymous World Services      0.6448  \n",
              "5  Hazelden Publishing &amp; Educational Services      0.5470  \n",
              "6                                        Hazelden      0.5200  \n",
              "7                                        Hyperion      0.4999  \n",
              "8                                   Harpercollins      0.4810  \n",
              "9                                   Fawcett Books      0.4736  "
            ],
            "text/html": [
              "\n",
              "  <div id=\"df-ec98d906-1c42-434c-843f-aa3040c29f2c\" class=\"colab-df-container\">\n",
              "    <div>\n",
              "<style scoped>\n",
              "    .dataframe tbody tr th:only-of-type {\n",
              "        vertical-align: middle;\n",
              "    }\n",
              "\n",
              "    .dataframe tbody tr th {\n",
              "        vertical-align: top;\n",
              "    }\n",
              "\n",
              "    .dataframe thead th {\n",
              "        text-align: right;\n",
              "    }\n",
              "</style>\n",
              "<table border=\"1\" class=\"dataframe\">\n",
              "  <thead>\n",
              "    <tr style=\"text-align: right;\">\n",
              "      <th></th>\n",
              "      <th>Book-Title</th>\n",
              "      <th>Book-Author</th>\n",
              "      <th>Publisher</th>\n",
              "      <th>Similarity</th>\n",
              "    </tr>\n",
              "  </thead>\n",
              "  <tbody>\n",
              "    <tr>\n",
              "      <th>0</th>\n",
              "      <td>Alcoholics Anonymous Comes of Age: A Brief His...</td>\n",
              "      <td>Alcoholics Anonymous World Service</td>\n",
              "      <td>Alcoholics Anonymous World Services</td>\n",
              "      <td>0.7793</td>\n",
              "    </tr>\n",
              "    <tr>\n",
              "      <th>1</th>\n",
              "      <td>Alcoholics Anonymous: The Story of How Many Th...</td>\n",
              "      <td>Alcoholics Anonymous</td>\n",
              "      <td>Alcoholics Anonymous World Services</td>\n",
              "      <td>0.7450</td>\n",
              "    </tr>\n",
              "    <tr>\n",
              "      <th>2</th>\n",
              "      <td>Alcoholics Anonymous (2130)</td>\n",
              "      <td>Alcoholics Anonymous World Service</td>\n",
              "      <td>Hazelden</td>\n",
              "      <td>0.6860</td>\n",
              "    </tr>\n",
              "    <tr>\n",
              "      <th>3</th>\n",
              "      <td>Alcoholics Anonymous: The Story of How Many Th...</td>\n",
              "      <td>Bill W.</td>\n",
              "      <td>Alcoholics Anonymous World Services</td>\n",
              "      <td>0.6750</td>\n",
              "    </tr>\n",
              "    <tr>\n",
              "      <th>4</th>\n",
              "      <td>Alcoholics Anonymous: The Story of How Many Th...</td>\n",
              "      <td>Not Applicable (Na )</td>\n",
              "      <td>Alcoholics Anonymous World Services</td>\n",
              "      <td>0.6448</td>\n",
              "    </tr>\n",
              "    <tr>\n",
              "      <th>5</th>\n",
              "      <td>Twelve Steps and Twelve Traditions</td>\n",
              "      <td>Alcoholics Anonymous</td>\n",
              "      <td>Hazelden Publishing &amp;amp; Educational Services</td>\n",
              "      <td>0.5470</td>\n",
              "    </tr>\n",
              "    <tr>\n",
              "      <th>6</th>\n",
              "      <td>Reference Guide to the Big Book of Alcoholics ...</td>\n",
              "      <td>C. Stewart</td>\n",
              "      <td>Hazelden</td>\n",
              "      <td>0.5200</td>\n",
              "    </tr>\n",
              "    <tr>\n",
              "      <th>7</th>\n",
              "      <td>A Simple Program : A Contemporary Translation ...</td>\n",
              "      <td>J\\ \\\"j\\\"\"</td>\n",
              "      <td>Hyperion</td>\n",
              "      <td>0.4999</td>\n",
              "    </tr>\n",
              "    <tr>\n",
              "      <th>8</th>\n",
              "      <td>Getting Better: Inside Alcoholics Anonymous</td>\n",
              "      <td>Nan Robertson</td>\n",
              "      <td>Harpercollins</td>\n",
              "      <td>0.4810</td>\n",
              "    </tr>\n",
              "    <tr>\n",
              "      <th>9</th>\n",
              "      <td>Getting Better: Inside Alcoholics Anonymous</td>\n",
              "      <td>Nan Robertson</td>\n",
              "      <td>Fawcett Books</td>\n",
              "      <td>0.4736</td>\n",
              "    </tr>\n",
              "  </tbody>\n",
              "</table>\n",
              "</div>\n",
              "    <div class=\"colab-df-buttons\">\n",
              "\n",
              "  <div class=\"colab-df-container\">\n",
              "    <button class=\"colab-df-convert\" onclick=\"convertToInteractive('df-ec98d906-1c42-434c-843f-aa3040c29f2c')\"\n",
              "            title=\"Convert this dataframe to an interactive table.\"\n",
              "            style=\"display:none;\">\n",
              "\n",
              "  <svg xmlns=\"http://www.w3.org/2000/svg\" height=\"24px\" viewBox=\"0 -960 960 960\">\n",
              "    <path d=\"M120-120v-720h720v720H120Zm60-500h600v-160H180v160Zm220 220h160v-160H400v160Zm0 220h160v-160H400v160ZM180-400h160v-160H180v160Zm440 0h160v-160H620v160ZM180-180h160v-160H180v160Zm440 0h160v-160H620v160Z\"/>\n",
              "  </svg>\n",
              "    </button>\n",
              "\n",
              "  <style>\n",
              "    .colab-df-container {\n",
              "      display:flex;\n",
              "      gap: 12px;\n",
              "    }\n",
              "\n",
              "    .colab-df-convert {\n",
              "      background-color: #E8F0FE;\n",
              "      border: none;\n",
              "      border-radius: 50%;\n",
              "      cursor: pointer;\n",
              "      display: none;\n",
              "      fill: #1967D2;\n",
              "      height: 32px;\n",
              "      padding: 0 0 0 0;\n",
              "      width: 32px;\n",
              "    }\n",
              "\n",
              "    .colab-df-convert:hover {\n",
              "      background-color: #E2EBFA;\n",
              "      box-shadow: 0px 1px 2px rgba(60, 64, 67, 0.3), 0px 1px 3px 1px rgba(60, 64, 67, 0.15);\n",
              "      fill: #174EA6;\n",
              "    }\n",
              "\n",
              "    .colab-df-buttons div {\n",
              "      margin-bottom: 4px;\n",
              "    }\n",
              "\n",
              "    [theme=dark] .colab-df-convert {\n",
              "      background-color: #3B4455;\n",
              "      fill: #D2E3FC;\n",
              "    }\n",
              "\n",
              "    [theme=dark] .colab-df-convert:hover {\n",
              "      background-color: #434B5C;\n",
              "      box-shadow: 0px 1px 3px 1px rgba(0, 0, 0, 0.15);\n",
              "      filter: drop-shadow(0px 1px 2px rgba(0, 0, 0, 0.3));\n",
              "      fill: #FFFFFF;\n",
              "    }\n",
              "  </style>\n",
              "\n",
              "    <script>\n",
              "      const buttonEl =\n",
              "        document.querySelector('#df-ec98d906-1c42-434c-843f-aa3040c29f2c button.colab-df-convert');\n",
              "      buttonEl.style.display =\n",
              "        google.colab.kernel.accessAllowed ? 'block' : 'none';\n",
              "\n",
              "      async function convertToInteractive(key) {\n",
              "        const element = document.querySelector('#df-ec98d906-1c42-434c-843f-aa3040c29f2c');\n",
              "        const dataTable =\n",
              "          await google.colab.kernel.invokeFunction('convertToInteractive',\n",
              "                                                    [key], {});\n",
              "        if (!dataTable) return;\n",
              "\n",
              "        const docLinkHtml = 'Like what you see? Visit the ' +\n",
              "          '<a target=\"_blank\" href=https://colab.research.google.com/notebooks/data_table.ipynb>data table notebook</a>'\n",
              "          + ' to learn more about interactive tables.';\n",
              "        element.innerHTML = '';\n",
              "        dataTable['output_type'] = 'display_data';\n",
              "        await google.colab.output.renderOutput(dataTable, element);\n",
              "        const docLink = document.createElement('div');\n",
              "        docLink.innerHTML = docLinkHtml;\n",
              "        element.appendChild(docLink);\n",
              "      }\n",
              "    </script>\n",
              "  </div>\n",
              "\n",
              "\n",
              "    <div id=\"df-bcaf0c10-4f6c-40ef-9a8e-9a629df7c3cb\">\n",
              "      <button class=\"colab-df-quickchart\" onclick=\"quickchart('df-bcaf0c10-4f6c-40ef-9a8e-9a629df7c3cb')\"\n",
              "                title=\"Suggest charts\"\n",
              "                style=\"display:none;\">\n",
              "\n",
              "<svg xmlns=\"http://www.w3.org/2000/svg\" height=\"24px\"viewBox=\"0 0 24 24\"\n",
              "     width=\"24px\">\n",
              "    <g>\n",
              "        <path d=\"M19 3H5c-1.1 0-2 .9-2 2v14c0 1.1.9 2 2 2h14c1.1 0 2-.9 2-2V5c0-1.1-.9-2-2-2zM9 17H7v-7h2v7zm4 0h-2V7h2v10zm4 0h-2v-4h2v4z\"/>\n",
              "    </g>\n",
              "</svg>\n",
              "      </button>\n",
              "\n",
              "<style>\n",
              "  .colab-df-quickchart {\n",
              "      --bg-color: #E8F0FE;\n",
              "      --fill-color: #1967D2;\n",
              "      --hover-bg-color: #E2EBFA;\n",
              "      --hover-fill-color: #174EA6;\n",
              "      --disabled-fill-color: #AAA;\n",
              "      --disabled-bg-color: #DDD;\n",
              "  }\n",
              "\n",
              "  [theme=dark] .colab-df-quickchart {\n",
              "      --bg-color: #3B4455;\n",
              "      --fill-color: #D2E3FC;\n",
              "      --hover-bg-color: #434B5C;\n",
              "      --hover-fill-color: #FFFFFF;\n",
              "      --disabled-bg-color: #3B4455;\n",
              "      --disabled-fill-color: #666;\n",
              "  }\n",
              "\n",
              "  .colab-df-quickchart {\n",
              "    background-color: var(--bg-color);\n",
              "    border: none;\n",
              "    border-radius: 50%;\n",
              "    cursor: pointer;\n",
              "    display: none;\n",
              "    fill: var(--fill-color);\n",
              "    height: 32px;\n",
              "    padding: 0;\n",
              "    width: 32px;\n",
              "  }\n",
              "\n",
              "  .colab-df-quickchart:hover {\n",
              "    background-color: var(--hover-bg-color);\n",
              "    box-shadow: 0 1px 2px rgba(60, 64, 67, 0.3), 0 1px 3px 1px rgba(60, 64, 67, 0.15);\n",
              "    fill: var(--button-hover-fill-color);\n",
              "  }\n",
              "\n",
              "  .colab-df-quickchart-complete:disabled,\n",
              "  .colab-df-quickchart-complete:disabled:hover {\n",
              "    background-color: var(--disabled-bg-color);\n",
              "    fill: var(--disabled-fill-color);\n",
              "    box-shadow: none;\n",
              "  }\n",
              "\n",
              "  .colab-df-spinner {\n",
              "    border: 2px solid var(--fill-color);\n",
              "    border-color: transparent;\n",
              "    border-bottom-color: var(--fill-color);\n",
              "    animation:\n",
              "      spin 1s steps(1) infinite;\n",
              "  }\n",
              "\n",
              "  @keyframes spin {\n",
              "    0% {\n",
              "      border-color: transparent;\n",
              "      border-bottom-color: var(--fill-color);\n",
              "      border-left-color: var(--fill-color);\n",
              "    }\n",
              "    20% {\n",
              "      border-color: transparent;\n",
              "      border-left-color: var(--fill-color);\n",
              "      border-top-color: var(--fill-color);\n",
              "    }\n",
              "    30% {\n",
              "      border-color: transparent;\n",
              "      border-left-color: var(--fill-color);\n",
              "      border-top-color: var(--fill-color);\n",
              "      border-right-color: var(--fill-color);\n",
              "    }\n",
              "    40% {\n",
              "      border-color: transparent;\n",
              "      border-right-color: var(--fill-color);\n",
              "      border-top-color: var(--fill-color);\n",
              "    }\n",
              "    60% {\n",
              "      border-color: transparent;\n",
              "      border-right-color: var(--fill-color);\n",
              "    }\n",
              "    80% {\n",
              "      border-color: transparent;\n",
              "      border-right-color: var(--fill-color);\n",
              "      border-bottom-color: var(--fill-color);\n",
              "    }\n",
              "    90% {\n",
              "      border-color: transparent;\n",
              "      border-bottom-color: var(--fill-color);\n",
              "    }\n",
              "  }\n",
              "</style>\n",
              "\n",
              "      <script>\n",
              "        async function quickchart(key) {\n",
              "          const quickchartButtonEl =\n",
              "            document.querySelector('#' + key + ' button');\n",
              "          quickchartButtonEl.disabled = true;  // To prevent multiple clicks.\n",
              "          quickchartButtonEl.classList.add('colab-df-spinner');\n",
              "          try {\n",
              "            const charts = await google.colab.kernel.invokeFunction(\n",
              "                'suggestCharts', [key], {});\n",
              "          } catch (error) {\n",
              "            console.error('Error during call to suggestCharts:', error);\n",
              "          }\n",
              "          quickchartButtonEl.classList.remove('colab-df-spinner');\n",
              "          quickchartButtonEl.classList.add('colab-df-quickchart-complete');\n",
              "        }\n",
              "        (() => {\n",
              "          let quickchartButtonEl =\n",
              "            document.querySelector('#df-bcaf0c10-4f6c-40ef-9a8e-9a629df7c3cb button');\n",
              "          quickchartButtonEl.style.display =\n",
              "            google.colab.kernel.accessAllowed ? 'block' : 'none';\n",
              "        })();\n",
              "      </script>\n",
              "    </div>\n",
              "\n",
              "    </div>\n",
              "  </div>\n"
            ],
            "application/vnd.google.colaboratory.intrinsic+json": {
              "type": "dataframe",
              "summary": "{\n  \"name\": \"recommend_books(\\\"Little Women (Children's Classics)\\\")\",\n  \"rows\": 10,\n  \"fields\": [\n    {\n      \"column\": \"Book-Title\",\n      \"properties\": {\n        \"dtype\": \"string\",\n        \"num_unique_values\": 8,\n        \"samples\": [\n          \"Alcoholics Anonymous: The Story of How Many Thousands of Men and Women Have Recovered from Alcoholism\",\n          \"Reference Guide to the Big Book of Alcoholics Anonymous\",\n          \"Alcoholics Anonymous Comes of Age: A Brief History of A. A.\"\n        ],\n        \"semantic_type\": \"\",\n        \"description\": \"\"\n      }\n    },\n    {\n      \"column\": \"Book-Author\",\n      \"properties\": {\n        \"dtype\": \"string\",\n        \"num_unique_values\": 7,\n        \"samples\": [\n          \"Alcoholics Anonymous World Service\",\n          \"Alcoholics Anonymous\",\n          \"J\\\\ \\\\\\\"j\\\\\\\"\\\"\"\n        ],\n        \"semantic_type\": \"\",\n        \"description\": \"\"\n      }\n    },\n    {\n      \"column\": \"Publisher\",\n      \"properties\": {\n        \"dtype\": \"string\",\n        \"num_unique_values\": 6,\n        \"samples\": [\n          \"Alcoholics Anonymous World Services\",\n          \"Hazelden\",\n          \"Fawcett Books\"\n        ],\n        \"semantic_type\": \"\",\n        \"description\": \"\"\n      }\n    },\n    {\n      \"column\": \"Similarity\",\n      \"properties\": {\n        \"dtype\": \"number\",\n        \"std\": 0.114164717258296,\n        \"min\": 0.4736,\n        \"max\": 0.7793,\n        \"num_unique_values\": 10,\n        \"samples\": [\n          0.481,\n          0.745,\n          0.547\n        ],\n        \"semantic_type\": \"\",\n        \"description\": \"\"\n      }\n    }\n  ]\n}"
            }
          },
          "metadata": {},
          "execution_count": 66
        }
      ],
      "execution_count": 66
    },
    {
      "cell_type": "markdown",
      "source": [
        "## Evaluasi Model CBF"
      ],
      "metadata": {
        "id": "wNjgwpuP647o"
      }
    },
    {
      "cell_type": "code",
      "source": [
        "from sklearn.metrics import precision_score, recall_score\n",
        "\n",
        "def evaluate_model(user_history, recommended_books, k=10):\n",
        "    recommended_titles = recommended_books['Book-Title'].head(k).tolist()\n",
        "    relevant_titles = user_history\n",
        "\n",
        "    hits = sum([1 for book in recommended_titles if book in relevant_titles])\n",
        "\n",
        "    precision = hits / k\n",
        "    recall = hits / len(relevant_titles) if relevant_titles else 0\n",
        "    f1 = 2 * (precision * recall) / (precision + recall + 1e-10)\n",
        "\n",
        "    return {\n",
        "        \"Precision@{}\".format(k): round(precision, 4),\n",
        "        \"Recall@{}\".format(k): round(recall, 4),\n",
        "        \"F1@{}\".format(k): round(f1, 4)\n",
        "    }\n"
      ],
      "metadata": {
        "id": "1N9c4wKN68ho"
      },
      "execution_count": 67,
      "outputs": []
    },
    {
      "cell_type": "code",
      "source": [
        "user_history = ['Twelve Steps and Twelve Traditions', 'Getting Better: Inside Alcoholics Anonymous', 'Getting Better: Inside Alcoholics Anonymous', '\tTwelve Steps and Twelve Traditions']\n",
        "recommended = recommend_books(\"Little Women (Children's Classics)\")\n",
        "evaluate_model(user_history, recommended, k=10)\n"
      ],
      "metadata": {
        "colab": {
          "base_uri": "https://localhost:8080/"
        },
        "id": "TAjFF-sP7UJr",
        "outputId": "d36acab1-d1d7-42b8-d4d2-f271ff3721bf"
      },
      "execution_count": 68,
      "outputs": [
        {
          "output_type": "execute_result",
          "data": {
            "text/plain": [
              "{'Precision@10': 0.3, 'Recall@10': 0.75, 'F1@10': 0.4286}"
            ]
          },
          "metadata": {},
          "execution_count": 68
        }
      ]
    },
    {
      "cell_type": "markdown",
      "source": [
        "Model Content-Based Filtering yang dikembangkan menggunakan fitur deskriptif buku (judul, penulis, dan penerbit) serta representasi vektor TF-IDF berhasil merekomendasikan buku-buku yang mirip secara konten.\n",
        "\n",
        "Hasil evaluasi dengan metrik Precision\\@10, Recall\\@10, dan F1\\@10 terhadap `user_history` menunjukkan:\n",
        "\n",
        "* Precision\\@10 = 0.3\n",
        "  → Dari 10 buku yang direkomendasikan, 30% (3 buku) sesuai dengan preferensi pengguna.\n",
        "\n",
        "* Recall\\@10 = 0.75\n",
        "  → Dari seluruh buku relevan milik pengguna (4 buku dalam user history), model berhasil merekomendasikan 75% di antaranya.\n",
        "\n",
        "* F1\\@10 = 0.4286\n",
        "  → Merupakan nilai harmonik dari precision dan recall, mencerminkan keseimbangan antara ketepatan dan kelengkapan rekomendasi.\n",
        "\n",
        "Kelebihan:\n",
        "\n",
        "  * Model cukup baik dalam menangkap konten yang mirip dengan buku yang pernah dibaca pengguna.\n",
        "  * Recall yang tinggi menunjukkan kemampuan model dalam menemukan banyak buku relevan.\n",
        "\n",
        "Kekurangan:\n",
        "\n",
        "  * Precision masih bisa ditingkatkanmasih ada buku yang direkomendasikan namun kurang sesuai dengan minat pengguna.\n",
        "  * Karena hanya menggunakan konten buku, model tidak mempertimbangkan preferensi kolektif pengguna lain, sehingga cenderung terbatas pada kemiripan teks saja."
      ],
      "metadata": {
        "id": "5GgmJx0a8QkI"
      }
    },
    {
      "cell_type": "markdown",
      "source": [
        "Pendekatan TF-IDF + Nearest Neighbors untuk CBF sangat berguna ketika kita tidak memiliki data interaksi pengguna yang cukup atau ingin membangun sistem rekomendasi awal."
      ],
      "metadata": {
        "id": "QJzeMH0wsFrW"
      }
    },
    {
      "cell_type": "markdown",
      "source": [
        "# Model Development dengan Collaborative Filtering"
      ],
      "metadata": {
        "id": "7Y_yNclFoBnE"
      }
    },
    {
      "cell_type": "markdown",
      "source": [
        "Pada pendekatan Collaborative Filtering, mengembangkan sebuah model berbasis neural network. Model ini memanfaatkan teknik embedding untuk merepresentasikan pengguna dan item ke dalam ruang vektor berdimensi rendah."
      ],
      "metadata": {
        "id": "kPJMA9YuG6XS"
      }
    },
    {
      "cell_type": "markdown",
      "source": [
        "## Import library"
      ],
      "metadata": {
        "id": "JXYkXP5vsFrW"
      }
    },
    {
      "cell_type": "code",
      "source": [
        "import pandas as pd\n",
        "import numpy as np\n",
        "from zipfile import ZipFile\n",
        "import tensorflow as tf\n",
        "from tensorflow import keras\n",
        "from tensorflow.keras import layers\n",
        "from pathlib import Path\n",
        "import matplotlib.pyplot as plt"
      ],
      "metadata": {
        "trusted": true,
        "execution": {
          "iopub.status.busy": "2025-05-29T02:38:04.042888Z",
          "iopub.execute_input": "2025-05-29T02:38:04.043402Z",
          "iopub.status.idle": "2025-05-29T02:38:26.230287Z",
          "shell.execute_reply.started": "2025-05-29T02:38:04.043381Z",
          "shell.execute_reply": "2025-05-29T02:38:26.229419Z"
        },
        "id": "cjYUfl15sFrW"
      },
      "outputs": [],
      "execution_count": 69
    },
    {
      "cell_type": "markdown",
      "source": [
        "## Data Preparation"
      ],
      "metadata": {
        "id": "PLlvsjxJsFrW"
      }
    },
    {
      "cell_type": "code",
      "source": [
        "ratings_subset = ratings_full[['User-ID', 'ISBN', 'Book-Rating']].copy()"
      ],
      "metadata": {
        "trusted": true,
        "execution": {
          "iopub.status.busy": "2025-05-29T02:36:38.353664Z",
          "iopub.execute_input": "2025-05-29T02:36:38.353939Z",
          "iopub.status.idle": "2025-05-29T02:36:38.389760Z",
          "shell.execute_reply.started": "2025-05-29T02:36:38.353921Z",
          "shell.execute_reply": "2025-05-29T02:36:38.389216Z"
        },
        "id": "cdzm6ZENsFrW"
      },
      "outputs": [],
      "execution_count": 70
    },
    {
      "cell_type": "code",
      "source": [
        "ratings_subset"
      ],
      "metadata": {
        "trusted": true,
        "execution": {
          "iopub.status.busy": "2025-05-29T02:36:38.390489Z",
          "iopub.execute_input": "2025-05-29T02:36:38.390734Z",
          "iopub.status.idle": "2025-05-29T02:36:38.398718Z",
          "shell.execute_reply.started": "2025-05-29T02:36:38.390718Z",
          "shell.execute_reply": "2025-05-29T02:36:38.398107Z"
        },
        "colab": {
          "base_uri": "https://localhost:8080/",
          "height": 424
        },
        "id": "z1ZKdYavsFrW",
        "outputId": "c75f7826-7b74-44e9-da2b-298a992ac7c9"
      },
      "outputs": [
        {
          "output_type": "execute_result",
          "data": {
            "text/plain": [
              "         User-ID        ISBN  Book-Rating\n",
              "0         276725  034545104X            0\n",
              "1         276726  0155061224            5\n",
              "2         276727  0446520802            0\n",
              "3         276729  052165615X            3\n",
              "4         276729  0521795028            6\n",
              "...          ...         ...          ...\n",
              "1017066   276704  0876044011            0\n",
              "1017067   276704  1563526298            9\n",
              "1017068   276706  0679447156            0\n",
              "1017069   276709  0515107662           10\n",
              "1017070   276721  0590442449           10\n",
              "\n",
              "[1017071 rows x 3 columns]"
            ],
            "text/html": [
              "\n",
              "  <div id=\"df-4ffe2fce-cc64-4355-9dc5-46935ff67839\" class=\"colab-df-container\">\n",
              "    <div>\n",
              "<style scoped>\n",
              "    .dataframe tbody tr th:only-of-type {\n",
              "        vertical-align: middle;\n",
              "    }\n",
              "\n",
              "    .dataframe tbody tr th {\n",
              "        vertical-align: top;\n",
              "    }\n",
              "\n",
              "    .dataframe thead th {\n",
              "        text-align: right;\n",
              "    }\n",
              "</style>\n",
              "<table border=\"1\" class=\"dataframe\">\n",
              "  <thead>\n",
              "    <tr style=\"text-align: right;\">\n",
              "      <th></th>\n",
              "      <th>User-ID</th>\n",
              "      <th>ISBN</th>\n",
              "      <th>Book-Rating</th>\n",
              "    </tr>\n",
              "  </thead>\n",
              "  <tbody>\n",
              "    <tr>\n",
              "      <th>0</th>\n",
              "      <td>276725</td>\n",
              "      <td>034545104X</td>\n",
              "      <td>0</td>\n",
              "    </tr>\n",
              "    <tr>\n",
              "      <th>1</th>\n",
              "      <td>276726</td>\n",
              "      <td>0155061224</td>\n",
              "      <td>5</td>\n",
              "    </tr>\n",
              "    <tr>\n",
              "      <th>2</th>\n",
              "      <td>276727</td>\n",
              "      <td>0446520802</td>\n",
              "      <td>0</td>\n",
              "    </tr>\n",
              "    <tr>\n",
              "      <th>3</th>\n",
              "      <td>276729</td>\n",
              "      <td>052165615X</td>\n",
              "      <td>3</td>\n",
              "    </tr>\n",
              "    <tr>\n",
              "      <th>4</th>\n",
              "      <td>276729</td>\n",
              "      <td>0521795028</td>\n",
              "      <td>6</td>\n",
              "    </tr>\n",
              "    <tr>\n",
              "      <th>...</th>\n",
              "      <td>...</td>\n",
              "      <td>...</td>\n",
              "      <td>...</td>\n",
              "    </tr>\n",
              "    <tr>\n",
              "      <th>1017066</th>\n",
              "      <td>276704</td>\n",
              "      <td>0876044011</td>\n",
              "      <td>0</td>\n",
              "    </tr>\n",
              "    <tr>\n",
              "      <th>1017067</th>\n",
              "      <td>276704</td>\n",
              "      <td>1563526298</td>\n",
              "      <td>9</td>\n",
              "    </tr>\n",
              "    <tr>\n",
              "      <th>1017068</th>\n",
              "      <td>276706</td>\n",
              "      <td>0679447156</td>\n",
              "      <td>0</td>\n",
              "    </tr>\n",
              "    <tr>\n",
              "      <th>1017069</th>\n",
              "      <td>276709</td>\n",
              "      <td>0515107662</td>\n",
              "      <td>10</td>\n",
              "    </tr>\n",
              "    <tr>\n",
              "      <th>1017070</th>\n",
              "      <td>276721</td>\n",
              "      <td>0590442449</td>\n",
              "      <td>10</td>\n",
              "    </tr>\n",
              "  </tbody>\n",
              "</table>\n",
              "<p>1017071 rows × 3 columns</p>\n",
              "</div>\n",
              "    <div class=\"colab-df-buttons\">\n",
              "\n",
              "  <div class=\"colab-df-container\">\n",
              "    <button class=\"colab-df-convert\" onclick=\"convertToInteractive('df-4ffe2fce-cc64-4355-9dc5-46935ff67839')\"\n",
              "            title=\"Convert this dataframe to an interactive table.\"\n",
              "            style=\"display:none;\">\n",
              "\n",
              "  <svg xmlns=\"http://www.w3.org/2000/svg\" height=\"24px\" viewBox=\"0 -960 960 960\">\n",
              "    <path d=\"M120-120v-720h720v720H120Zm60-500h600v-160H180v160Zm220 220h160v-160H400v160Zm0 220h160v-160H400v160ZM180-400h160v-160H180v160Zm440 0h160v-160H620v160ZM180-180h160v-160H180v160Zm440 0h160v-160H620v160Z\"/>\n",
              "  </svg>\n",
              "    </button>\n",
              "\n",
              "  <style>\n",
              "    .colab-df-container {\n",
              "      display:flex;\n",
              "      gap: 12px;\n",
              "    }\n",
              "\n",
              "    .colab-df-convert {\n",
              "      background-color: #E8F0FE;\n",
              "      border: none;\n",
              "      border-radius: 50%;\n",
              "      cursor: pointer;\n",
              "      display: none;\n",
              "      fill: #1967D2;\n",
              "      height: 32px;\n",
              "      padding: 0 0 0 0;\n",
              "      width: 32px;\n",
              "    }\n",
              "\n",
              "    .colab-df-convert:hover {\n",
              "      background-color: #E2EBFA;\n",
              "      box-shadow: 0px 1px 2px rgba(60, 64, 67, 0.3), 0px 1px 3px 1px rgba(60, 64, 67, 0.15);\n",
              "      fill: #174EA6;\n",
              "    }\n",
              "\n",
              "    .colab-df-buttons div {\n",
              "      margin-bottom: 4px;\n",
              "    }\n",
              "\n",
              "    [theme=dark] .colab-df-convert {\n",
              "      background-color: #3B4455;\n",
              "      fill: #D2E3FC;\n",
              "    }\n",
              "\n",
              "    [theme=dark] .colab-df-convert:hover {\n",
              "      background-color: #434B5C;\n",
              "      box-shadow: 0px 1px 3px 1px rgba(0, 0, 0, 0.15);\n",
              "      filter: drop-shadow(0px 1px 2px rgba(0, 0, 0, 0.3));\n",
              "      fill: #FFFFFF;\n",
              "    }\n",
              "  </style>\n",
              "\n",
              "    <script>\n",
              "      const buttonEl =\n",
              "        document.querySelector('#df-4ffe2fce-cc64-4355-9dc5-46935ff67839 button.colab-df-convert');\n",
              "      buttonEl.style.display =\n",
              "        google.colab.kernel.accessAllowed ? 'block' : 'none';\n",
              "\n",
              "      async function convertToInteractive(key) {\n",
              "        const element = document.querySelector('#df-4ffe2fce-cc64-4355-9dc5-46935ff67839');\n",
              "        const dataTable =\n",
              "          await google.colab.kernel.invokeFunction('convertToInteractive',\n",
              "                                                    [key], {});\n",
              "        if (!dataTable) return;\n",
              "\n",
              "        const docLinkHtml = 'Like what you see? Visit the ' +\n",
              "          '<a target=\"_blank\" href=https://colab.research.google.com/notebooks/data_table.ipynb>data table notebook</a>'\n",
              "          + ' to learn more about interactive tables.';\n",
              "        element.innerHTML = '';\n",
              "        dataTable['output_type'] = 'display_data';\n",
              "        await google.colab.output.renderOutput(dataTable, element);\n",
              "        const docLink = document.createElement('div');\n",
              "        docLink.innerHTML = docLinkHtml;\n",
              "        element.appendChild(docLink);\n",
              "      }\n",
              "    </script>\n",
              "  </div>\n",
              "\n",
              "\n",
              "    <div id=\"df-57bd80ef-3fc8-4324-b014-5ecdcfa753a0\">\n",
              "      <button class=\"colab-df-quickchart\" onclick=\"quickchart('df-57bd80ef-3fc8-4324-b014-5ecdcfa753a0')\"\n",
              "                title=\"Suggest charts\"\n",
              "                style=\"display:none;\">\n",
              "\n",
              "<svg xmlns=\"http://www.w3.org/2000/svg\" height=\"24px\"viewBox=\"0 0 24 24\"\n",
              "     width=\"24px\">\n",
              "    <g>\n",
              "        <path d=\"M19 3H5c-1.1 0-2 .9-2 2v14c0 1.1.9 2 2 2h14c1.1 0 2-.9 2-2V5c0-1.1-.9-2-2-2zM9 17H7v-7h2v7zm4 0h-2V7h2v10zm4 0h-2v-4h2v4z\"/>\n",
              "    </g>\n",
              "</svg>\n",
              "      </button>\n",
              "\n",
              "<style>\n",
              "  .colab-df-quickchart {\n",
              "      --bg-color: #E8F0FE;\n",
              "      --fill-color: #1967D2;\n",
              "      --hover-bg-color: #E2EBFA;\n",
              "      --hover-fill-color: #174EA6;\n",
              "      --disabled-fill-color: #AAA;\n",
              "      --disabled-bg-color: #DDD;\n",
              "  }\n",
              "\n",
              "  [theme=dark] .colab-df-quickchart {\n",
              "      --bg-color: #3B4455;\n",
              "      --fill-color: #D2E3FC;\n",
              "      --hover-bg-color: #434B5C;\n",
              "      --hover-fill-color: #FFFFFF;\n",
              "      --disabled-bg-color: #3B4455;\n",
              "      --disabled-fill-color: #666;\n",
              "  }\n",
              "\n",
              "  .colab-df-quickchart {\n",
              "    background-color: var(--bg-color);\n",
              "    border: none;\n",
              "    border-radius: 50%;\n",
              "    cursor: pointer;\n",
              "    display: none;\n",
              "    fill: var(--fill-color);\n",
              "    height: 32px;\n",
              "    padding: 0;\n",
              "    width: 32px;\n",
              "  }\n",
              "\n",
              "  .colab-df-quickchart:hover {\n",
              "    background-color: var(--hover-bg-color);\n",
              "    box-shadow: 0 1px 2px rgba(60, 64, 67, 0.3), 0 1px 3px 1px rgba(60, 64, 67, 0.15);\n",
              "    fill: var(--button-hover-fill-color);\n",
              "  }\n",
              "\n",
              "  .colab-df-quickchart-complete:disabled,\n",
              "  .colab-df-quickchart-complete:disabled:hover {\n",
              "    background-color: var(--disabled-bg-color);\n",
              "    fill: var(--disabled-fill-color);\n",
              "    box-shadow: none;\n",
              "  }\n",
              "\n",
              "  .colab-df-spinner {\n",
              "    border: 2px solid var(--fill-color);\n",
              "    border-color: transparent;\n",
              "    border-bottom-color: var(--fill-color);\n",
              "    animation:\n",
              "      spin 1s steps(1) infinite;\n",
              "  }\n",
              "\n",
              "  @keyframes spin {\n",
              "    0% {\n",
              "      border-color: transparent;\n",
              "      border-bottom-color: var(--fill-color);\n",
              "      border-left-color: var(--fill-color);\n",
              "    }\n",
              "    20% {\n",
              "      border-color: transparent;\n",
              "      border-left-color: var(--fill-color);\n",
              "      border-top-color: var(--fill-color);\n",
              "    }\n",
              "    30% {\n",
              "      border-color: transparent;\n",
              "      border-left-color: var(--fill-color);\n",
              "      border-top-color: var(--fill-color);\n",
              "      border-right-color: var(--fill-color);\n",
              "    }\n",
              "    40% {\n",
              "      border-color: transparent;\n",
              "      border-right-color: var(--fill-color);\n",
              "      border-top-color: var(--fill-color);\n",
              "    }\n",
              "    60% {\n",
              "      border-color: transparent;\n",
              "      border-right-color: var(--fill-color);\n",
              "    }\n",
              "    80% {\n",
              "      border-color: transparent;\n",
              "      border-right-color: var(--fill-color);\n",
              "      border-bottom-color: var(--fill-color);\n",
              "    }\n",
              "    90% {\n",
              "      border-color: transparent;\n",
              "      border-bottom-color: var(--fill-color);\n",
              "    }\n",
              "  }\n",
              "</style>\n",
              "\n",
              "      <script>\n",
              "        async function quickchart(key) {\n",
              "          const quickchartButtonEl =\n",
              "            document.querySelector('#' + key + ' button');\n",
              "          quickchartButtonEl.disabled = true;  // To prevent multiple clicks.\n",
              "          quickchartButtonEl.classList.add('colab-df-spinner');\n",
              "          try {\n",
              "            const charts = await google.colab.kernel.invokeFunction(\n",
              "                'suggestCharts', [key], {});\n",
              "          } catch (error) {\n",
              "            console.error('Error during call to suggestCharts:', error);\n",
              "          }\n",
              "          quickchartButtonEl.classList.remove('colab-df-spinner');\n",
              "          quickchartButtonEl.classList.add('colab-df-quickchart-complete');\n",
              "        }\n",
              "        (() => {\n",
              "          let quickchartButtonEl =\n",
              "            document.querySelector('#df-57bd80ef-3fc8-4324-b014-5ecdcfa753a0 button');\n",
              "          quickchartButtonEl.style.display =\n",
              "            google.colab.kernel.accessAllowed ? 'block' : 'none';\n",
              "        })();\n",
              "      </script>\n",
              "    </div>\n",
              "\n",
              "  <div id=\"id_13e22ce3-adea-4300-8c6d-dd3b99b565de\">\n",
              "    <style>\n",
              "      .colab-df-generate {\n",
              "        background-color: #E8F0FE;\n",
              "        border: none;\n",
              "        border-radius: 50%;\n",
              "        cursor: pointer;\n",
              "        display: none;\n",
              "        fill: #1967D2;\n",
              "        height: 32px;\n",
              "        padding: 0 0 0 0;\n",
              "        width: 32px;\n",
              "      }\n",
              "\n",
              "      .colab-df-generate:hover {\n",
              "        background-color: #E2EBFA;\n",
              "        box-shadow: 0px 1px 2px rgba(60, 64, 67, 0.3), 0px 1px 3px 1px rgba(60, 64, 67, 0.15);\n",
              "        fill: #174EA6;\n",
              "      }\n",
              "\n",
              "      [theme=dark] .colab-df-generate {\n",
              "        background-color: #3B4455;\n",
              "        fill: #D2E3FC;\n",
              "      }\n",
              "\n",
              "      [theme=dark] .colab-df-generate:hover {\n",
              "        background-color: #434B5C;\n",
              "        box-shadow: 0px 1px 3px 1px rgba(0, 0, 0, 0.15);\n",
              "        filter: drop-shadow(0px 1px 2px rgba(0, 0, 0, 0.3));\n",
              "        fill: #FFFFFF;\n",
              "      }\n",
              "    </style>\n",
              "    <button class=\"colab-df-generate\" onclick=\"generateWithVariable('ratings_subset')\"\n",
              "            title=\"Generate code using this dataframe.\"\n",
              "            style=\"display:none;\">\n",
              "\n",
              "  <svg xmlns=\"http://www.w3.org/2000/svg\" height=\"24px\"viewBox=\"0 0 24 24\"\n",
              "       width=\"24px\">\n",
              "    <path d=\"M7,19H8.4L18.45,9,17,7.55,7,17.6ZM5,21V16.75L18.45,3.32a2,2,0,0,1,2.83,0l1.4,1.43a1.91,1.91,0,0,1,.58,1.4,1.91,1.91,0,0,1-.58,1.4L9.25,21ZM18.45,9,17,7.55Zm-12,3A5.31,5.31,0,0,0,4.9,8.1,5.31,5.31,0,0,0,1,6.5,5.31,5.31,0,0,0,4.9,4.9,5.31,5.31,0,0,0,6.5,1,5.31,5.31,0,0,0,8.1,4.9,5.31,5.31,0,0,0,12,6.5,5.46,5.46,0,0,0,6.5,12Z\"/>\n",
              "  </svg>\n",
              "    </button>\n",
              "    <script>\n",
              "      (() => {\n",
              "      const buttonEl =\n",
              "        document.querySelector('#id_13e22ce3-adea-4300-8c6d-dd3b99b565de button.colab-df-generate');\n",
              "      buttonEl.style.display =\n",
              "        google.colab.kernel.accessAllowed ? 'block' : 'none';\n",
              "\n",
              "      buttonEl.onclick = () => {\n",
              "        google.colab.notebook.generateWithVariable('ratings_subset');\n",
              "      }\n",
              "      })();\n",
              "    </script>\n",
              "  </div>\n",
              "\n",
              "    </div>\n",
              "  </div>\n"
            ],
            "application/vnd.google.colaboratory.intrinsic+json": {
              "type": "dataframe",
              "variable_name": "ratings_subset"
            }
          },
          "metadata": {},
          "execution_count": 71
        }
      ],
      "execution_count": 71
    },
    {
      "cell_type": "code",
      "source": [
        "for col in ratings_subset.columns:\n",
        "    unique_values = ratings_subset[col].unique()\n",
        "    print(f\"Kolom '{col}' memiliki {len(unique_values)} nilai unik:\")\n",
        "    print(unique_values)\n"
      ],
      "metadata": {
        "trusted": true,
        "execution": {
          "iopub.status.busy": "2025-05-29T02:36:38.399396Z",
          "iopub.execute_input": "2025-05-29T02:36:38.399652Z",
          "iopub.status.idle": "2025-05-29T02:36:38.547724Z",
          "shell.execute_reply.started": "2025-05-29T02:36:38.399630Z",
          "shell.execute_reply": "2025-05-29T02:36:38.547042Z"
        },
        "colab": {
          "base_uri": "https://localhost:8080/"
        },
        "id": "yWaHbLlfsFrW",
        "outputId": "d1107295-dc9f-4986-a71f-4ceb74ac9819"
      },
      "outputs": [
        {
          "output_type": "stream",
          "name": "stdout",
          "text": [
            "Kolom 'User-ID' memiliki 90679 nilai unik:\n",
            "[276725 276726 276727 ... 276706 276709 276721]\n",
            "Kolom 'ISBN' memiliki 265539 nilai unik:\n",
            "['034545104X' '0155061224' '0446520802' ... '0590907301' '0679752714'\n",
            " '0806917695']\n",
            "Kolom 'Book-Rating' memiliki 11 nilai unik:\n",
            "[ 0  5  3  6  7  9  8 10  4  2  1]\n"
          ]
        }
      ],
      "execution_count": 72
    },
    {
      "cell_type": "code",
      "source": [
        "user_ids = ratings_subset['User-ID'].unique().tolist()\n",
        "print('List User-ID:', user_ids[:10])\n",
        "\n",
        "book_isbns = ratings_subset['ISBN'].unique().tolist()\n",
        "print('List ISBN:', book_isbns[:10])"
      ],
      "metadata": {
        "trusted": true,
        "execution": {
          "iopub.status.busy": "2025-05-29T02:36:38.548611Z",
          "iopub.execute_input": "2025-05-29T02:36:38.549345Z",
          "iopub.status.idle": "2025-05-29T02:36:38.686798Z",
          "shell.execute_reply.started": "2025-05-29T02:36:38.549325Z",
          "shell.execute_reply": "2025-05-29T02:36:38.686202Z"
        },
        "colab": {
          "base_uri": "https://localhost:8080/"
        },
        "id": "hBg0SQ_fsFrW",
        "outputId": "ad55c763-97e5-4bd4-e790-f6344b6bffdd"
      },
      "outputs": [
        {
          "output_type": "stream",
          "name": "stdout",
          "text": [
            "List User-ID: [276725, 276726, 276727, 276729, 276733, 276744, 276746, 276747, 276748, 276751]\n",
            "List ISBN: ['034545104X', '0155061224', '0446520802', '052165615X', '0521795028', '2080674722', '038550120X', '0425115801', '0449006522', '0553561618']\n"
          ]
        }
      ],
      "execution_count": 73
    },
    {
      "cell_type": "markdown",
      "source": [
        "### Encoding"
      ],
      "metadata": {
        "id": "2COXCzmUsFrW"
      }
    },
    {
      "cell_type": "code",
      "source": [
        "# User-ID\n",
        "user_to_user_encoded = {user_id: idx for idx, user_id in enumerate(user_ids)}\n",
        "user_encoded_to_user = {idx: user_id for idx, user_id in enumerate(user_ids)}\n",
        "\n",
        "# ISBN\n",
        "book_to_book_encoded = {isbn: idx for idx, isbn in enumerate(book_isbns)}\n",
        "book_encoded_to_book = {idx: isbn for idx, isbn in enumerate(book_isbns)}\n",
        "\n",
        "print('Encoded User-ID:', list(user_to_user_encoded.items())[:5])\n",
        "print('Encoded ISBN:', list(book_to_book_encoded.items())[:5])"
      ],
      "metadata": {
        "trusted": true,
        "execution": {
          "iopub.status.busy": "2025-05-29T02:36:38.687520Z",
          "iopub.execute_input": "2025-05-29T02:36:38.687797Z",
          "iopub.status.idle": "2025-05-29T02:36:38.847481Z",
          "shell.execute_reply.started": "2025-05-29T02:36:38.687774Z",
          "shell.execute_reply": "2025-05-29T02:36:38.846924Z"
        },
        "colab": {
          "base_uri": "https://localhost:8080/"
        },
        "id": "mUmhWTgusFrW",
        "outputId": "2d1686b8-a3b5-4503-8f27-328e0dc465b7"
      },
      "outputs": [
        {
          "output_type": "stream",
          "name": "stdout",
          "text": [
            "Encoded User-ID: [(276725, 0), (276726, 1), (276727, 2), (276729, 3), (276733, 4)]\n",
            "Encoded ISBN: [('034545104X', 0), ('0155061224', 1), ('0446520802', 2), ('052165615X', 3), ('0521795028', 4)]\n"
          ]
        }
      ],
      "execution_count": 74
    },
    {
      "cell_type": "code",
      "source": [
        "ratings_subset['user'] = ratings_subset['User-ID'].map(user_to_user_encoded)\n",
        "\n",
        "ratings_subset['book'] = ratings_subset['ISBN'].map(book_to_book_encoded)"
      ],
      "metadata": {
        "trusted": true,
        "execution": {
          "iopub.status.busy": "2025-05-29T02:36:38.848187Z",
          "iopub.execute_input": "2025-05-29T02:36:38.848385Z",
          "iopub.status.idle": "2025-05-29T02:36:39.176593Z",
          "shell.execute_reply.started": "2025-05-29T02:36:38.848370Z",
          "shell.execute_reply": "2025-05-29T02:36:39.175882Z"
        },
        "id": "fwNIiRtqsFrW"
      },
      "outputs": [],
      "execution_count": 75
    },
    {
      "cell_type": "markdown",
      "source": [
        "hitung jumlah pengguna, buku, nilai min rating, dan max rating."
      ],
      "metadata": {
        "id": "dmv5aGZ8sFrX"
      }
    },
    {
      "cell_type": "code",
      "source": [
        "num_users = len(user_to_user_encoded)\n",
        "print('Number of Users:', num_users)\n",
        "\n",
        "num_books = len(book_encoded_to_book)\n",
        "print('Number of Items:', num_books)\n",
        "\n",
        "ratings_subset['Book-Rating'] = ratings_subset['Book-Rating'].astype(np.float32)\n",
        "\n",
        "min_rating = ratings_subset['Book-Rating'].min()\n",
        "\n",
        "max_rating = ratings_subset['Book-Rating'].max()\n",
        "\n",
        "print(f'Number of Users: {num_users}, Number of Items: {num_books}, Min Rating: {min_rating}, Max Rating: {max_rating}')"
      ],
      "metadata": {
        "trusted": true,
        "execution": {
          "iopub.status.busy": "2025-05-29T02:37:14.070460Z",
          "iopub.execute_input": "2025-05-29T02:37:14.071103Z",
          "iopub.status.idle": "2025-05-29T02:37:14.083070Z",
          "shell.execute_reply.started": "2025-05-29T02:37:14.071079Z",
          "shell.execute_reply": "2025-05-29T02:37:14.082470Z"
        },
        "colab": {
          "base_uri": "https://localhost:8080/"
        },
        "id": "_5rYj2F8sFrX",
        "outputId": "c90fb746-7633-4d6a-d228-cf783b8ae271"
      },
      "outputs": [
        {
          "output_type": "stream",
          "name": "stdout",
          "text": [
            "Number of Users: 90679\n",
            "Number of Items: 265539\n",
            "Number of Users: 90679, Number of Items: 265539, Min Rating: 0.0, Max Rating: 10.0\n"
          ]
        }
      ],
      "execution_count": 76
    },
    {
      "cell_type": "markdown",
      "source": [
        "### Membagi Data untuk Training dan Validasi"
      ],
      "metadata": {
        "id": "mNPyB-FmsFrX"
      }
    },
    {
      "cell_type": "markdown",
      "source": [
        "Mengacak dataset"
      ],
      "metadata": {
        "id": "6pERCDP5sFrX"
      }
    },
    {
      "cell_type": "code",
      "source": [
        "ratings_subset = ratings_subset.sample(frac=1, random_state=42)\n",
        "ratings_subset"
      ],
      "metadata": {
        "trusted": true,
        "execution": {
          "iopub.status.busy": "2025-05-29T02:37:17.151258Z",
          "iopub.execute_input": "2025-05-29T02:37:17.151987Z",
          "iopub.status.idle": "2025-05-29T02:37:17.296761Z",
          "shell.execute_reply.started": "2025-05-29T02:37:17.151963Z",
          "shell.execute_reply": "2025-05-29T02:37:17.296108Z"
        },
        "colab": {
          "base_uri": "https://localhost:8080/",
          "height": 424
        },
        "id": "bXqM8VSQsFrX",
        "outputId": "266288b6-366d-4d9d-bb11-259b5877fc41"
      },
      "outputs": [
        {
          "output_type": "execute_result",
          "data": {
            "text/plain": [
              "        User-ID        ISBN  Book-Rating   user    book\n",
              "11719      1848  0440211727          0.0   1289    2022\n",
              "260492    69971  0140100261          0.0  23633  114864\n",
              "870774   236625  1561790966          0.0  77544  216425\n",
              "408019   110973  0373105452          0.0  36799  156057\n",
              "470751   128610  0609610031          0.0  42582   13482\n",
              "...         ...         ...          ...    ...     ...\n",
              "259178    69697  0553585681          0.0  23561    9509\n",
              "365838    98741  0849936543          0.0  32908   87923\n",
              "131932    34227  0553569783          9.0  11846   31053\n",
              "671155   184299  0345300556          0.0  60540   39619\n",
              "121958    31556  0380759500          0.0  10922   26934\n",
              "\n",
              "[1017071 rows x 5 columns]"
            ],
            "text/html": [
              "\n",
              "  <div id=\"df-58d56491-a383-4689-bdbb-31c5fdf02c50\" class=\"colab-df-container\">\n",
              "    <div>\n",
              "<style scoped>\n",
              "    .dataframe tbody tr th:only-of-type {\n",
              "        vertical-align: middle;\n",
              "    }\n",
              "\n",
              "    .dataframe tbody tr th {\n",
              "        vertical-align: top;\n",
              "    }\n",
              "\n",
              "    .dataframe thead th {\n",
              "        text-align: right;\n",
              "    }\n",
              "</style>\n",
              "<table border=\"1\" class=\"dataframe\">\n",
              "  <thead>\n",
              "    <tr style=\"text-align: right;\">\n",
              "      <th></th>\n",
              "      <th>User-ID</th>\n",
              "      <th>ISBN</th>\n",
              "      <th>Book-Rating</th>\n",
              "      <th>user</th>\n",
              "      <th>book</th>\n",
              "    </tr>\n",
              "  </thead>\n",
              "  <tbody>\n",
              "    <tr>\n",
              "      <th>11719</th>\n",
              "      <td>1848</td>\n",
              "      <td>0440211727</td>\n",
              "      <td>0.0</td>\n",
              "      <td>1289</td>\n",
              "      <td>2022</td>\n",
              "    </tr>\n",
              "    <tr>\n",
              "      <th>260492</th>\n",
              "      <td>69971</td>\n",
              "      <td>0140100261</td>\n",
              "      <td>0.0</td>\n",
              "      <td>23633</td>\n",
              "      <td>114864</td>\n",
              "    </tr>\n",
              "    <tr>\n",
              "      <th>870774</th>\n",
              "      <td>236625</td>\n",
              "      <td>1561790966</td>\n",
              "      <td>0.0</td>\n",
              "      <td>77544</td>\n",
              "      <td>216425</td>\n",
              "    </tr>\n",
              "    <tr>\n",
              "      <th>408019</th>\n",
              "      <td>110973</td>\n",
              "      <td>0373105452</td>\n",
              "      <td>0.0</td>\n",
              "      <td>36799</td>\n",
              "      <td>156057</td>\n",
              "    </tr>\n",
              "    <tr>\n",
              "      <th>470751</th>\n",
              "      <td>128610</td>\n",
              "      <td>0609610031</td>\n",
              "      <td>0.0</td>\n",
              "      <td>42582</td>\n",
              "      <td>13482</td>\n",
              "    </tr>\n",
              "    <tr>\n",
              "      <th>...</th>\n",
              "      <td>...</td>\n",
              "      <td>...</td>\n",
              "      <td>...</td>\n",
              "      <td>...</td>\n",
              "      <td>...</td>\n",
              "    </tr>\n",
              "    <tr>\n",
              "      <th>259178</th>\n",
              "      <td>69697</td>\n",
              "      <td>0553585681</td>\n",
              "      <td>0.0</td>\n",
              "      <td>23561</td>\n",
              "      <td>9509</td>\n",
              "    </tr>\n",
              "    <tr>\n",
              "      <th>365838</th>\n",
              "      <td>98741</td>\n",
              "      <td>0849936543</td>\n",
              "      <td>0.0</td>\n",
              "      <td>32908</td>\n",
              "      <td>87923</td>\n",
              "    </tr>\n",
              "    <tr>\n",
              "      <th>131932</th>\n",
              "      <td>34227</td>\n",
              "      <td>0553569783</td>\n",
              "      <td>9.0</td>\n",
              "      <td>11846</td>\n",
              "      <td>31053</td>\n",
              "    </tr>\n",
              "    <tr>\n",
              "      <th>671155</th>\n",
              "      <td>184299</td>\n",
              "      <td>0345300556</td>\n",
              "      <td>0.0</td>\n",
              "      <td>60540</td>\n",
              "      <td>39619</td>\n",
              "    </tr>\n",
              "    <tr>\n",
              "      <th>121958</th>\n",
              "      <td>31556</td>\n",
              "      <td>0380759500</td>\n",
              "      <td>0.0</td>\n",
              "      <td>10922</td>\n",
              "      <td>26934</td>\n",
              "    </tr>\n",
              "  </tbody>\n",
              "</table>\n",
              "<p>1017071 rows × 5 columns</p>\n",
              "</div>\n",
              "    <div class=\"colab-df-buttons\">\n",
              "\n",
              "  <div class=\"colab-df-container\">\n",
              "    <button class=\"colab-df-convert\" onclick=\"convertToInteractive('df-58d56491-a383-4689-bdbb-31c5fdf02c50')\"\n",
              "            title=\"Convert this dataframe to an interactive table.\"\n",
              "            style=\"display:none;\">\n",
              "\n",
              "  <svg xmlns=\"http://www.w3.org/2000/svg\" height=\"24px\" viewBox=\"0 -960 960 960\">\n",
              "    <path d=\"M120-120v-720h720v720H120Zm60-500h600v-160H180v160Zm220 220h160v-160H400v160Zm0 220h160v-160H400v160ZM180-400h160v-160H180v160Zm440 0h160v-160H620v160ZM180-180h160v-160H180v160Zm440 0h160v-160H620v160Z\"/>\n",
              "  </svg>\n",
              "    </button>\n",
              "\n",
              "  <style>\n",
              "    .colab-df-container {\n",
              "      display:flex;\n",
              "      gap: 12px;\n",
              "    }\n",
              "\n",
              "    .colab-df-convert {\n",
              "      background-color: #E8F0FE;\n",
              "      border: none;\n",
              "      border-radius: 50%;\n",
              "      cursor: pointer;\n",
              "      display: none;\n",
              "      fill: #1967D2;\n",
              "      height: 32px;\n",
              "      padding: 0 0 0 0;\n",
              "      width: 32px;\n",
              "    }\n",
              "\n",
              "    .colab-df-convert:hover {\n",
              "      background-color: #E2EBFA;\n",
              "      box-shadow: 0px 1px 2px rgba(60, 64, 67, 0.3), 0px 1px 3px 1px rgba(60, 64, 67, 0.15);\n",
              "      fill: #174EA6;\n",
              "    }\n",
              "\n",
              "    .colab-df-buttons div {\n",
              "      margin-bottom: 4px;\n",
              "    }\n",
              "\n",
              "    [theme=dark] .colab-df-convert {\n",
              "      background-color: #3B4455;\n",
              "      fill: #D2E3FC;\n",
              "    }\n",
              "\n",
              "    [theme=dark] .colab-df-convert:hover {\n",
              "      background-color: #434B5C;\n",
              "      box-shadow: 0px 1px 3px 1px rgba(0, 0, 0, 0.15);\n",
              "      filter: drop-shadow(0px 1px 2px rgba(0, 0, 0, 0.3));\n",
              "      fill: #FFFFFF;\n",
              "    }\n",
              "  </style>\n",
              "\n",
              "    <script>\n",
              "      const buttonEl =\n",
              "        document.querySelector('#df-58d56491-a383-4689-bdbb-31c5fdf02c50 button.colab-df-convert');\n",
              "      buttonEl.style.display =\n",
              "        google.colab.kernel.accessAllowed ? 'block' : 'none';\n",
              "\n",
              "      async function convertToInteractive(key) {\n",
              "        const element = document.querySelector('#df-58d56491-a383-4689-bdbb-31c5fdf02c50');\n",
              "        const dataTable =\n",
              "          await google.colab.kernel.invokeFunction('convertToInteractive',\n",
              "                                                    [key], {});\n",
              "        if (!dataTable) return;\n",
              "\n",
              "        const docLinkHtml = 'Like what you see? Visit the ' +\n",
              "          '<a target=\"_blank\" href=https://colab.research.google.com/notebooks/data_table.ipynb>data table notebook</a>'\n",
              "          + ' to learn more about interactive tables.';\n",
              "        element.innerHTML = '';\n",
              "        dataTable['output_type'] = 'display_data';\n",
              "        await google.colab.output.renderOutput(dataTable, element);\n",
              "        const docLink = document.createElement('div');\n",
              "        docLink.innerHTML = docLinkHtml;\n",
              "        element.appendChild(docLink);\n",
              "      }\n",
              "    </script>\n",
              "  </div>\n",
              "\n",
              "\n",
              "    <div id=\"df-86b5246d-2cc3-47bb-9c3e-cfafae3460b3\">\n",
              "      <button class=\"colab-df-quickchart\" onclick=\"quickchart('df-86b5246d-2cc3-47bb-9c3e-cfafae3460b3')\"\n",
              "                title=\"Suggest charts\"\n",
              "                style=\"display:none;\">\n",
              "\n",
              "<svg xmlns=\"http://www.w3.org/2000/svg\" height=\"24px\"viewBox=\"0 0 24 24\"\n",
              "     width=\"24px\">\n",
              "    <g>\n",
              "        <path d=\"M19 3H5c-1.1 0-2 .9-2 2v14c0 1.1.9 2 2 2h14c1.1 0 2-.9 2-2V5c0-1.1-.9-2-2-2zM9 17H7v-7h2v7zm4 0h-2V7h2v10zm4 0h-2v-4h2v4z\"/>\n",
              "    </g>\n",
              "</svg>\n",
              "      </button>\n",
              "\n",
              "<style>\n",
              "  .colab-df-quickchart {\n",
              "      --bg-color: #E8F0FE;\n",
              "      --fill-color: #1967D2;\n",
              "      --hover-bg-color: #E2EBFA;\n",
              "      --hover-fill-color: #174EA6;\n",
              "      --disabled-fill-color: #AAA;\n",
              "      --disabled-bg-color: #DDD;\n",
              "  }\n",
              "\n",
              "  [theme=dark] .colab-df-quickchart {\n",
              "      --bg-color: #3B4455;\n",
              "      --fill-color: #D2E3FC;\n",
              "      --hover-bg-color: #434B5C;\n",
              "      --hover-fill-color: #FFFFFF;\n",
              "      --disabled-bg-color: #3B4455;\n",
              "      --disabled-fill-color: #666;\n",
              "  }\n",
              "\n",
              "  .colab-df-quickchart {\n",
              "    background-color: var(--bg-color);\n",
              "    border: none;\n",
              "    border-radius: 50%;\n",
              "    cursor: pointer;\n",
              "    display: none;\n",
              "    fill: var(--fill-color);\n",
              "    height: 32px;\n",
              "    padding: 0;\n",
              "    width: 32px;\n",
              "  }\n",
              "\n",
              "  .colab-df-quickchart:hover {\n",
              "    background-color: var(--hover-bg-color);\n",
              "    box-shadow: 0 1px 2px rgba(60, 64, 67, 0.3), 0 1px 3px 1px rgba(60, 64, 67, 0.15);\n",
              "    fill: var(--button-hover-fill-color);\n",
              "  }\n",
              "\n",
              "  .colab-df-quickchart-complete:disabled,\n",
              "  .colab-df-quickchart-complete:disabled:hover {\n",
              "    background-color: var(--disabled-bg-color);\n",
              "    fill: var(--disabled-fill-color);\n",
              "    box-shadow: none;\n",
              "  }\n",
              "\n",
              "  .colab-df-spinner {\n",
              "    border: 2px solid var(--fill-color);\n",
              "    border-color: transparent;\n",
              "    border-bottom-color: var(--fill-color);\n",
              "    animation:\n",
              "      spin 1s steps(1) infinite;\n",
              "  }\n",
              "\n",
              "  @keyframes spin {\n",
              "    0% {\n",
              "      border-color: transparent;\n",
              "      border-bottom-color: var(--fill-color);\n",
              "      border-left-color: var(--fill-color);\n",
              "    }\n",
              "    20% {\n",
              "      border-color: transparent;\n",
              "      border-left-color: var(--fill-color);\n",
              "      border-top-color: var(--fill-color);\n",
              "    }\n",
              "    30% {\n",
              "      border-color: transparent;\n",
              "      border-left-color: var(--fill-color);\n",
              "      border-top-color: var(--fill-color);\n",
              "      border-right-color: var(--fill-color);\n",
              "    }\n",
              "    40% {\n",
              "      border-color: transparent;\n",
              "      border-right-color: var(--fill-color);\n",
              "      border-top-color: var(--fill-color);\n",
              "    }\n",
              "    60% {\n",
              "      border-color: transparent;\n",
              "      border-right-color: var(--fill-color);\n",
              "    }\n",
              "    80% {\n",
              "      border-color: transparent;\n",
              "      border-right-color: var(--fill-color);\n",
              "      border-bottom-color: var(--fill-color);\n",
              "    }\n",
              "    90% {\n",
              "      border-color: transparent;\n",
              "      border-bottom-color: var(--fill-color);\n",
              "    }\n",
              "  }\n",
              "</style>\n",
              "\n",
              "      <script>\n",
              "        async function quickchart(key) {\n",
              "          const quickchartButtonEl =\n",
              "            document.querySelector('#' + key + ' button');\n",
              "          quickchartButtonEl.disabled = true;  // To prevent multiple clicks.\n",
              "          quickchartButtonEl.classList.add('colab-df-spinner');\n",
              "          try {\n",
              "            const charts = await google.colab.kernel.invokeFunction(\n",
              "                'suggestCharts', [key], {});\n",
              "          } catch (error) {\n",
              "            console.error('Error during call to suggestCharts:', error);\n",
              "          }\n",
              "          quickchartButtonEl.classList.remove('colab-df-spinner');\n",
              "          quickchartButtonEl.classList.add('colab-df-quickchart-complete');\n",
              "        }\n",
              "        (() => {\n",
              "          let quickchartButtonEl =\n",
              "            document.querySelector('#df-86b5246d-2cc3-47bb-9c3e-cfafae3460b3 button');\n",
              "          quickchartButtonEl.style.display =\n",
              "            google.colab.kernel.accessAllowed ? 'block' : 'none';\n",
              "        })();\n",
              "      </script>\n",
              "    </div>\n",
              "\n",
              "  <div id=\"id_7e202b1f-96b5-460d-929a-40082fc121ad\">\n",
              "    <style>\n",
              "      .colab-df-generate {\n",
              "        background-color: #E8F0FE;\n",
              "        border: none;\n",
              "        border-radius: 50%;\n",
              "        cursor: pointer;\n",
              "        display: none;\n",
              "        fill: #1967D2;\n",
              "        height: 32px;\n",
              "        padding: 0 0 0 0;\n",
              "        width: 32px;\n",
              "      }\n",
              "\n",
              "      .colab-df-generate:hover {\n",
              "        background-color: #E2EBFA;\n",
              "        box-shadow: 0px 1px 2px rgba(60, 64, 67, 0.3), 0px 1px 3px 1px rgba(60, 64, 67, 0.15);\n",
              "        fill: #174EA6;\n",
              "      }\n",
              "\n",
              "      [theme=dark] .colab-df-generate {\n",
              "        background-color: #3B4455;\n",
              "        fill: #D2E3FC;\n",
              "      }\n",
              "\n",
              "      [theme=dark] .colab-df-generate:hover {\n",
              "        background-color: #434B5C;\n",
              "        box-shadow: 0px 1px 3px 1px rgba(0, 0, 0, 0.15);\n",
              "        filter: drop-shadow(0px 1px 2px rgba(0, 0, 0, 0.3));\n",
              "        fill: #FFFFFF;\n",
              "      }\n",
              "    </style>\n",
              "    <button class=\"colab-df-generate\" onclick=\"generateWithVariable('ratings_subset')\"\n",
              "            title=\"Generate code using this dataframe.\"\n",
              "            style=\"display:none;\">\n",
              "\n",
              "  <svg xmlns=\"http://www.w3.org/2000/svg\" height=\"24px\"viewBox=\"0 0 24 24\"\n",
              "       width=\"24px\">\n",
              "    <path d=\"M7,19H8.4L18.45,9,17,7.55,7,17.6ZM5,21V16.75L18.45,3.32a2,2,0,0,1,2.83,0l1.4,1.43a1.91,1.91,0,0,1,.58,1.4,1.91,1.91,0,0,1-.58,1.4L9.25,21ZM18.45,9,17,7.55Zm-12,3A5.31,5.31,0,0,0,4.9,8.1,5.31,5.31,0,0,0,1,6.5,5.31,5.31,0,0,0,4.9,4.9,5.31,5.31,0,0,0,6.5,1,5.31,5.31,0,0,0,8.1,4.9,5.31,5.31,0,0,0,12,6.5,5.46,5.46,0,0,0,6.5,12Z\"/>\n",
              "  </svg>\n",
              "    </button>\n",
              "    <script>\n",
              "      (() => {\n",
              "      const buttonEl =\n",
              "        document.querySelector('#id_7e202b1f-96b5-460d-929a-40082fc121ad button.colab-df-generate');\n",
              "      buttonEl.style.display =\n",
              "        google.colab.kernel.accessAllowed ? 'block' : 'none';\n",
              "\n",
              "      buttonEl.onclick = () => {\n",
              "        google.colab.notebook.generateWithVariable('ratings_subset');\n",
              "      }\n",
              "      })();\n",
              "    </script>\n",
              "  </div>\n",
              "\n",
              "    </div>\n",
              "  </div>\n"
            ],
            "application/vnd.google.colaboratory.intrinsic+json": {
              "type": "dataframe",
              "variable_name": "ratings_subset"
            }
          },
          "metadata": {},
          "execution_count": 77
        }
      ],
      "execution_count": 77
    },
    {
      "cell_type": "markdown",
      "source": [
        "### Normalisasi dan Split Data"
      ],
      "metadata": {
        "id": "u_J3W03ysFrX"
      }
    },
    {
      "cell_type": "code",
      "source": [
        "x = ratings_subset[['user', 'book']].values\n",
        "\n",
        "y = ratings_subset['Book-Rating'].apply(lambda r: (r - min_rating) / (max_rating - min_rating)).values\n",
        "\n",
        "train_indices = int(0.8 * ratings_subset.shape[0])\n",
        "\n",
        "x_train, x_val = x[:train_indices], x[train_indices:]\n",
        "y_train, y_val = y[:train_indices], y[train_indices:]\n",
        "\n",
        "print(\"Contoh data x (user, book):\\n\", x_train[:5])\n",
        "print(\"Contoh data y (rating normalized):\\n\", y_train[:5])"
      ],
      "metadata": {
        "trusted": true,
        "execution": {
          "iopub.status.busy": "2025-05-29T02:37:19.834349Z",
          "iopub.execute_input": "2025-05-29T02:37:19.835042Z",
          "iopub.status.idle": "2025-05-29T02:37:20.150491Z",
          "shell.execute_reply.started": "2025-05-29T02:37:19.835013Z",
          "shell.execute_reply": "2025-05-29T02:37:20.149829Z"
        },
        "colab": {
          "base_uri": "https://localhost:8080/"
        },
        "id": "VNp6rJI6sFrX",
        "outputId": "a00ccd55-dfe3-4593-813c-da3655ba3fad"
      },
      "outputs": [
        {
          "output_type": "stream",
          "name": "stdout",
          "text": [
            "Contoh data x (user, book):\n",
            " [[  1289   2022]\n",
            " [ 23633 114864]\n",
            " [ 77544 216425]\n",
            " [ 36799 156057]\n",
            " [ 42582  13482]]\n",
            "Contoh data y (rating normalized):\n",
            " [0. 0. 0. 0. 0.]\n"
          ]
        }
      ],
      "execution_count": 78
    },
    {
      "cell_type": "markdown",
      "source": [
        "## Model: RecommenderNet"
      ],
      "metadata": {
        "id": "f1yvIfresFrX"
      }
    },
    {
      "cell_type": "markdown",
      "source": [
        "RecommenderNet adalah model rekomendasi yang memanfaatkan embedding untuk memetakan user dan item ke dalam ruang vektor berdimensi rendah, lalu menghitung dot product sebagai prediksi rating atau relevansi."
      ],
      "metadata": {
        "id": "0ewuknJfFfZs"
      }
    },
    {
      "cell_type": "code",
      "source": [
        "class RecommenderNet(tf.keras.Model):\n",
        "\n",
        "  def __init__(self, num_users, num_resto, embedding_size, **kwargs):\n",
        "    super(RecommenderNet, self).__init__(**kwargs)\n",
        "    self.num_users = num_users\n",
        "    self.num_resto = num_resto\n",
        "    self.embedding_size = embedding_size\n",
        "    self.user_embedding = layers.Embedding(\n",
        "        num_users,\n",
        "        embedding_size,\n",
        "        embeddings_initializer = 'he_normal',\n",
        "        embeddings_regularizer = keras.regularizers.l2(1e-6)\n",
        "    )\n",
        "    self.user_bias = layers.Embedding(num_users, 1)\n",
        "    self.resto_embedding = layers.Embedding(\n",
        "        num_resto,\n",
        "        embedding_size,\n",
        "        embeddings_initializer = 'he_normal',\n",
        "        embeddings_regularizer = keras.regularizers.l2(1e-6)\n",
        "    )\n",
        "    self.resto_bias = layers.Embedding(num_resto, 1)\n",
        "\n",
        "  def call(self, inputs):\n",
        "    user_vector = self.user_embedding(inputs[:,0])\n",
        "    user_bias = self.user_bias(inputs[:, 0])\n",
        "    resto_vector = self.resto_embedding(inputs[:, 1])\n",
        "    resto_bias = self.resto_bias(inputs[:, 1])\n",
        "\n",
        "    dot_user_resto = tf.tensordot(user_vector, resto_vector, 2)\n",
        "\n",
        "    x = dot_user_resto + user_bias + resto_bias\n",
        "\n",
        "    return tf.nn.sigmoid(x)"
      ],
      "metadata": {
        "trusted": true,
        "execution": {
          "iopub.status.busy": "2025-05-29T02:38:33.851725Z",
          "iopub.execute_input": "2025-05-29T02:38:33.852459Z",
          "iopub.status.idle": "2025-05-29T02:38:33.859981Z",
          "shell.execute_reply.started": "2025-05-29T02:38:33.852436Z",
          "shell.execute_reply": "2025-05-29T02:38:33.859233Z"
        },
        "id": "dxcjeXsUsFrX"
      },
      "outputs": [],
      "execution_count": 79
    },
    {
      "cell_type": "code",
      "source": [
        "model = RecommenderNet(num_users, num_books, 50)\n",
        "\n",
        "model.compile(\n",
        "    loss = tf.keras.losses.BinaryCrossentropy(),\n",
        "    optimizer = keras.optimizers.Adam(learning_rate=0.001),\n",
        "    metrics=[tf.keras.metrics.RootMeanSquaredError()]\n",
        ")"
      ],
      "metadata": {
        "trusted": true,
        "execution": {
          "iopub.status.busy": "2025-05-29T02:38:41.795714Z",
          "iopub.execute_input": "2025-05-29T02:38:41.795923Z",
          "iopub.status.idle": "2025-05-29T02:38:41.820538Z",
          "shell.execute_reply.started": "2025-05-29T02:38:41.795908Z",
          "shell.execute_reply": "2025-05-29T02:38:41.819991Z"
        },
        "id": "FYBGQQA2sFrX"
      },
      "outputs": [],
      "execution_count": 80
    },
    {
      "cell_type": "markdown",
      "source": [
        "### Memulai Training"
      ],
      "metadata": {
        "id": "HqprBIgUsFrY"
      }
    },
    {
      "cell_type": "code",
      "source": [
        "history = model.fit(\n",
        "    x = x_train,\n",
        "    y = y_train,\n",
        "    batch_size = 8,\n",
        "    epochs = 10,\n",
        "    validation_data = (x_val, y_val)\n",
        ")"
      ],
      "metadata": {
        "trusted": true,
        "execution": {
          "iopub.status.busy": "2025-05-29T02:38:46.338804Z",
          "iopub.execute_input": "2025-05-29T02:38:46.339097Z"
        },
        "colab": {
          "base_uri": "https://localhost:8080/"
        },
        "id": "TW-CCL9EsFrY",
        "outputId": "d7bd3482-0fd7-4cda-8d39-e3b1c2eb5a33"
      },
      "outputs": [
        {
          "output_type": "stream",
          "name": "stdout",
          "text": [
            "Epoch 1/10\n",
            "\u001b[1m101707/101707\u001b[0m \u001b[32m━━━━━━━━━━━━━━━━━━━━\u001b[0m\u001b[37m\u001b[0m \u001b[1m637s\u001b[0m 6ms/step - loss: 0.5835 - root_mean_squared_error: 0.3804 - val_loss: 0.5171 - val_root_mean_squared_error: 0.3434\n",
            "Epoch 2/10\n",
            "\u001b[1m101707/101707\u001b[0m \u001b[32m━━━━━━━━━━━━━━━━━━━━\u001b[0m\u001b[37m\u001b[0m \u001b[1m668s\u001b[0m 7ms/step - loss: 0.5035 - root_mean_squared_error: 0.3349 - val_loss: 0.5163 - val_root_mean_squared_error: 0.3409\n",
            "Epoch 3/10\n",
            "\u001b[1m101707/101707\u001b[0m \u001b[32m━━━━━━━━━━━━━━━━━━━━\u001b[0m\u001b[37m\u001b[0m \u001b[1m634s\u001b[0m 6ms/step - loss: 0.4957 - root_mean_squared_error: 0.3280 - val_loss: 0.5223 - val_root_mean_squared_error: 0.3415\n",
            "Epoch 4/10\n",
            "\u001b[1m101707/101707\u001b[0m \u001b[32m━━━━━━━━━━━━━━━━━━━━\u001b[0m\u001b[37m\u001b[0m \u001b[1m715s\u001b[0m 7ms/step - loss: 0.4929 - root_mean_squared_error: 0.3240 - val_loss: 0.5288 - val_root_mean_squared_error: 0.3427\n",
            "Epoch 5/10\n",
            "\u001b[1m101707/101707\u001b[0m \u001b[32m━━━━━━━━━━━━━━━━━━━━\u001b[0m\u001b[37m\u001b[0m \u001b[1m658s\u001b[0m 6ms/step - loss: 0.4913 - root_mean_squared_error: 0.3216 - val_loss: 0.5356 - val_root_mean_squared_error: 0.3440\n",
            "Epoch 6/10\n",
            "\u001b[1m101707/101707\u001b[0m \u001b[32m━━━━━━━━━━━━━━━━━━━━\u001b[0m\u001b[37m\u001b[0m \u001b[1m681s\u001b[0m 6ms/step - loss: 0.4917 - root_mean_squared_error: 0.3196 - val_loss: 0.5424 - val_root_mean_squared_error: 0.3456\n",
            "Epoch 7/10\n",
            "\u001b[1m101707/101707\u001b[0m \u001b[32m━━━━━━━━━━━━━━━━━━━━\u001b[0m\u001b[37m\u001b[0m \u001b[1m637s\u001b[0m 6ms/step - loss: 0.4918 - root_mean_squared_error: 0.3181 - val_loss: 0.5491 - val_root_mean_squared_error: 0.3470\n",
            "Epoch 8/10\n",
            "\u001b[1m101707/101707\u001b[0m \u001b[32m━━━━━━━━━━━━━━━━━━━━\u001b[0m\u001b[37m\u001b[0m \u001b[1m708s\u001b[0m 7ms/step - loss: 0.4921 - root_mean_squared_error: 0.3166 - val_loss: 0.5554 - val_root_mean_squared_error: 0.3484\n",
            "Epoch 9/10\n",
            "\u001b[1m101707/101707\u001b[0m \u001b[32m━━━━━━━━━━━━━━━━━━━━\u001b[0m\u001b[37m\u001b[0m \u001b[1m651s\u001b[0m 6ms/step - loss: 0.4919 - root_mean_squared_error: 0.3150 - val_loss: 0.5620 - val_root_mean_squared_error: 0.3499\n",
            "Epoch 10/10\n",
            "\u001b[1m101707/101707\u001b[0m \u001b[32m━━━━━━━━━━━━━━━━━━━━\u001b[0m\u001b[37m\u001b[0m \u001b[1m703s\u001b[0m 6ms/step - loss: 0.4922 - root_mean_squared_error: 0.3138 - val_loss: 0.5688 - val_root_mean_squared_error: 0.3514\n"
          ]
        }
      ],
      "execution_count": 81
    },
    {
      "cell_type": "markdown",
      "source": [
        "## Visualisasi Matriks"
      ],
      "metadata": {
        "id": "unspwwPIsFrY"
      }
    },
    {
      "cell_type": "code",
      "source": [
        "plt.plot(history.history['root_mean_squared_error'])\n",
        "plt.plot(history.history['val_root_mean_squared_error'])\n",
        "plt.title('model_metrics')\n",
        "plt.ylabel('root_mean_squared_error')\n",
        "plt.xlabel('epoch')\n",
        "plt.legend(['train', 'test'], loc='upper left')\n",
        "plt.show()"
      ],
      "metadata": {
        "trusted": true,
        "id": "dmxEcBDGsFrY",
        "colab": {
          "base_uri": "https://localhost:8080/",
          "height": 472
        },
        "outputId": "f3d489c0-5811-4b40-e16f-0d4b07c77ae1"
      },
      "outputs": [
        {
          "output_type": "display_data",
          "data": {
            "text/plain": [
              "<Figure size 640x480 with 1 Axes>"
            ],
            "image/png": "[encoded data removed]"
          },
          "metadata": {}
        }
      ],
      "execution_count": 82
    },
    {
      "cell_type": "markdown",
      "source": [
        "Berdasarkan grafik \"model_metrics\", terlihat bahwa nilai root_mean_squared_error (RMSE) pada data training terus menurun seiring bertambahnya epoch, yang menunjukkan model semakin baik dalam mempelajari data pelatihan. Namun, nilai RMSE pada data test awalnya menurun kemudian mulai meningkat setelah epoch 1 atau 2. Ini berarti model mencapai performa optimalnya pada data test di awal epoch dan kemudian mulai kehilangan kemampuan generalisasinya."
      ],
      "metadata": {
        "id": "HyEMy9_svF8K"
      }
    },
    {
      "cell_type": "markdown",
      "source": [
        "## Mendapatkan Rekomendasi"
      ],
      "metadata": {
        "id": "7DddGsx0sFrY"
      }
    },
    {
      "cell_type": "code",
      "source": [
        "import numpy as np\n",
        "\n",
        "user_id = ratings_full['User-ID'].sample(1).iloc[0]\n",
        "\n",
        "books_read_by_user = ratings_full[ratings_full['User-ID'] == user_id]\n",
        "\n",
        "books_not_read = books_cleaned[~books_cleaned['ISBN'].isin(books_read_by_user['ISBN'].values)]['ISBN']\n",
        "books_not_read = list(\n",
        "    set(books_not_read)\n",
        "    .intersection(set(book_to_book_encoded.keys()))\n",
        ")\n",
        "\n",
        "books_not_read = [[book_to_book_encoded.get(isbn)] for isbn in books_not_read]\n",
        "user_encoder = user_to_user_encoded.get(user_id)\n",
        "\n",
        "user_book_array = np.hstack(\n",
        "    ([[user_encoder]] * len(books_not_read), books_not_read)\n",
        ")\n",
        "\n",
        "ratings = model.predict(user_book_array).flatten()\n",
        "\n",
        "top_ratings_indices = ratings.argsort()[-10:][::-1]\n",
        "recommended_book_isbns = [\n",
        "    book_encoded_to_book.get(books_not_read[x][0]) for x in top_ratings_indices\n",
        "]"
      ],
      "metadata": {
        "trusted": true,
        "id": "EkwrldXSsFrY",
        "colab": {
          "base_uri": "https://localhost:8080/"
        },
        "outputId": "60f4db86-5952-49e1-f5d6-7b9bdc23204c"
      },
      "outputs": [
        {
          "output_type": "stream",
          "name": "stdout",
          "text": [
            "\u001b[1m8298/8298\u001b[0m \u001b[32m━━━━━━━━━━━━━━━━━━━━\u001b[0m\u001b[37m\u001b[0m \u001b[1m11s\u001b[0m 1ms/step\n"
          ]
        }
      ],
      "execution_count": 83
    },
    {
      "cell_type": "markdown",
      "source": [
        "Tampilkan hasil"
      ],
      "metadata": {
        "id": "Ze1shxyksFrY"
      }
    },
    {
      "cell_type": "code",
      "source": [
        "print(f\"Rekomendasi untuk User-ID: {user_id}\")\n",
        "print(\"=\" * 30)\n",
        "print(\"Buku dengan rating tertinggi dari user:\")\n",
        "print(\"-\" * 40)\n",
        "\n",
        "top_books_user = (\n",
        "    books_read_by_user.sort_values(by='Book-Rating', ascending=False)\n",
        "    .head(5)['ISBN'].values\n",
        ")\n",
        "\n",
        "book_info_rows = books_cleaned[books_cleaned['ISBN'].isin(top_books_user)]\n",
        "for row in book_info_rows.itertuples():\n",
        "    print(f\"{row._2} by {row._3} | Publisher: {row.Publisher}\")\n",
        "\n",
        "print(\"-\" * 40)\n",
        "print(\"Top 10 Rekomendasi Buku untuk User:\")\n",
        "print(\"-\" * 40)\n",
        "\n",
        "recommended_books = books_cleaned[books_cleaned['ISBN'].isin(recommended_book_isbns)]\n",
        "for row in recommended_books.itertuples():\n",
        "    print(f\"{row._2} by {row._3} | Publisher: {row.Publisher}\")\n"
      ],
      "metadata": {
        "trusted": true,
        "id": "9HRINDrZsFrZ",
        "colab": {
          "base_uri": "https://localhost:8080/"
        },
        "outputId": "00b81063-5cfb-4d58-9276-563007c80571"
      },
      "outputs": [
        {
          "output_type": "stream",
          "name": "stdout",
          "text": [
            "Rekomendasi untuk User-ID: 244998\n",
            "==============================\n",
            "Buku dengan rating tertinggi dari user:\n",
            "----------------------------------------\n",
            "Timeline by MICHAEL CRICHTON | Publisher: Ballantine Books\n",
            "The Beach by Alex Garland | Publisher: Riverhead Books\n",
            "A Question of Blood: An Inspector Rebus Novel by Ian Rankin | Publisher: Little, Brown\n",
            "Detective: A Novel by Arthur Hailey | Publisher: Berkley Publishing Group\n",
            "Absolute Rage by Robert K. Tanenbaum | Publisher: Pocket Books\n",
            "----------------------------------------\n",
            "Top 10 Rekomendasi Buku untuk User:\n",
            "----------------------------------------\n",
            "Les Fleurs Du Mal by C. Baudelaire | Publisher: Livre De Poche French\n",
            "The Outlandish Companion by DIANA GABALDON | Publisher: Delacorte Press\n",
            "The Fellowship of the Ring (The Lord of the Rings, Part 1) by J. R. R. Tolkien | Publisher: Houghton Mifflin Company\n",
            "The Baby Book: Everything You Need to Know About Your Baby from Birth to Age Two by Martha Sears | Publisher: Little, Brown\n",
            "The Indispensable Calvin And Hobbes by Bill Watterson | Publisher: Andrews McMeel Publishing\n",
            "How the Grinch Stole Christmas! by Dr. Seuss | Publisher: Random House Books for Young Readers\n",
            "The Shrinking of Treehorn by Florence Parry Heide | Publisher: Holiday House\n",
            "The Law by Frederic Bastiat | Publisher: Foundation for Economic Education\n",
            "Die unendliche Geschichte: Von A bis Z by Michael Ende | Publisher: Thienemann\n",
            "A Letter to Mrs. Roosevelt by C. COCO DE YOUNG | Publisher: Delacorte Books for Young Readers\n"
          ]
        }
      ],
      "execution_count": 84
    },
    {
      "cell_type": "markdown",
      "source": [
        "Untuk User ID 244998, daftar \"Buku dengan rating tertinggi dari user\" menunjukkan buku-buku yang secara personal disukai oleh pengguna tersebut berdasarkan rating yang diberikan. Daftar \"Top 10 Rekomendasi Buku untuk User\" berisi buku-buku baru yang disarankan oleh sistem rekomendasi, yang mungkin menarik bagi pengguna berdasarkan pola preferensi mereka atau pengguna lain yang serupa. Perbandingan kedua daftar ini dapat menunjukkan seberapa baik sistem rekomendasi menangkap preferensi pengguna atau memperkenalkan keragaman bacaan baru."
      ],
      "metadata": {
        "id": "vYBmbEdVvB0E"
      }
    },
    {
      "cell_type": "markdown",
      "source": [
        "## Evaluasi"
      ],
      "metadata": {
        "id": "AkE6wlCCsFrY"
      }
    },
    {
      "cell_type": "code",
      "source": [
        "from sklearn.metrics import mean_squared_error\n",
        "import numpy as np\n",
        "\n",
        "y_pred = model.predict(x_val).flatten()\n",
        "y_pred = y_pred * (max_rating - min_rating) + min_rating\n",
        "y_actual = y_val * (max_rating - min_rating) + min_rating\n",
        "\n",
        "rmse = np.sqrt(mean_squared_error(y_actual, y_pred))\n",
        "print(f'Root Mean Squared Error (RMSE): {rmse:.4f}')"
      ],
      "metadata": {
        "trusted": true,
        "id": "7mgqVpl-sFrY",
        "colab": {
          "base_uri": "https://localhost:8080/"
        },
        "outputId": "cda93b71-38d8-406a-9aac-25a02ac08499"
      },
      "outputs": [
        {
          "output_type": "stream",
          "name": "stdout",
          "text": [
            "\u001b[1m6357/6357\u001b[0m \u001b[32m━━━━━━━━━━━━━━━━━━━━\u001b[0m\u001b[37m\u001b[0m \u001b[1m8s\u001b[0m 1ms/step\n",
            "Root Mean Squared Error (RMSE): 3.5608\n"
          ]
        }
      ],
      "execution_count": 85
    },
    {
      "cell_type": "markdown",
      "source": [
        "Nilai RMSE menunjukkan bahwa secara rata-rata, prediksi model memiliki deviasi sekitar 3.56 poin dari nilai rating aktual.\n",
        "Karena rating buku dalam dataset berada pada skala 1–10, nilai ini mengindikasikan bahwa prediksi masih cukup jauh dari rating sebenarnya, dan model memerlukan perbaikan lebih lanjut (misalnya dengan tuning dimensi embedding, jumlah epoch, atau regularisasi)."
      ],
      "metadata": {
        "id": "S4IuH1XSHOV5"
      }
    }
  ]
}